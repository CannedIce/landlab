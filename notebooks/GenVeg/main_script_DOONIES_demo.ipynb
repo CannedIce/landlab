{
 "cells": [
  {
   "attachments": {},
   "cell_type": "markdown",
   "metadata": {},
   "source": [
    "# GenVeg Main Script\n",
    "## Test dune vegetation implementation\n",
    "GenVeg is a generalized vegetation growth model that simulates growth due to\n",
    "photosynthesis as well as processes that control vegetation distribution such\n",
    "as mortality, senescence, dispersal, and colonization. The model utilizes a \n",
    "mixture of existing and new Landlab components to setup the model, simulates\n",
    "relevant vegetation community dynamics with the local environment, and analyzes\n",
    "results of the simulation. "
   ]
  },
  {
   "cell_type": "markdown",
   "metadata": {},
   "source": [
    "## Main model control set up\n",
    "### Import components"
   ]
  },
  {
   "cell_type": "code",
   "execution_count": 1,
   "metadata": {},
   "outputs": [],
   "source": [
    "import numpy as np, pandas as pd\n",
    "import os, tempfile\n",
    "from pathlib import Path\n",
    "from datetime import date\n",
    "from matplotlib.pyplot import title, show, figure, plot, subplot, xlabel, ylabel\n",
    "from landlab import RasterModelGrid, imshow_grid, load_params\n",
    "from landlab.data_record import DataRecord\n",
    "from landlab.components.genveg import VegParams, GenVeg\n",
    "from landlab.io.netcdf import write_netcdf, read_netcdf\n",
    "from scipy.io import netcdf_file"
   ]
  },
  {
   "attachments": {},
   "cell_type": "markdown",
   "metadata": {},
   "source": [
    "### Define time controls\n",
    "\n",
    "This sets up a one-year run with a daily timestep."
   ]
  },
  {
   "cell_type": "code",
   "execution_count": 2,
   "metadata": {},
   "outputs": [],
   "source": [
    "sim_start_date = np.datetime64('2010-01-01')\n",
    "tot_sim_len_y = 30\n",
    "veg_time_step_d = 1\n",
    "env_time_step_d = 1\n",
    "dt=np.timedelta64(min([veg_time_step_d,env_time_step_d]),'D')\n",
    "run_length_d=365"
   ]
  },
  {
   "cell_type": "markdown",
   "metadata": {},
   "source": [
    "### Define filenames for input files\n",
    "##### *Note should be located in same folder as this .ipynb"
   ]
  },
  {
   "cell_type": "code",
   "execution_count": 3,
   "metadata": {},
   "outputs": [],
   "source": [
    "VegInputFile = 'GenVeg_Dune_Simulation.xlsx'"
   ]
  },
  {
   "cell_type": "markdown",
   "metadata": {},
   "source": [
    "### Read in parameter and data input files\n",
    "Identify model processes to be included so all required parameters are defined and calculated"
   ]
  },
  {
   "cell_type": "code",
   "execution_count": 4,
   "metadata": {},
   "outputs": [
    {
     "name": "stdout",
     "output_type": "stream",
     "text": [
      "Not enough points to generate logistic function. Assuming zero mortality.\n",
      "{'BTS': {'col_params': {'prob_colonization': 0.01, 'time_to_colonization': 365}, 'dispersal_params': {'max_dist_dispersal': 0.936, 'min_size_dispersal': 0.5, 'unit_cost_dispersal': 4.273504273504273}, 'duration_params': {'growing_season_end': 305, 'growing_season_start': 144, 'reproduction_start': 180, 'senescence_start': 273}, 'grow_params': {'glucose_requirement': {'leaf': 1.463, 'reproductive': 1.414, 'root': 1.444, 'stem': 1.513, 'storage': 1.415}, 'growth_max_biomass': 10.23, 'growth_min_biomass': 0.61, 'k_light_extinct': 0.48, 'light_half_sat': 100, 'p_max': 0.05, 'plant_part_max': {'leaf': 4, 'reproductive': 4, 'root': 1.23, 'stem': 5, 'storage': 1}, 'plant_part_min': {'leaf': 0.5, 'reproductive': 0, 'root': 0.01, 'stem': 0.1, 'storage': 0}, 'respiration_coefficient': {'leaf': 0.03, 'reproductive': 0.01, 'root': 0.015, 'stem': 0.015, 'storage': 0.01}, 'root_to_leaf': {'a': 0.031, 'b1': 0.951, 'b2': 0}, 'root_to_stem': {'a': -0.107, 'b1': 1.098, 'b2': 0.0216}, 'total_max_biomass': 15.23, 'total_min_biomass': 0.61}, 'morph_params': {'max_height': 1, 'max_n_stems': 3, 'max_plant_density': 34, 'max_root_sys_depth': 2.3, 'max_root_sys_width': 1.2, 'max_shoot_sys_width': 1.2, 'min_height': 0.231, 'min_root_sys_depth': 0.1, 'min_root_sys_width': 0.1, 'min_shoot_sys_width': 0.1}, 'mortality_params': {'coeffs': {1: [4129.058500399548, 0.18067979840999768], 2: [3928509.810368001, 23.89412144739613]}, 'duration': {1: 207, 2: 365}, 'mort_variable_name': {1: 'Distance to shore', 2: 'Minimum elevation'}, 'period': {1: 'during growing season', 2: 'during growing season'}, 'predictor': {1: [30, 40, 50, -9999, -9999], 2: [0, 0.5, 0.6, 0.68, 1.12]}, 'response': {1: [0.01, 0.25, 0.67, -9999, -9999], 2: [0, 0, 0.3, 1, 1]}}, 'plant_factors': {'angio_gymno': 'angiosperm', 'duration': 'perennial', 'growth_form': 'bunch', 'growth_habit': 'graminoid', 'leaf_retention': 'deciduous', 'monocot_dicot': 'monocot', 'p_type': 'C3', 'shape': 'erect', 'species': 'BTS'}}, 'DB': {'col_params': {'prob_colonization': 0.01, 'time_to_colonization': 365}, 'dispersal_params': {'max_dist_dispersal': 0.936, 'min_size_dispersal': 0.5, 'unit_cost_dispersal': 32.05128205128205}, 'duration_params': {'growing_season_end': 243, 'growing_season_start': 121, 'reproduction_start': 180, 'senescence_start': 228}, 'grow_params': {'glucose_requirement': {'leaf': 1.463, 'reproductive': 1.414, 'root': 1.444, 'stem': 1.513, 'storage': 1.415}, 'growth_max_biomass': 61, 'growth_min_biomass': 0.61, 'k_light_extinct': 0.51, 'light_half_sat': 100, 'p_max': 0.0372, 'plant_part_max': {'leaf': 30, 'reproductive': 30, 'root': 6, 'stem': 25, 'storage': 5}, 'plant_part_min': {'leaf': 0.5, 'reproductive': 0, 'root': 0.01, 'stem': 0.1, 'storage': 0}, 'respiration_coefficient': {'leaf': 0.03, 'reproductive': 0.01, 'root': 0.015, 'stem': 0.015, 'storage': 0.01}, 'root_to_leaf': {'a': 0.031, 'b1': 0.951, 'b2': 0}, 'root_to_stem': {'a': -0.107, 'b1': 1.098, 'b2': 0.0216}, 'total_max_biomass': 96, 'total_min_biomass': 0.61}, 'morph_params': {'max_height': 1, 'max_n_stems': 3, 'max_plant_density': 34, 'max_root_sys_depth': 1.45, 'max_root_sys_width': 1.3, 'max_shoot_sys_width': 0.98, 'min_height': 0.231, 'min_root_sys_depth': 0.1, 'min_root_sys_width': 0.1, 'min_shoot_sys_width': 0.1}, 'mortality_params': {'coeffs': {1: [4129.058500399548, 0.18067979840999768], 2: [0, 0]}, 'duration': {1: 207, 2: 365}, 'mort_variable_name': {1: 'Distance to shore', 2: 'Minimum elevation'}, 'period': {1: 'during growing season', 2: 'during growing season'}, 'predictor': {1: [30, 40, 50, -9999, -9999], 2: [0, 0.2, 0.5, 0.68, 1.12]}, 'response': {1: [0.01, 0.25, 0.67, -9999, -9999], 2: [0, 0, 0, 1, 1]}}, 'plant_factors': {'angio_gymno': 'angiosperm', 'duration': 'annual', 'growth_form': 'single_stem', 'growth_habit': 'graminoid', 'leaf_retention': 'deciduous', 'monocot_dicot': 'monocot', 'p_type': 'C4', 'shape': 'erect', 'species': 'DB'}}}\n"
     ]
    }
   ],
   "source": [
    "inp_file=Path(VegInputFile).absolute()\n",
    "VegParams(fpath=inp_file,processes=['plantsize','dispersal','mortality'])\n",
    "vegparams=load_params('veg_params.yml')\n",
    "print(vegparams)"
   ]
  },
  {
   "cell_type": "markdown",
   "metadata": {},
   "source": [
    "### Set up model grid using landlab RasterModelGrid functions\n",
    "\n",
    "- Create the model grid\n",
    "- Initialize live vegetation biomass and plant functional type\n",
    "- Initialize the air temperature driver across the grid\n",
    "\n",
    "##### **Note variable names should be consistent with landlab standards"
   ]
  },
  {
   "cell_type": "code",
   "execution_count": 5,
   "metadata": {},
   "outputs": [],
   "source": [
    "#Create grid 10x10 node grid with 2 m node spacing and xy of origin in lat long roughly corresponding to Island Beach State Park\n",
    "pg = RasterModelGrid((6, 6), 2.0, xy_of_reference=(-74.08,39.79))\n",
    "pg.axis_units = ('m', 'm')\n",
    "\n",
    "#Create dummy datasets of mean monthly temperature, PAR, distance to the shore, and elevation relative to sea level\n",
    "meantemp=[-0.20,  0.87,  4.40,  9.81,  15.36,  20.64,  23.86,  23.33, 19.95, 13.80,  7.85,  2.77, 11.93]\n",
    "NJ_avg_par=[36.38, 52.39, 70.82, 92.88, 105.00, 116.38, 118.75, 103.21, 84.41, 59.15, 42.18, 31.98, 76.22]                \n",
    "dist2shore=np.array([40,40,40,40,42,42,42,42,44,44,44,44,46,46,46,46])\n",
    "rel_elev=np.array([0.4,0.4,0.4,0.4,0.6,0.6,0.6,0.6,0.9,0.9,0.9,0.9,1.2,1.2,1.2,1.2])\n",
    "\n",
    "#Initialize with a dummy data sets \n",
    "_ = pg.add_field('air__temperature_C', meantemp[0]*np.ones(pg.number_of_cells), at='cell', units='C' )\n",
    "_ = pg.add_field('radiation__par_tot', NJ_avg_par[0]*np.ones(pg.number_of_cells), at='cell', units='W/m^2')\n",
    "_ = pg.add_field('Distance to shore', dist2shore, at='cell', units='m')\n",
    "_ = pg.add_field('Minimum elevation', rel_elev, at='cell', units='m')"
   ]
  },
  {
   "attachments": {},
   "cell_type": "markdown",
   "metadata": {},
   "source": [
    "Now we initialize plants. We can do this in multiple ways. Here we are going to seed two species in a grid with 1/2 occupied by Ammophila, 1/2 by Spartina, at single and double planting densities, respectively.\n",
    "\n",
    "Future iterations will rely on species boundaries and percent cover to initialize the plants."
   ]
  },
  {
   "cell_type": "code",
   "execution_count": 6,
   "metadata": {},
   "outputs": [],
   "source": [
    "#Initialize plant functional type as burial tolerant stabilizer or dune builder and randomly place on grid\n",
    "_ = pg.add_field('vegetation__percent_cover', np.random.default_rng().uniform(low=0.5, high=1.0, size=pg.number_of_cells), at='cell', clobber=True)\n",
    "plant_list=[['DB','null'],['DB','BTS'],['BTS','null']]\n",
    "_ = pg.add_field('vegetation__plant_species',np.random.default_rng().choice(plant_list,pg.number_of_cells), at='cell', clobber=True)\n"
   ]
  },
  {
   "cell_type": "code",
   "execution_count": 7,
   "metadata": {},
   "outputs": [
    {
     "data": {
      "text/plain": [
       "array([ 0.99388649,  0.915728  ,  0.53646164,  0.84659401,  0.77979785,\n",
       "        0.92932315,  0.72639569,  0.56070793,  0.80502255,  0.83810917,\n",
       "        0.79245409,  0.94798946,  0.97915576,  0.87303504,  0.69736199,\n",
       "        0.72344802])"
      ]
     },
     "execution_count": 7,
     "metadata": {},
     "output_type": "execute_result"
    }
   ],
   "source": [
    "pg['cell']['vegetation__percent_cover']"
   ]
  },
  {
   "cell_type": "code",
   "execution_count": 8,
   "metadata": {},
   "outputs": [
    {
     "data": {
      "text/plain": [
       "array([['BTS', 'null'],\n",
       "       ['BTS', 'null'],\n",
       "       ['DB', 'null'],\n",
       "       ['BTS', 'null'],\n",
       "       ['DB', 'BTS'],\n",
       "       ['DB', 'BTS'],\n",
       "       ['DB', 'null'],\n",
       "       ['DB', 'null'],\n",
       "       ['DB', 'null'],\n",
       "       ['DB', 'null'],\n",
       "       ['DB', 'null'],\n",
       "       ['DB', 'BTS'],\n",
       "       ['BTS', 'null'],\n",
       "       ['DB', 'BTS'],\n",
       "       ['DB', 'null'],\n",
       "       ['DB', 'null']],\n",
       "      dtype='<U4')"
      ]
     },
     "execution_count": 8,
     "metadata": {},
     "output_type": "execute_result"
    }
   ],
   "source": [
    "pg['cell']['vegetation__plant_species']"
   ]
  },
  {
   "attachments": {},
   "cell_type": "markdown",
   "metadata": {},
   "source": [
    "### Define model time variables"
   ]
  },
  {
   "attachments": {},
   "cell_type": "markdown",
   "metadata": {},
   "source": [
    "Initialize dune GenVeg class with veg_params from Excel file"
   ]
  },
  {
   "cell_type": "code",
   "execution_count": 9,
   "metadata": {},
   "outputs": [],
   "source": [
    "foredune=GenVeg(pg,dt,sim_start_date,vegparams)"
   ]
  },
  {
   "cell_type": "code",
   "execution_count": 10,
   "metadata": {},
   "outputs": [
    {
     "name": "stdout",
     "output_type": "stream",
     "text": [
      "[{'BTS': 0.99388648545103375}, {'BTS': 0.91572800300418855}, {'DB': 0.536461644046624}, {'BTS': 0.84659400636221904}, {'DB': 0.36010069764427, 'BTS': 0.41969715557360054}, {'DB': 0.45057626941280227, 'BTS': 0.47874687692446066}, {'DB': 0.7263956853091631}, {'DB': 0.56070793443483602}, {'DB': 0.80502255046211013}, {'DB': 0.83810917359393333}, {'DB': 0.79245409400609068}, {'DB': 0.42682818937176986, 'BTS': 0.52116126999360268}, {'BTS': 0.97915575609709671}, {'DB': 0.38282463578686754, 'BTS': 0.4902103992926265}, {'DB': 0.69736199338870408}, {'DB': 0.72344801713084306}]\n"
     ]
    }
   ],
   "source": [
    "foredune.get_int_output()"
   ]
  },
  {
   "cell_type": "code",
   "execution_count": 11,
   "metadata": {},
   "outputs": [
    {
     "data": {
      "image/png": "[encoded data removed]",
      "text/plain": [
       "<Figure size 640x480 with 2 Axes>"
      ]
     },
     "metadata": {},
     "output_type": "display_data"
    }
   ],
   "source": [
    "imshow_grid(pg, 'vegetation__total_biomass', at='cell', colorbar_label='Live biomass g')"
   ]
  },
  {
   "cell_type": "code",
   "execution_count": 12,
   "metadata": {},
   "outputs": [
    {
     "data": {
      "image/png": "[encoded data removed]",
      "text/plain": [
       "<Figure size 640x480 with 2 Axes>"
      ]
     },
     "metadata": {},
     "output_type": "display_data"
    }
   ],
   "source": [
    "imshow_grid(pg, 'vegetation__n_plants', at='cell', colorbar_label='number of plants')"
   ]
  },
  {
   "cell_type": "code",
   "execution_count": 13,
   "metadata": {},
   "outputs": [
    {
     "data": {
      "image/png": "[encoded data removed]",
      "text/plain": [
       "<Figure size 640x480 with 2 Axes>"
      ]
     },
     "metadata": {},
     "output_type": "display_data"
    }
   ],
   "source": [
    "imshow_grid(pg, 'vegetation__percent_cover', at='cell', colorbar_label='percent_cover')"
   ]
  },
  {
   "cell_type": "code",
   "execution_count": 14,
   "metadata": {},
   "outputs": [
    {
     "data": {
      "text/plain": [
       "array([ ('DB',  0,  2,  0.,  0.,  0.,  0.,  0.,  0.,  0.,  0.21465781,  0.08,  0.,  0.,  0., 3,  nan,  nan,  nan,  0),\n",
       "       ('DB',  1,  2,  0.,  0.,  0.,  0.,  0.,  0.,  0.,  0.77167406,  0.08,  0.,  0.,  0., 1,  nan,  nan,  nan,  1),\n",
       "       ('DB',  2,  2,  0.,  0.,  0.,  0.,  0.,  0.,  0.,  0.72256586,  0.08,  0.,  0.,  0., 1,  nan,  nan,  nan,  2),\n",
       "       ('DB',  3,  2,  0.,  0.,  0.,  0.,  0.,  0.,  0.,  0.93558896,  0.08,  0.,  0.,  0., 2,  nan,  nan,  nan,  3),\n",
       "       ('DB',  4,  2,  0.,  0.,  0.,  0.,  0.,  0.,  0.,  0.83258018,  0.08,  0.,  0.,  0., 1,  nan,  nan,  nan,  4),\n",
       "       ('DB',  5,  4,  0.,  0.,  0.,  0.,  0.,  0.,  0.,  0.70872294,  0.08,  0.,  0.,  0., 3,  nan,  nan,  nan,  5),\n",
       "       ('DB',  6,  4,  0.,  0.,  0.,  0.,  0.,  0.,  0.,  0.88202718,  0.08,  0.,  0.,  0., 1,  nan,  nan,  nan,  6),\n",
       "       ('DB',  7,  4,  0.,  0.,  0.,  0.,  0.,  0.,  0.,  0.74412206,  0.08,  0.,  0.,  0., 3,  nan,  nan,  nan,  7),\n",
       "       ('DB',  8,  5,  0.,  0.,  0.,  0.,  0.,  0.,  0.,  0.60849609,  0.08,  0.,  0.,  0., 1,  nan,  nan,  nan,  8),\n",
       "       ('DB',  9,  5,  0.,  0.,  0.,  0.,  0.,  0.,  0.,  0.86504206,  0.08,  0.,  0.,  0., 3,  nan,  nan,  nan,  9),\n",
       "       ('DB', 10,  5,  0.,  0.,  0.,  0.,  0.,  0.,  0.,  0.87356986,  0.08,  0.,  0.,  0., 2,  nan,  nan,  nan, 10),\n",
       "       ('DB', 11,  5,  0.,  0.,  0.,  0.,  0.,  0.,  0.,  0.64271031,  0.08,  0.,  0.,  0., 1,  nan,  nan,  nan, 11),\n",
       "       ('DB', 12,  6,  0.,  0.,  0.,  0.,  0.,  0.,  0.,  1.06924344,  0.08,  0.,  0.,  0., 1,  nan,  nan,  nan, 12),\n",
       "       ('DB', 13,  6,  0.,  0.,  0.,  0.,  0.,  0.,  0.,  0.5399962 ,  0.08,  0.,  0.,  0., 1,  nan,  nan,  nan, 13),\n",
       "       ('DB', 14,  6,  0.,  0.,  0.,  0.,  0.,  0.,  0.,  1.11288806,  0.08,  0.,  0.,  0., 2,  nan,  nan,  nan, 14),\n",
       "       ('DB', 15,  6,  0.,  0.,  0.,  0.,  0.,  0.,  0.,  0.59519763,  0.08,  0.,  0.,  0., 1,  nan,  nan,  nan, 15),\n",
       "       ('DB', 16,  6,  0.,  0.,  0.,  0.,  0.,  0.,  0.,  0.65906133,  0.08,  0.,  0.,  0., 2,  nan,  nan,  nan, 16),\n",
       "       ('DB', 17,  6,  0.,  0.,  0.,  0.,  0.,  0.,  0.,  0.45542041,  0.08,  0.,  0.,  0., 2,  nan,  nan,  nan, 17),\n",
       "       ('DB', 18,  6,  0.,  0.,  0.,  0.,  0.,  0.,  0.,  0.17342368,  0.08,  0.,  0.,  0., 1,  nan,  nan,  nan, 18),\n",
       "       ('DB', 19,  7,  0.,  0.,  0.,  0.,  0.,  0.,  0.,  1.08465045,  0.08,  0.,  0.,  0., 1,  nan,  nan,  nan, 19),\n",
       "       ('DB', 20,  7,  0.,  0.,  0.,  0.,  0.,  0.,  0.,  0.95625362,  0.08,  0.,  0.,  0., 2,  nan,  nan,  nan, 20),\n",
       "       ('DB', 21,  7,  0.,  0.,  0.,  0.,  0.,  0.,  0.,  0.3397625 ,  0.08,  0.,  0.,  0., 2,  nan,  nan,  nan, 21),\n",
       "       ('DB', 22,  7,  0.,  0.,  0.,  0.,  0.,  0.,  0.,  0.5266722 ,  0.08,  0.,  0.,  0., 2,  nan,  nan,  nan, 22),\n",
       "       ('DB', 23,  7,  0.,  0.,  0.,  0.,  0.,  0.,  0.,  0.60987894,  0.08,  0.,  0.,  0., 1,  nan,  nan,  nan, 23),\n",
       "       ('DB', 24,  8,  0.,  0.,  0.,  0.,  0.,  0.,  0.,  0.34325197,  0.08,  0.,  0.,  0., 3,  nan,  nan,  nan, 24),\n",
       "       ('DB', 25,  8,  0.,  0.,  0.,  0.,  0.,  0.,  0.,  0.89456092,  0.08,  0.,  0.,  0., 1,  nan,  nan,  nan, 25),\n",
       "       ('DB', 26,  8,  0.,  0.,  0.,  0.,  0.,  0.,  0.,  0.72768266,  0.08,  0.,  0.,  0., 3,  nan,  nan,  nan, 26),\n",
       "       ('DB', 27,  8,  0.,  0.,  0.,  0.,  0.,  0.,  0.,  0.36850351,  0.08,  0.,  0.,  0., 1,  nan,  nan,  nan, 27),\n",
       "       ('DB', 28,  8,  0.,  0.,  0.,  0.,  0.,  0.,  0.,  0.8537032 ,  0.08,  0.,  0.,  0., 2,  nan,  nan,  nan, 28),\n",
       "       ('DB', 29,  8,  0.,  0.,  0.,  0.,  0.,  0.,  0.,  0.89820436,  0.08,  0.,  0.,  0., 2,  nan,  nan,  nan, 29),\n",
       "       ('DB', 30,  8,  0.,  0.,  0.,  0.,  0.,  0.,  0.,  0.67101342,  0.08,  0.,  0.,  0., 2,  nan,  nan,  nan, 30),\n",
       "       ('DB', 31,  8,  0.,  0.,  0.,  0.,  0.,  0.,  0.,  0.72851143,  0.08,  0.,  0.,  0., 1,  nan,  nan,  nan, 31),\n",
       "       ('DB', 32,  9,  0.,  0.,  0.,  0.,  0.,  0.,  0.,  0.89534875,  0.08,  0.,  0.,  0., 1,  nan,  nan,  nan, 32),\n",
       "       ('DB', 33,  9,  0.,  0.,  0.,  0.,  0.,  0.,  0.,  0.56224143,  0.08,  0.,  0.,  0., 1,  nan,  nan,  nan, 33),\n",
       "       ('DB', 34,  9,  0.,  0.,  0.,  0.,  0.,  0.,  0.,  0.84705053,  0.08,  0.,  0.,  0., 1,  nan,  nan,  nan, 34),\n",
       "       ('DB', 35,  9,  0.,  0.,  0.,  0.,  0.,  0.,  0.,  0.83959247,  0.08,  0.,  0.,  0., 1,  nan,  nan,  nan, 35),\n",
       "       ('DB', 36,  9,  0.,  0.,  0.,  0.,  0.,  0.,  0.,  0.71060259,  0.08,  0.,  0.,  0., 2,  nan,  nan,  nan, 36),\n",
       "       ('DB', 37,  9,  0.,  0.,  0.,  0.,  0.,  0.,  0.,  0.56462736,  0.08,  0.,  0.,  0., 2,  nan,  nan,  nan, 37),\n",
       "       ('DB', 38,  9,  0.,  0.,  0.,  0.,  0.,  0.,  0.,  0.24249029,  0.08,  0.,  0.,  0., 2,  nan,  nan,  nan, 38),\n",
       "       ('DB', 39,  9,  0.,  0.,  0.,  0.,  0.,  0.,  0.,  0.91962949,  0.08,  0.,  0.,  0., 3,  nan,  nan,  nan, 39),\n",
       "       ('DB', 40, 10,  0.,  0.,  0.,  0.,  0.,  0.,  0.,  1.1802982 ,  0.08,  0.,  0.,  0., 3,  nan,  nan,  nan, 40),\n",
       "       ('DB', 41, 10,  0.,  0.,  0.,  0.,  0.,  0.,  0.,  0.53171813,  0.08,  0.,  0.,  0., 1,  nan,  nan,  nan, 41),\n",
       "       ('DB', 42, 10,  0.,  0.,  0.,  0.,  0.,  0.,  0.,  0.23544713,  0.08,  0.,  0.,  0., 3,  nan,  nan,  nan, 42),\n",
       "       ('DB', 43, 10,  0.,  0.,  0.,  0.,  0.,  0.,  0.,  0.29386136,  0.08,  0.,  0.,  0., 3,  nan,  nan,  nan, 43),\n",
       "       ('DB', 44, 10,  0.,  0.,  0.,  0.,  0.,  0.,  0.,  0.81261286,  0.08,  0.,  0.,  0., 2,  nan,  nan,  nan, 44),\n",
       "       ('DB', 45, 10,  0.,  0.,  0.,  0.,  0.,  0.,  0.,  0.75186021,  0.08,  0.,  0.,  0., 2,  nan,  nan,  nan, 45),\n",
       "       ('DB', 46, 10,  0.,  0.,  0.,  0.,  0.,  0.,  0.,  0.75961835,  0.08,  0.,  0.,  0., 2,  nan,  nan,  nan, 46),\n",
       "       ('DB', 47, 10,  0.,  0.,  0.,  0.,  0.,  0.,  0.,  0.64472028,  0.08,  0.,  0.,  0., 2,  nan,  nan,  nan, 47),\n",
       "       ('DB', 48, 11,  0.,  0.,  0.,  0.,  0.,  0.,  0.,  0.34253877,  0.08,  0.,  0.,  0., 3,  nan,  nan,  nan, 48),\n",
       "       ('DB', 49, 11,  0.,  0.,  0.,  0.,  0.,  0.,  0.,  1.14993568,  0.08,  0.,  0.,  0., 2,  nan,  nan,  nan, 49),\n",
       "       ('DB', 50, 11,  0.,  0.,  0.,  0.,  0.,  0.,  0.,  0.43798613,  0.08,  0.,  0.,  0., 2,  nan,  nan,  nan, 50),\n",
       "       ('DB', 51, 11,  0.,  0.,  0.,  0.,  0.,  0.,  0.,  0.73641116,  0.08,  0.,  0.,  0., 3,  nan,  nan,  nan, 51),\n",
       "       ('DB', 52, 13,  0.,  0.,  0.,  0.,  0.,  0.,  0.,  0.67585453,  0.08,  0.,  0.,  0., 2,  nan,  nan,  nan, 52),\n",
       "       ('DB', 53, 13,  0.,  0.,  0.,  0.,  0.,  0.,  0.,  0.91225979,  0.08,  0.,  0.,  0., 3,  nan,  nan,  nan, 53),\n",
       "       ('DB', 54, 13,  0.,  0.,  0.,  0.,  0.,  0.,  0.,  0.77077555,  0.08,  0.,  0.,  0., 2,  nan,  nan,  nan, 54),\n",
       "       ('DB', 55, 13,  0.,  0.,  0.,  0.,  0.,  0.,  0.,  0.25810395,  0.08,  0.,  0.,  0., 3,  nan,  nan,  nan, 55),\n",
       "       ('DB', 56, 14,  0.,  0.,  0.,  0.,  0.,  0.,  0.,  0.57779058,  0.08,  0.,  0.,  0., 2,  nan,  nan,  nan, 56),\n",
       "       ('DB', 57, 14,  0.,  0.,  0.,  0.,  0.,  0.,  0.,  0.23004535,  0.08,  0.,  0.,  0., 2,  nan,  nan,  nan, 57),\n",
       "       ('DB', 58, 14,  0.,  0.,  0.,  0.,  0.,  0.,  0.,  0.8089885 ,  0.08,  0.,  0.,  0., 2,  nan,  nan,  nan, 58),\n",
       "       ('DB', 59, 14,  0.,  0.,  0.,  0.,  0.,  0.,  0.,  1.03179766,  0.08,  0.,  0.,  0., 2,  nan,  nan,  nan, 59),\n",
       "       ('DB', 60, 14,  0.,  0.,  0.,  0.,  0.,  0.,  0.,  0.62133072,  0.08,  0.,  0.,  0., 2,  nan,  nan,  nan, 60),\n",
       "       ('DB', 61, 14,  0.,  0.,  0.,  0.,  0.,  0.,  0.,  0.77981897,  0.08,  0.,  0.,  0., 3,  nan,  nan,  nan, 61),\n",
       "       ('DB', 62, 14,  0.,  0.,  0.,  0.,  0.,  0.,  0.,  0.67203747,  0.08,  0.,  0.,  0., 1,  nan,  nan,  nan, 62),\n",
       "       ('DB', 63, 15,  0.,  0.,  0.,  0.,  0.,  0.,  0.,  0.80757889,  0.08,  0.,  0.,  0., 3,  nan,  nan,  nan, 63),\n",
       "       ('DB', 64, 15,  0.,  0.,  0.,  0.,  0.,  0.,  0.,  0.65912073,  0.08,  0.,  0.,  0., 1,  nan,  nan,  nan, 64),\n",
       "       ('DB', 65, 15,  0.,  0.,  0.,  0.,  0.,  0.,  0.,  0.65861743,  0.08,  0.,  0.,  0., 1,  nan,  nan,  nan, 65),\n",
       "       ('DB', 66, 15,  0.,  0.,  0.,  0.,  0.,  0.,  0.,  0.84787508,  0.08,  0.,  0.,  0., 1,  nan,  nan,  nan, 66),\n",
       "       ('DB', 67, 15,  0.,  0.,  0.,  0.,  0.,  0.,  0.,  0.96524499,  0.08,  0.,  0.,  0., 1,  nan,  nan,  nan, 67),\n",
       "       ('DB', 68, 15,  0.,  0.,  0.,  0.,  0.,  0.,  0.,  0.44746653,  0.08,  0.,  0.,  0., 1,  nan,  nan,  nan, 68),\n",
       "       ('DB', 69, 15,  0.,  0.,  0.,  0.,  0.,  0.,  0.,  0.55970836,  0.08,  0.,  0.,  0., 1,  nan,  nan,  nan, 69)],\n",
       "      dtype=[('species', '<U10'), ('pid', '<i4'), ('cell_index', '<i4'), ('x_loc', '<f8'), ('y_loc', '<f8'), (('root', 'root_biomass'), '<f8'), (('leaf', 'leaf_biomass'), '<f8'), (('stem', 'stem_biomass'), '<f8'), (('storage', 'storage_biomass'), '<f8'), (('reproductive', 'repro_biomass'), '<f8'), ('shoot_sys_width', '<f8'), ('root_sys_width', '<f8'), ('shoot_sys_height', '<f8'), ('root_sys_depth', '<f8'), ('plant_age', '<f8'), ('n_stems', '<i4'), ('pup_x_loc', '<f8'), ('pup_y_loc', '<f8'), ('pup_cost', '<f8'), ('item_id', '<i4')])"
      ]
     },
     "execution_count": 14,
     "metadata": {},
     "output_type": "execute_result"
    }
   ],
   "source": [
    "foredune.plant_species[1].species_plants()"
   ]
  },
  {
   "cell_type": "markdown",
   "metadata": {},
   "source": [
    "## Main model loop script\n",
    "This is the main model loop that controls the simulation that\n",
    "- Advances model time \n",
    "- Updates environmental variables\n",
    "- Simulates changes to vegetation communities\n",
    "- Stores outputs"
   ]
  },
  {
   "cell_type": "code",
   "execution_count": 15,
   "metadata": {},
   "outputs": [
    {
     "name": "stdout",
     "output_type": "stream",
     "text": [
      "[ ('BTS',  0,  0,  0.,  0.,  -4.28143263e-04,  0.,  0.,   0.34748907,  0.,  0.46615226,  0.08,  0.,  0.,  0., 2,  nan,  nan,  nan,  0)\n",
      " ('BTS',  1,  0,  0.,  0.,   8.87538743e+00,  0.,  0.,   0.54319322,  0.,  1.23058352,  0.08,  0.,  0.,  0., 2,  nan,  nan,  nan,  1)\n",
      " ('BTS',  2,  0,  0.,  0.,  -1.21973290e-03,  0.,  0.,   0.99019411,  0.,  0.78955841,  0.08,  0.,  0.,  0., 3,  nan,  nan,  nan,  2)\n",
      " ('BTS',  3,  0,  0.,  0.,   6.05973278e-01,  0.,  0.,   0.        ,  0.,  0.97547198,  0.08,  0.,  0.,  0., 3,  nan,  nan,  nan,  3)\n",
      " ('BTS',  4,  0,  0.,  0.,  -8.89746910e-04,  0.,  0.,   0.72213525,  0.,  0.65245481,  0.08,  0.,  0.,  0., 1,  nan,  nan,  nan,  4)\n",
      " ('BTS',  5,  0,  0.,  0.,   7.92804482e-01,  0.,  0.,   0.19377304,  0.,  1.15305821,  0.08,  0.,  0.,  0., 1,  nan,  nan,  nan,  5)\n",
      " ('BTS',  6,  1,  0.,  0.,  -3.19298588e-04,  0.,  0.,   0.2591487 ,  0.,  0.36139339,  0.08,  0.,  0.,  0., 2,  nan,  nan,  nan,  6)\n",
      " ('BTS',  7,  1,  0.,  0.,  -5.35388545e-04,  0.,  0.,   0.43453145,  0.,  0.66464872,  0.08,  0.,  0.,  0., 2,  nan,  nan,  nan,  7)\n",
      " ('BTS',  8,  1,  0.,  0.,   5.61023351e+00,  0.,  0.,   0.75038446,  0.,  1.21531731,  0.08,  0.,  0.,  0., 3,  nan,  nan,  nan,  8)\n",
      " ('BTS',  9,  1,  0.,  0.,  -5.74807195e-04,  0.,  0.,   0.77247987,  0.,  0.94478548,  0.08,  0.,  0.,  0., 1,  nan,  nan,  nan,  9)\n",
      " ('BTS', 10,  1,  0.,  0.,   6.20164134e+00,  0.,  0.,   0.59392239,  0.,  1.21862872,  0.08,  0.,  0.,  0., 1,  nan,  nan,  nan, 10)\n",
      " ('BTS', 11,  1,  0.,  0.,  -9.77797013e-04,  0.,  0.,   0.79359831,  0.,  0.48654864,  0.08,  0.,  0.,  0., 1,  nan,  nan,  nan, 11)\n",
      " ('BTS', 12,  3,  0.,  0.,   6.10000000e-01,  0.,  0.,   0.22473308,  0.,  1.08177712,  0.08,  0.,  0.,  0., 2,  nan,  nan,  nan, 12)\n",
      " ('BTS', 13,  3,  0.,  0.,  -5.64416131e-04,  0.,  0.,   0.45810915,  0.,  0.74297887,  0.08,  0.,  0.,  0., 2,  nan,  nan,  nan, 13)\n",
      " ('BTS', 14,  3,  0.,  0.,  -1.92553883e-04,  0.,  0.,   0.19377277,  0.,  0.89564902,  0.08,  0.,  0.,  0., 2,  nan,  nan,  nan, 14)\n",
      " ('BTS', 15,  3,  0.,  0.,   1.02300000e+01,  0.,  0.,  71.80262774,  0.,  1.30855238,  0.08,  0.,  0.,  0., 2,  nan,  nan,  nan, 15)\n",
      " ('BTS', 16,  3,  0.,  0.,  -2.61911438e-04,  0.,  0.,   0.21257221,  0.,  0.27370059,  0.08,  0.,  0.,  0., 3,  nan,  nan,  nan, 16)\n",
      " ('BTS', 17,  4,  0.,  0.,  -2.46558168e-04,  0.,  0.,   0.20025319,  0.,  0.77988595,  0.08,  0.,  0.,  0., 2,  nan,  nan,  nan, 17)\n",
      " ('BTS', 18,  4,  0.,  0.,   1.02300000e+01,  0.,  0.,   1.31303001,  0.,  1.23663979,  0.08,  0.,  0.,  0., 1,  nan,  nan,  nan, 18)\n",
      " ('BTS', 19,  5,  0.,  0.,  -3.71111242e-04,  0.,  0.,   0.30578007,  0.,  0.84950209,  0.08,  0.,  0.,  0., 2,  nan,  nan,  nan, 19)\n",
      " ('BTS', 20,  5,  0.,  0.,  -5.42698590e-04,  0.,  0.,   0.4404648 ,  0.,  0.68527315,  0.08,  0.,  0.,  0., 3,  nan,  nan,  nan, 20)\n",
      " ('BTS', 21,  5,  0.,  0.,   6.10000000e-01,  0.,  0.,   0.16361702,  0.,  1.11668471,  0.08,  0.,  0.,  0., 2,  nan,  nan,  nan, 21)\n",
      " ('BTS', 22, 11,  0.,  0.,   1.97458600e-01,  0.,  0.,   0.        ,  0.,  1.07031705,  0.08,  0.,  0.,  0., 2,  nan,  nan,  nan, 22)\n",
      " ('BTS', 23, 11,  0.,  0.,   1.26628245e+00,  0.,  0.,   0.22600448,  0.,  1.16755604,  0.08,  0.,  0.,  0., 3,  nan,  nan,  nan, 23)\n",
      " ('BTS', 24, 11,  0.,  0.,  -1.10530265e-03,  0.,  0.,   0.89708427,  0.,  0.3814274 ,  0.08,  0.,  0.,  0., 1,  nan,  nan,  nan, 24)\n",
      " ('BTS', 25, 12,  0.,  0.,  -4.46412545e-04,  0.,  0.,   0.36231894,  0.,  0.70769434,  0.08,  0.,  0.,  0., 3,  nan,  nan,  nan, 25)\n",
      " ('BTS', 26, 12,  0.,  0.,   6.10000000e-01,  0.,  0.,   0.35913933,  0.,  0.98881461,  0.08,  0.,  0.,  0., 2,  nan,  nan,  nan, 26)\n",
      " ('BTS', 27, 12,  0.,  0.,   1.05771971e+00,  0.,  0.,   0.67074911,  0.,  1.16197222,  0.08,  0.,  0.,  0., 2,  nan,  nan,  nan, 27)\n",
      " ('BTS', 28, 12,  0.,  0.,  -7.61938894e-04,  0.,  0.,   0.61935458,  0.,  0.81696922,  0.08,  0.,  0.,  0., 2,  nan,  nan,  nan, 28)\n",
      " ('BTS', 29, 12,  0.,  0.,   1.73044228e+00,  0.,  0.,   0.65700858,  0.,  1.17736936,  0.08,  0.,  0.,  0., 3,  nan,  nan,  nan, 29)\n",
      " ('BTS', 30, 12,  0.,  0.,  -5.29277352e-04,  0.,  0.,   0.42957138,  0.,  0.32310518,  0.08,  0.,  0.,  0., 2,  nan,  nan,  nan, 30)\n",
      " ('BTS', 31, 13,  0.,  0.,  -1.84192369e-04,  0.,  0.,   0.15004977,  0.,  0.80624655,  0.08,  0.,  0.,  0., 1,  nan,  nan,  nan, 31)\n",
      " ('BTS', 32, 13,  0.,  0.,   6.10000000e-01,  0.,  0.,   0.10035361,  0.,  1.06747824,  0.08,  0.,  0.,  0., 1,  nan,  nan,  nan, 32)\n",
      " ('BTS', 33, 13,  0.,  0.,  -1.21721025e-03,  0.,  0.,   0.99095308,  0.,  0.84087916,  0.08,  0.,  0.,  0., 1,  nan,  nan,  nan, 33)\n",
      " ('DB',  0,  2,  0.,  0.,   0.00000000e+00,  0.,  0.,   0.        ,  0.,  0.21465781,  0.08,  0.,  0.,  0., 3,  nan,  nan,  nan,  0)\n",
      " ('DB',  1,  2,  0.,  0.,   0.00000000e+00,  0.,  0.,   0.        ,  0.,  0.77167406,  0.08,  0.,  0.,  0., 1,  nan,  nan,  nan,  1)\n",
      " ('DB',  2,  2,  0.,  0.,   0.00000000e+00,  0.,  0.,   0.        ,  0.,  0.72256586,  0.08,  0.,  0.,  0., 1,  nan,  nan,  nan,  2)\n",
      " ('DB',  3,  2,  0.,  0.,   0.00000000e+00,  0.,  0.,   0.        ,  0.,  0.93558896,  0.08,  0.,  0.,  0., 2,  nan,  nan,  nan,  3)\n",
      " ('DB',  4,  2,  0.,  0.,   0.00000000e+00,  0.,  0.,   0.        ,  0.,  0.83258018,  0.08,  0.,  0.,  0., 1,  nan,  nan,  nan,  4)\n",
      " ('DB',  5,  4,  0.,  0.,   0.00000000e+00,  0.,  0.,   0.        ,  0.,  0.70872294,  0.08,  0.,  0.,  0., 3,  nan,  nan,  nan,  5)\n",
      " ('DB',  6,  4,  0.,  0.,   0.00000000e+00,  0.,  0.,   0.        ,  0.,  0.88202718,  0.08,  0.,  0.,  0., 1,  nan,  nan,  nan,  6)\n",
      " ('DB',  7,  4,  0.,  0.,   0.00000000e+00,  0.,  0.,   0.        ,  0.,  0.74412206,  0.08,  0.,  0.,  0., 3,  nan,  nan,  nan,  7)\n",
      " ('DB',  8,  5,  0.,  0.,   0.00000000e+00,  0.,  0.,   0.        ,  0.,  0.60849609,  0.08,  0.,  0.,  0., 1,  nan,  nan,  nan,  8)\n",
      " ('DB',  9,  5,  0.,  0.,   0.00000000e+00,  0.,  0.,   0.        ,  0.,  0.86504206,  0.08,  0.,  0.,  0., 3,  nan,  nan,  nan,  9)\n",
      " ('DB', 10,  5,  0.,  0.,   0.00000000e+00,  0.,  0.,   0.        ,  0.,  0.87356986,  0.08,  0.,  0.,  0., 2,  nan,  nan,  nan, 10)\n",
      " ('DB', 11,  5,  0.,  0.,   0.00000000e+00,  0.,  0.,   0.        ,  0.,  0.64271031,  0.08,  0.,  0.,  0., 1,  nan,  nan,  nan, 11)\n",
      " ('DB', 12,  6,  0.,  0.,   0.00000000e+00,  0.,  0.,   0.        ,  0.,  1.06924344,  0.08,  0.,  0.,  0., 1,  nan,  nan,  nan, 12)\n",
      " ('DB', 13,  6,  0.,  0.,   0.00000000e+00,  0.,  0.,   0.        ,  0.,  0.5399962 ,  0.08,  0.,  0.,  0., 1,  nan,  nan,  nan, 13)\n",
      " ('DB', 14,  6,  0.,  0.,   0.00000000e+00,  0.,  0.,   0.        ,  0.,  1.11288806,  0.08,  0.,  0.,  0., 2,  nan,  nan,  nan, 14)\n",
      " ('DB', 15,  6,  0.,  0.,   0.00000000e+00,  0.,  0.,   0.        ,  0.,  0.59519763,  0.08,  0.,  0.,  0., 1,  nan,  nan,  nan, 15)\n",
      " ('DB', 16,  6,  0.,  0.,   0.00000000e+00,  0.,  0.,   0.        ,  0.,  0.65906133,  0.08,  0.,  0.,  0., 2,  nan,  nan,  nan, 16)\n",
      " ('DB', 17,  6,  0.,  0.,   0.00000000e+00,  0.,  0.,   0.        ,  0.,  0.45542041,  0.08,  0.,  0.,  0., 2,  nan,  nan,  nan, 17)\n",
      " ('DB', 18,  6,  0.,  0.,   0.00000000e+00,  0.,  0.,   0.        ,  0.,  0.17342368,  0.08,  0.,  0.,  0., 1,  nan,  nan,  nan, 18)\n",
      " ('DB', 19,  7,  0.,  0.,   0.00000000e+00,  0.,  0.,   0.        ,  0.,  1.08465045,  0.08,  0.,  0.,  0., 1,  nan,  nan,  nan, 19)\n",
      " ('DB', 20,  7,  0.,  0.,   0.00000000e+00,  0.,  0.,   0.        ,  0.,  0.95625362,  0.08,  0.,  0.,  0., 2,  nan,  nan,  nan, 20)\n",
      " ('DB', 21,  7,  0.,  0.,   0.00000000e+00,  0.,  0.,   0.        ,  0.,  0.3397625 ,  0.08,  0.,  0.,  0., 2,  nan,  nan,  nan, 21)\n",
      " ('DB', 22,  7,  0.,  0.,   0.00000000e+00,  0.,  0.,   0.        ,  0.,  0.5266722 ,  0.08,  0.,  0.,  0., 2,  nan,  nan,  nan, 22)\n",
      " ('DB', 23,  7,  0.,  0.,   0.00000000e+00,  0.,  0.,   0.        ,  0.,  0.60987894,  0.08,  0.,  0.,  0., 1,  nan,  nan,  nan, 23)\n",
      " ('DB', 24,  8,  0.,  0.,   0.00000000e+00,  0.,  0.,   0.        ,  0.,  0.34325197,  0.08,  0.,  0.,  0., 3,  nan,  nan,  nan, 24)\n",
      " ('DB', 25,  8,  0.,  0.,   0.00000000e+00,  0.,  0.,   0.        ,  0.,  0.89456092,  0.08,  0.,  0.,  0., 1,  nan,  nan,  nan, 25)\n",
      " ('DB', 26,  8,  0.,  0.,   0.00000000e+00,  0.,  0.,   0.        ,  0.,  0.72768266,  0.08,  0.,  0.,  0., 3,  nan,  nan,  nan, 26)\n",
      " ('DB', 27,  8,  0.,  0.,   0.00000000e+00,  0.,  0.,   0.        ,  0.,  0.36850351,  0.08,  0.,  0.,  0., 1,  nan,  nan,  nan, 27)\n",
      " ('DB', 28,  8,  0.,  0.,   0.00000000e+00,  0.,  0.,   0.        ,  0.,  0.8537032 ,  0.08,  0.,  0.,  0., 2,  nan,  nan,  nan, 28)\n",
      " ('DB', 29,  8,  0.,  0.,   0.00000000e+00,  0.,  0.,   0.        ,  0.,  0.89820436,  0.08,  0.,  0.,  0., 2,  nan,  nan,  nan, 29)\n",
      " ('DB', 30,  8,  0.,  0.,   0.00000000e+00,  0.,  0.,   0.        ,  0.,  0.67101342,  0.08,  0.,  0.,  0., 2,  nan,  nan,  nan, 30)\n",
      " ('DB', 31,  8,  0.,  0.,   0.00000000e+00,  0.,  0.,   0.        ,  0.,  0.72851143,  0.08,  0.,  0.,  0., 1,  nan,  nan,  nan, 31)\n",
      " ('DB', 32,  9,  0.,  0.,   0.00000000e+00,  0.,  0.,   0.        ,  0.,  0.89534875,  0.08,  0.,  0.,  0., 1,  nan,  nan,  nan, 32)\n",
      " ('DB', 33,  9,  0.,  0.,   0.00000000e+00,  0.,  0.,   0.        ,  0.,  0.56224143,  0.08,  0.,  0.,  0., 1,  nan,  nan,  nan, 33)\n",
      " ('DB', 34,  9,  0.,  0.,   0.00000000e+00,  0.,  0.,   0.        ,  0.,  0.84705053,  0.08,  0.,  0.,  0., 1,  nan,  nan,  nan, 34)\n",
      " ('DB', 35,  9,  0.,  0.,   0.00000000e+00,  0.,  0.,   0.        ,  0.,  0.83959247,  0.08,  0.,  0.,  0., 1,  nan,  nan,  nan, 35)\n",
      " ('DB', 36,  9,  0.,  0.,   0.00000000e+00,  0.,  0.,   0.        ,  0.,  0.71060259,  0.08,  0.,  0.,  0., 2,  nan,  nan,  nan, 36)\n",
      " ('DB', 37,  9,  0.,  0.,   0.00000000e+00,  0.,  0.,   0.        ,  0.,  0.56462736,  0.08,  0.,  0.,  0., 2,  nan,  nan,  nan, 37)\n",
      " ('DB', 38,  9,  0.,  0.,   0.00000000e+00,  0.,  0.,   0.        ,  0.,  0.24249029,  0.08,  0.,  0.,  0., 2,  nan,  nan,  nan, 38)\n",
      " ('DB', 39,  9,  0.,  0.,   0.00000000e+00,  0.,  0.,   0.        ,  0.,  0.91962949,  0.08,  0.,  0.,  0., 3,  nan,  nan,  nan, 39)\n",
      " ('DB', 40, 10,  0.,  0.,   0.00000000e+00,  0.,  0.,   0.        ,  0.,  1.1802982 ,  0.08,  0.,  0.,  0., 3,  nan,  nan,  nan, 40)\n",
      " ('DB', 41, 10,  0.,  0.,   0.00000000e+00,  0.,  0.,   0.        ,  0.,  0.53171813,  0.08,  0.,  0.,  0., 1,  nan,  nan,  nan, 41)\n",
      " ('DB', 42, 10,  0.,  0.,   0.00000000e+00,  0.,  0.,   0.        ,  0.,  0.23544713,  0.08,  0.,  0.,  0., 3,  nan,  nan,  nan, 42)\n",
      " ('DB', 43, 10,  0.,  0.,   0.00000000e+00,  0.,  0.,   0.        ,  0.,  0.29386136,  0.08,  0.,  0.,  0., 3,  nan,  nan,  nan, 43)\n",
      " ('DB', 44, 10,  0.,  0.,   0.00000000e+00,  0.,  0.,   0.        ,  0.,  0.81261286,  0.08,  0.,  0.,  0., 2,  nan,  nan,  nan, 44)\n",
      " ('DB', 45, 10,  0.,  0.,   0.00000000e+00,  0.,  0.,   0.        ,  0.,  0.75186021,  0.08,  0.,  0.,  0., 2,  nan,  nan,  nan, 45)\n",
      " ('DB', 46, 10,  0.,  0.,   0.00000000e+00,  0.,  0.,   0.        ,  0.,  0.75961835,  0.08,  0.,  0.,  0., 2,  nan,  nan,  nan, 46)\n",
      " ('DB', 47, 10,  0.,  0.,   0.00000000e+00,  0.,  0.,   0.        ,  0.,  0.64472028,  0.08,  0.,  0.,  0., 2,  nan,  nan,  nan, 47)\n",
      " ('DB', 48, 11,  0.,  0.,   0.00000000e+00,  0.,  0.,   0.        ,  0.,  0.34253877,  0.08,  0.,  0.,  0., 3,  nan,  nan,  nan, 48)\n",
      " ('DB', 49, 11,  0.,  0.,   0.00000000e+00,  0.,  0.,   0.        ,  0.,  1.14993568,  0.08,  0.,  0.,  0., 2,  nan,  nan,  nan, 49)\n",
      " ('DB', 50, 11,  0.,  0.,   0.00000000e+00,  0.,  0.,   0.        ,  0.,  0.43798613,  0.08,  0.,  0.,  0., 2,  nan,  nan,  nan, 50)\n",
      " ('DB', 51, 11,  0.,  0.,   0.00000000e+00,  0.,  0.,   0.        ,  0.,  0.73641116,  0.08,  0.,  0.,  0., 3,  nan,  nan,  nan, 51)\n",
      " ('DB', 52, 13,  0.,  0.,   0.00000000e+00,  0.,  0.,   0.        ,  0.,  0.67585453,  0.08,  0.,  0.,  0., 2,  nan,  nan,  nan, 52)\n",
      " ('DB', 53, 13,  0.,  0.,   0.00000000e+00,  0.,  0.,   0.        ,  0.,  0.91225979,  0.08,  0.,  0.,  0., 3,  nan,  nan,  nan, 53)\n",
      " ('DB', 54, 13,  0.,  0.,   0.00000000e+00,  0.,  0.,   0.        ,  0.,  0.77077555,  0.08,  0.,  0.,  0., 2,  nan,  nan,  nan, 54)\n",
      " ('DB', 55, 13,  0.,  0.,   0.00000000e+00,  0.,  0.,   0.        ,  0.,  0.25810395,  0.08,  0.,  0.,  0., 3,  nan,  nan,  nan, 55)\n",
      " ('DB', 56, 14,  0.,  0.,   0.00000000e+00,  0.,  0.,   0.        ,  0.,  0.57779058,  0.08,  0.,  0.,  0., 2,  nan,  nan,  nan, 56)\n",
      " ('DB', 57, 14,  0.,  0.,   0.00000000e+00,  0.,  0.,   0.        ,  0.,  0.23004535,  0.08,  0.,  0.,  0., 2,  nan,  nan,  nan, 57)\n",
      " ('DB', 58, 14,  0.,  0.,   0.00000000e+00,  0.,  0.,   0.        ,  0.,  0.8089885 ,  0.08,  0.,  0.,  0., 2,  nan,  nan,  nan, 58)\n",
      " ('DB', 59, 14,  0.,  0.,   0.00000000e+00,  0.,  0.,   0.        ,  0.,  1.03179766,  0.08,  0.,  0.,  0., 2,  nan,  nan,  nan, 59)\n",
      " ('DB', 60, 14,  0.,  0.,   0.00000000e+00,  0.,  0.,   0.        ,  0.,  0.62133072,  0.08,  0.,  0.,  0., 2,  nan,  nan,  nan, 60)\n",
      " ('DB', 61, 14,  0.,  0.,   0.00000000e+00,  0.,  0.,   0.        ,  0.,  0.77981897,  0.08,  0.,  0.,  0., 3,  nan,  nan,  nan, 61)\n",
      " ('DB', 62, 14,  0.,  0.,   0.00000000e+00,  0.,  0.,   0.        ,  0.,  0.67203747,  0.08,  0.,  0.,  0., 1,  nan,  nan,  nan, 62)\n",
      " ('DB', 63, 15,  0.,  0.,   0.00000000e+00,  0.,  0.,   0.        ,  0.,  0.80757889,  0.08,  0.,  0.,  0., 3,  nan,  nan,  nan, 63)\n",
      " ('DB', 64, 15,  0.,  0.,   0.00000000e+00,  0.,  0.,   0.        ,  0.,  0.65912073,  0.08,  0.,  0.,  0., 1,  nan,  nan,  nan, 64)\n",
      " ('DB', 65, 15,  0.,  0.,   0.00000000e+00,  0.,  0.,   0.        ,  0.,  0.65861743,  0.08,  0.,  0.,  0., 1,  nan,  nan,  nan, 65)\n",
      " ('DB', 66, 15,  0.,  0.,   0.00000000e+00,  0.,  0.,   0.        ,  0.,  0.84787508,  0.08,  0.,  0.,  0., 1,  nan,  nan,  nan, 66)\n",
      " ('DB', 67, 15,  0.,  0.,   0.00000000e+00,  0.,  0.,   0.        ,  0.,  0.96524499,  0.08,  0.,  0.,  0., 1,  nan,  nan,  nan, 67)\n",
      " ('DB', 68, 15,  0.,  0.,   0.00000000e+00,  0.,  0.,   0.        ,  0.,  0.44746653,  0.08,  0.,  0.,  0., 1,  nan,  nan,  nan, 68)\n",
      " ('DB', 69, 15,  0.,  0.,   0.00000000e+00,  0.,  0.,   0.        ,  0.,  0.55970836,  0.08,  0.,  0.,  0., 1,  nan,  nan,  nan, 69)]\n"
     ]
    },
    {
     "ename": "UnboundLocalError",
     "evalue": "local variable 'out_df' referenced before assignment",
     "output_type": "error",
     "traceback": [
      "\u001b[1;31m---------------------------------------------------------------------------\u001b[0m",
      "\u001b[1;31mUnboundLocalError\u001b[0m                         Traceback (most recent call last)",
      "Cell \u001b[1;32mIn[15], line 15\u001b[0m\n\u001b[0;32m     13\u001b[0m \u001b[39mif\u001b[39;00m (i\u001b[39m/\u001b[39m\u001b[39m7\u001b[39m)\u001b[39m.\u001b[39mis_integer():\n\u001b[0;32m     14\u001b[0m     foredune\u001b[39m.\u001b[39msave_output()\n\u001b[1;32m---> 15\u001b[0m     foredune\u001b[39m.\u001b[39;49mget_plant_output(\u001b[39m'\u001b[39;49m\u001b[39mAb\u001b[39;49m\u001b[39m'\u001b[39;49m)\n\u001b[0;32m     16\u001b[0m     write_netcdf(\u001b[39m\"\u001b[39m\u001b[39mdune.nc\u001b[39m\u001b[39m\"\u001b[39m,pg, \u001b[39mformat\u001b[39m\u001b[39m=\u001b[39m\u001b[39m\"\u001b[39m\u001b[39mNETCDF3_64BIT\u001b[39m\u001b[39m\"\u001b[39m,append\u001b[39m=\u001b[39m\u001b[39mTrue\u001b[39;00m, time\u001b[39m=\u001b[39m(foredune\u001b[39m.\u001b[39mcurrent_day\u001b[39m-\u001b[39mforedune\u001b[39m.\u001b[39mstart_date)\u001b[39m.\u001b[39mastype(\u001b[39mfloat\u001b[39m)\u001b[39m-\u001b[39m\u001b[39m1\u001b[39m, names\u001b[39m=\u001b[39m[\u001b[39m'\u001b[39m\u001b[39mvegetation__total_biomass\u001b[39m\u001b[39m'\u001b[39m, \u001b[39m'\u001b[39m\u001b[39mvegetation__n_plants\u001b[39m\u001b[39m'\u001b[39m, \u001b[39m'\u001b[39m\u001b[39mvegetation__percent_cover\u001b[39m\u001b[39m'\u001b[39m])\n",
      "File \u001b[1;32mD:\\Python\\landlab\\landlab\\components\\genveg\\integrator.py:319\u001b[0m, in \u001b[0;36mGenVeg.get_plant_output\u001b[1;34m(self, species)\u001b[0m\n\u001b[0;32m    317\u001b[0m         \u001b[39mif\u001b[39;00m species_obj\u001b[39m.\u001b[39mspecies_name\u001b[39m==\u001b[39mspecies:\n\u001b[0;32m    318\u001b[0m             out_df\u001b[39m=\u001b[39mspecies_obj\u001b[39m.\u001b[39mrecord_plants\u001b[39m.\u001b[39mdataset\u001b[39m.\u001b[39mto_dataframe()\n\u001b[1;32m--> 319\u001b[0m \u001b[39mreturn\u001b[39;00m out_df\n",
      "\u001b[1;31mUnboundLocalError\u001b[0m: local variable 'out_df' referenced before assignment"
     ]
    }
   ],
   "source": [
    "temp_dir = tempfile.mkdtemp()\n",
    "os.chdir(temp_dir)\n",
    "j=-1\n",
    "for i in range(run_length_d):\n",
    "    #update temp attribute on grid\n",
    "    if (i/30).is_integer():\n",
    "        pg.at_cell['air__temperature_C']= meantemp[j+1]*np.ones(pg.number_of_cells)\n",
    "        pg.at_cell['radiation__par_tot']= NJ_avg_par[j+1]*np.ones(pg.number_of_cells)\n",
    "        j+=1\n",
    "    #update solar radiation on grid\n",
    "    foredune.run_one_step()\n",
    "    \n",
    "    if (i/7).is_integer():\n",
    "        foredune.save_output()\n",
    "        write_netcdf(\"dune.nc\",pg, format=\"NETCDF3_64BIT\",append=True, time=(foredune.current_day-foredune.start_date).astype(float)-1, names=['vegetation__total_biomass', 'vegetation__n_plants', 'vegetation__percent_cover'])\n"
   ]
  },
  {
   "cell_type": "code",
   "execution_count": null,
   "metadata": {},
   "outputs": [],
   "source": [
    "print(vegparams)"
   ]
  },
  {
   "cell_type": "code",
   "execution_count": null,
   "metadata": {},
   "outputs": [],
   "source": [
    "output=foredune.get_plant_output()"
   ]
  },
  {
   "cell_type": "markdown",
   "metadata": {},
   "source": [
    "grid = netcdf_file('crop.nc', 'r')\n",
    "print(grid.__dict__)"
   ]
  },
  {
   "cell_type": "markdown",
   "metadata": {},
   "source": [
    "timegrid=grid.variables['t']\n",
    "timegrid[:]"
   ]
  },
  {
   "cell_type": "markdown",
   "metadata": {},
   "source": [
    "vegbio=grid.variables['vegetation__total_biomass']\n",
    "vegbio.shape"
   ]
  },
  {
   "cell_type": "markdown",
   "metadata": {},
   "source": [
    "vegbio[10,:,:]"
   ]
  },
  {
   "cell_type": "code",
   "execution_count": null,
   "metadata": {},
   "outputs": [],
   "source": [
    "output.index.unique(level=2)"
   ]
  },
  {
   "cell_type": "code",
   "execution_count": null,
   "metadata": {},
   "outputs": [],
   "source": [
    "output.loc[:, 'Wheat',8] #timestep,species,plant number in []"
   ]
  },
  {
   "cell_type": "markdown",
   "metadata": {},
   "source": [
    "output.loc[21.0]"
   ]
  },
  {
   "cell_type": "code",
   "execution_count": null,
   "metadata": {},
   "outputs": [],
   "source": [
    "biomass = output[\"vegetation__root_biomass\"].values\n",
    "display(biomass)\n"
   ]
  },
  {
   "cell_type": "markdown",
   "metadata": {},
   "source": [
    "grid.close()"
   ]
  }
 ],
 "metadata": {
  "kernelspec": {
   "display_name": "landlab_dev",
   "language": "python",
   "name": "python3"
  },
  "language_info": {
   "codemirror_mode": {
    "name": "ipython",
    "version": 3
   },
   "file_extension": ".py",
   "mimetype": "text/x-python",
   "name": "python",
   "nbconvert_exporter": "python",
   "pygments_lexer": "ipython3",
   "version": "3.10.8"
  },
  "orig_nbformat": 2,
  "vscode": {
   "interpreter": {
    "hash": "a659767ac5a0dd5bf47687479e1b9a209e1b684434a4e040a1819f789cf57b87"
   }
  }
 },
 "nbformat": 4,
 "nbformat_minor": 2
}
