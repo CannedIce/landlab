{
 "cells": [
  {
   "attachments": {},
   "cell_type": "markdown",
   "metadata": {},
   "source": [
    "# GenVeg Main Script\n",
    "## Test dune vegetation implementation\n",
    "GenVeg is a generalized vegetation growth model that simulates growth due to\n",
    "photosynthesis as well as processes that control vegetation distribution such\n",
    "as mortality, senescence, dispersal, and colonization. The model utilizes a \n",
    "mixture of existing and new Landlab components to setup the model, simulates\n",
    "relevant vegetation community dynamics with the local environment, and analyzes\n",
    "results of the simulation. "
   ]
  },
  {
   "cell_type": "markdown",
   "metadata": {},
   "source": [
    "## Main model control set up\n",
    "### Import components"
   ]
  },
  {
   "cell_type": "code",
   "execution_count": 1,
   "metadata": {},
   "outputs": [],
   "source": [
    "import numpy as np, pandas as pd\n",
    "import os, tempfile\n",
    "from pathlib import Path\n",
    "from datetime import date\n",
    "from matplotlib.pyplot import title, show, figure, plot, subplot, xlabel, ylabel\n",
    "from landlab import RasterModelGrid, imshow_grid, load_params\n",
    "from landlab.data_record import DataRecord\n",
    "from landlab.components.genveg import VegParams, GenVeg\n",
    "from landlab.io.netcdf import write_netcdf, read_netcdf\n",
    "from scipy.io import netcdf_file"
   ]
  },
  {
   "attachments": {},
   "cell_type": "markdown",
   "metadata": {},
   "source": [
    "### Define time controls\n",
    "\n",
    "This sets up a one-year run with a daily timestep."
   ]
  },
  {
   "cell_type": "code",
   "execution_count": 2,
   "metadata": {},
   "outputs": [],
   "source": [
    "sim_start_date = np.datetime64('2010-01-01')\n",
    "tot_sim_len_y = 30\n",
    "veg_time_step_d = 1\n",
    "env_time_step_d = 1\n",
    "dt=np.timedelta64(min([veg_time_step_d,env_time_step_d]),'D')\n",
    "run_length_d=365"
   ]
  },
  {
   "cell_type": "markdown",
   "metadata": {},
   "source": [
    "### Define filenames for input files\n",
    "##### *Note should be located in same folder as this .ipynb"
   ]
  },
  {
   "cell_type": "code",
   "execution_count": 3,
   "metadata": {},
   "outputs": [],
   "source": [
    "VegInputFile = 'GenVeg_Dune_Simulation.xlsx'"
   ]
  },
  {
   "cell_type": "markdown",
   "metadata": {},
   "source": [
    "### Read in parameter and data input files\n",
    "Identify model processes to be included so all required parameters are defined and calculated"
   ]
  },
  {
   "cell_type": "code",
   "execution_count": 4,
   "metadata": {},
   "outputs": [
    {
     "name": "stdout",
     "output_type": "stream",
     "text": [
      "Not enough points to generate logistic function. Assuming zero mortality.\n",
      "{'Corn': {'col_params': {'prob_colonization': 0.01, 'time_to_colonization': 365}, 'dispersal_params': {'max_dist_dispersal': 0.936, 'min_size_dispersal': 0.5, 'unit_cost_dispersal': 32.05128205128205}, 'duration_params': {'growing_season_end': 243, 'growing_season_start': 121, 'reproduction_start': 180, 'senescence_start': 228}, 'grow_params': {'glucose_requirement': {'leaf': 1.463, 'reproductive': 1.414, 'root': 1.444, 'stem': 1.513, 'storage': 1.415}, 'growth_max_biomass': 61, 'growth_min_biomass': 0.61, 'k_light_extinct': 0.51, 'light_half_sat': 100, 'p_max': 0.0372, 'plant_part_max': {'leaf': 30, 'reproductive': 30, 'root': 6, 'stem': 25, 'storage': 5}, 'plant_part_min': {'leaf': 0.5, 'reproductive': 0, 'root': 0.01, 'stem': 0.1, 'storage': 0}, 'respiration_coefficient': {'leaf': 0.03, 'reproductive': 0.01, 'root': 0.015, 'stem': 0.015, 'storage': 0.01}, 'root_to_leaf': {'a': 0.031, 'b1': 0.951, 'b2': 0}, 'root_to_stem': {'a': -0.107, 'b1': 1.098, 'b2': 0.0216}, 'total_max_biomass': 96, 'total_min_biomass': 0.61}, 'morph_params': {'max_height': 1, 'max_n_stems': 3, 'max_plant_density': 34, 'max_root_sys_depth': 1.45, 'max_root_sys_width': 1.3, 'max_shoot_sys_width': 0.98, 'min_height': 0.231, 'min_root_sys_depth': 0.1, 'min_root_sys_width': 0.1, 'min_shoot_sys_width': 0.1}, 'mortality_params': {'coeffs': {1: [4129.058500399548, 0.18067979840999768], 2: [0, 0]}, 'duration': {1: 207, 2: 365}, 'mort_variable_name': {1: 'Distance to shore', 2: 'Minimum elevation'}, 'period': {1: 'during growing season', 2: 'during growing season'}, 'predictor': {1: [30, 40, 50, -9999, -9999], 2: [0, 0.2, 0.5, 0.68, 1.12]}, 'response': {1: [0.01, 0.25, 0.67, -9999, -9999], 2: [0, 0, 0, 1, 1]}}, 'plant_factors': {'angio_gymno': 'angiosperm', 'duration': 'annual', 'growth_form': 'single_stem', 'growth_habit': 'graminoid', 'leaf_retention': 'deciduous', 'monocot_dicot': 'monocot', 'p_type': 'C4', 'shape': 'erect', 'species': 'Corn'}}, 'Wheat': {'col_params': {'prob_colonization': 0.01, 'time_to_colonization': 365}, 'dispersal_params': {'max_dist_dispersal': 0.936, 'min_size_dispersal': 0.5, 'unit_cost_dispersal': 4.273504273504273}, 'duration_params': {'growing_season_end': 305, 'growing_season_start': 144, 'reproduction_start': 180, 'senescence_start': 273}, 'grow_params': {'glucose_requirement': {'leaf': 1.463, 'reproductive': 1.414, 'root': 1.444, 'stem': 1.513, 'storage': 1.415}, 'growth_max_biomass': 10.23, 'growth_min_biomass': 0.61, 'k_light_extinct': 0.48, 'light_half_sat': 100, 'p_max': 0.05, 'plant_part_max': {'leaf': 4, 'reproductive': 4, 'root': 1.23, 'stem': 5, 'storage': 1}, 'plant_part_min': {'leaf': 0.5, 'reproductive': 0, 'root': 0.01, 'stem': 0.1, 'storage': 0}, 'respiration_coefficient': {'leaf': 0.03, 'reproductive': 0.01, 'root': 0.015, 'stem': 0.015, 'storage': 0.01}, 'root_to_leaf': {'a': 0.031, 'b1': 0.951, 'b2': 0}, 'root_to_stem': {'a': -0.107, 'b1': 1.098, 'b2': 0.0216}, 'total_max_biomass': 15.23, 'total_min_biomass': 0.61}, 'morph_params': {'max_height': 1, 'max_n_stems': 3, 'max_plant_density': 34, 'max_root_sys_depth': 2.3, 'max_root_sys_width': 1.2, 'max_shoot_sys_width': 1.2, 'min_height': 0.231, 'min_root_sys_depth': 0.1, 'min_root_sys_width': 0.1, 'min_shoot_sys_width': 0.1}, 'mortality_params': {'coeffs': {1: [4129.058500399548, 0.18067979840999768], 2: [3928509.810368001, 23.89412144739613]}, 'duration': {1: 207, 2: 365}, 'mort_variable_name': {1: 'Distance to shore', 2: 'Minimum elevation'}, 'period': {1: 'during growing season', 2: 'during growing season'}, 'predictor': {1: [30, 40, 50, -9999, -9999], 2: [0, 0.5, 0.6, 0.68, 1.12]}, 'response': {1: [0.01, 0.25, 0.67, -9999, -9999], 2: [0, 0, 0.3, 1, 1]}}, 'plant_factors': {'angio_gymno': 'angiosperm', 'duration': 'perennial', 'growth_form': 'bunch', 'growth_habit': 'graminoid', 'leaf_retention': 'deciduous', 'monocot_dicot': 'monocot', 'p_type': 'C3', 'shape': 'erect', 'species': 'Wheat'}}}\n"
     ]
    }
   ],
   "source": [
    "inp_file=Path(VegInputFile).absolute()\n",
    "VegParams(fpath=inp_file,processes=['plantsize','dispersal','mortality'])\n",
    "vegparams=load_params('veg_params.yml')\n",
    "print(vegparams)"
   ]
  },
  {
   "cell_type": "markdown",
   "metadata": {},
   "source": [
    "### Set up model grid using landlab RasterModelGrid functions\n",
    "\n",
    "- Create the model grid\n",
    "- Initialize live vegetation biomass and plant functional type\n",
    "- Initialize the air temperature driver across the grid\n",
    "\n",
    "##### **Note variable names should be consistent with landlab standards"
   ]
  },
  {
   "cell_type": "code",
   "execution_count": 5,
   "metadata": {},
   "outputs": [],
   "source": [
    "#Create grid 10x10 node grid with 2 m node spacing and xy of origin in lat long roughly corresponding to Island Beach State Park\n",
    "pg = RasterModelGrid((6, 6), 2.0, xy_of_reference=(-74.08,39.79))\n",
    "pg.axis_units = ('m', 'm')\n",
    "\n",
    "#Create dummy datasets of mean monthly temperature, PAR, distance to the shore, and elevation relative to sea level\n",
    "meantemp=[-0.20,  0.87,  4.40,  9.81,  15.36,  20.64,  23.86,  23.33, 19.95, 13.80,  7.85,  2.77, 11.93]\n",
    "NJ_avg_par=[36.38, 52.39, 70.82, 92.88, 105.00, 116.38, 118.75, 103.21, 84.41, 59.15, 42.18, 31.98, 76.22]                \n",
    "dist2shore=np.array([40,40,40,40,42,42,42,42,44,44,44,44,46,46,46,46])\n",
    "rel_elev=np.array([0.4,0.4,0.4,0.4,0.6,0.6,0.6,0.6,0.9,0.9,0.9,0.9,1.2,1.2,1.2,1.2])\n",
    "\n",
    "#Initialize with a dummy data sets \n",
    "_ = pg.add_field('air__temperature_C', meantemp[0]*np.ones(pg.number_of_cells), at='cell', units='C' )\n",
    "_ = pg.add_field('radiation__par_tot', NJ_avg_par[0]*np.ones(pg.number_of_cells), at='cell', units='W/m^2')\n",
    "_ = pg.add_field('Distance to shore', dist2shore, at='cell', units='m')\n",
    "_ = pg.add_field('Minimum elevation', rel_elev, at='cell', units='m')"
   ]
  },
  {
   "attachments": {},
   "cell_type": "markdown",
   "metadata": {},
   "source": [
    "Now we initialize plants. We can do this in multiple ways. Here we are going to seed two species in a grid with 1/2 occupied by Ammophila, 1/2 by Spartina, at single and double planting densities, respectively.\n",
    "\n",
    "Future iterations will rely on species boundaries and percent cover to initialize the plants."
   ]
  },
  {
   "cell_type": "code",
   "execution_count": 6,
   "metadata": {},
   "outputs": [],
   "source": [
    "#Initialize plant functional type as burial tolerant stabilizer or dune builder and randomly place on grid\n",
    "_ = pg.add_field('vegetation__percent_cover', np.random.default_rng().uniform(low=0.0, high=1.0, size=pg.number_of_cells), at='cell', clobber=True)\n",
    "plant_list=[['DB','null'],['DB','BTS'],['BTS','null']]\n",
    "_ = pg.add_field('vegetation__plant_species',np.random.default_rng().choice(plant_list,pg.number_of_cells), at='cell', clobber=True)\n"
   ]
  },
  {
   "cell_type": "code",
   "execution_count": 7,
   "metadata": {},
   "outputs": [
    {
     "data": {
      "text/plain": [
       "array([ 0.84445774,  0.25226204,  0.01918553,  0.72668472,  0.22616868,\n",
       "        0.98797947,  0.97706641,  0.09740351,  0.53688472,  0.59471847,\n",
       "        0.88149274,  0.95880543,  0.59078921,  0.47334809,  0.47511502,\n",
       "        0.64201045])"
      ]
     },
     "execution_count": 7,
     "metadata": {},
     "output_type": "execute_result"
    }
   ],
   "source": [
    "pg['cell']['vegetation__percent_cover']"
   ]
  },
  {
   "cell_type": "code",
   "execution_count": 8,
   "metadata": {},
   "outputs": [
    {
     "data": {
      "text/plain": [
       "array([['BTS', 'null'],\n",
       "       ['BTS', 'null'],\n",
       "       ['DB', 'null'],\n",
       "       ['DB', 'null'],\n",
       "       ['DB', 'BTS'],\n",
       "       ['DB', 'BTS'],\n",
       "       ['BTS', 'null'],\n",
       "       ['BTS', 'null'],\n",
       "       ['BTS', 'null'],\n",
       "       ['DB', 'BTS'],\n",
       "       ['DB', 'null'],\n",
       "       ['DB', 'BTS'],\n",
       "       ['BTS', 'null'],\n",
       "       ['BTS', 'null'],\n",
       "       ['DB', 'BTS'],\n",
       "       ['DB', 'null']],\n",
       "      dtype='<U4')"
      ]
     },
     "execution_count": 8,
     "metadata": {},
     "output_type": "execute_result"
    }
   ],
   "source": [
    "pg['cell']['vegetation__plant_species']"
   ]
  },
  {
   "attachments": {},
   "cell_type": "markdown",
   "metadata": {},
   "source": [
    "### Define model time variables"
   ]
  },
  {
   "attachments": {},
   "cell_type": "markdown",
   "metadata": {},
   "source": [
    "Initialize dune GenVeg class with veg_params from Excel file"
   ]
  },
  {
   "cell_type": "code",
   "execution_count": 9,
   "metadata": {},
   "outputs": [],
   "source": [
    "foredune=GenVeg(pg,dt,sim_start_date,vegparams)"
   ]
  },
  {
   "cell_type": "code",
   "execution_count": 10,
   "metadata": {},
   "outputs": [
    {
     "name": "stdout",
     "output_type": "stream",
     "text": [
      "[{'BTS': 0.84445773725086593}, {'BTS': 0.25226203507085387}, {'DB': 0.01918553122059985}, {'DB': 0.72668471602827389}, {'DB': 0.12961627118295654, 'BTS': 0.096552405954464834}, {'DB': 0.31852463313543983, 'BTS': 0.66945483763366942}, {'BTS': 0.97706641426097685}, {'BTS': 0.097403508661609739}, {'BTS': 0.53688472384474972}, {'DB': 0.50702572504005305, 'BTS': 0.087692744275026699}, {'DB': 0.88149273850061305}, {'DB': 0.4705847300310993, 'BTS': 0.48822070351744329}, {'BTS': 0.59078920799840118}, {'BTS': 0.47334808770445513}, {'DB': 0.18479806705949561, 'BTS': 0.29031695614219721}, {'DB': 0.64201044990516232}]\n"
     ]
    }
   ],
   "source": [
    "foredune.get_int_output()"
   ]
  },
  {
   "cell_type": "code",
   "execution_count": 11,
   "metadata": {},
   "outputs": [
    {
     "data": {
      "image/png": "[encoded data removed]",
      "text/plain": [
       "<Figure size 640x480 with 2 Axes>"
      ]
     },
     "metadata": {},
     "output_type": "display_data"
    }
   ],
   "source": [
    "imshow_grid(pg, 'vegetation__total_biomass', at='cell', colorbar_label='Live biomass g')"
   ]
  },
  {
   "cell_type": "code",
   "execution_count": 12,
   "metadata": {},
   "outputs": [
    {
     "data": {
      "image/png": "[encoded data removed]",
      "text/plain": [
       "<Figure size 640x480 with 2 Axes>"
      ]
     },
     "metadata": {},
     "output_type": "display_data"
    }
   ],
   "source": [
    "imshow_grid(pg, 'vegetation__n_plants', at='cell', colorbar_label='number of plants')"
   ]
  },
  {
   "cell_type": "code",
   "execution_count": 13,
   "metadata": {},
   "outputs": [
    {
     "data": {
      "image/png": "[encoded data removed]",
      "text/plain": [
       "<Figure size 640x480 with 2 Axes>"
      ]
     },
     "metadata": {},
     "output_type": "display_data"
    }
   ],
   "source": [
    "imshow_grid(pg, 'vegetation__percent_cover', at='cell', colorbar_label='percent_cover')"
   ]
  },
  {
   "cell_type": "code",
   "execution_count": 14,
   "metadata": {},
   "outputs": [
    {
     "data": {
      "text/plain": [
       "array([],\n",
       "      dtype=[('species', '<U10'), ('pid', '<i4'), ('cell_index', '<i4'), ('x_loc', '<f8'), ('y_loc', '<f8'), (('root', 'root_biomass'), '<f8'), (('leaf', 'leaf_biomass'), '<f8'), (('stem', 'stem_biomass'), '<f8'), (('storage', 'storage_biomass'), '<f8'), (('reproductive', 'repro_biomass'), '<f8'), ('shoot_sys_width', '<f8'), ('root_sys_width', '<f8'), ('shoot_sys_height', '<f8'), ('root_sys_depth', '<f8'), ('plant_age', '<f8'), ('n_stems', '<i4'), ('pup_x_loc', '<f8'), ('pup_y_loc', '<f8'), ('pup_cost', '<f8'), ('item_id', '<i4')])"
      ]
     },
     "execution_count": 14,
     "metadata": {},
     "output_type": "execute_result"
    }
   ],
   "source": [
    "foredune.plant_species[1].species_plants()"
   ]
  },
  {
   "cell_type": "markdown",
   "metadata": {},
   "source": [
    "## Main model loop script\n",
    "This is the main model loop that controls the simulation that\n",
    "- Advances model time \n",
    "- Updates environmental variables\n",
    "- Simulates changes to vegetation communities\n",
    "- Stores outputs"
   ]
  },
  {
   "cell_type": "code",
   "execution_count": 15,
   "metadata": {},
   "outputs": [
    {
     "ename": "ValueError",
     "evalue": "assignment destination is read-only",
     "output_type": "error",
     "traceback": [
      "\u001b[1;31m---------------------------------------------------------------------------\u001b[0m",
      "\u001b[1;31mValueError\u001b[0m                                Traceback (most recent call last)",
      "Cell \u001b[1;32mIn[15], line 14\u001b[0m\n\u001b[0;32m     11\u001b[0m foredune\u001b[39m.\u001b[39mrun_one_step()\n\u001b[0;32m     13\u001b[0m \u001b[39mif\u001b[39;00m (i\u001b[39m/\u001b[39m\u001b[39m7\u001b[39m)\u001b[39m.\u001b[39mis_integer():\n\u001b[1;32m---> 14\u001b[0m     foredune\u001b[39m.\u001b[39;49msave_output()\n\u001b[0;32m     15\u001b[0m     foredune\u001b[39m.\u001b[39mget_plant_output(\u001b[39m'\u001b[39m\u001b[39mAb\u001b[39m\u001b[39m'\u001b[39m)\n\u001b[0;32m     16\u001b[0m     write_netcdf(\u001b[39m\"\u001b[39m\u001b[39mdune.nc\u001b[39m\u001b[39m\"\u001b[39m,pg, \u001b[39mformat\u001b[39m\u001b[39m=\u001b[39m\u001b[39m\"\u001b[39m\u001b[39mNETCDF3_64BIT\u001b[39m\u001b[39m\"\u001b[39m,append\u001b[39m=\u001b[39m\u001b[39mTrue\u001b[39;00m, time\u001b[39m=\u001b[39m(foredune\u001b[39m.\u001b[39mcurrent_day\u001b[39m-\u001b[39mforedune\u001b[39m.\u001b[39mstart_date)\u001b[39m.\u001b[39mastype(\u001b[39mfloat\u001b[39m)\u001b[39m-\u001b[39m\u001b[39m1\u001b[39m, names\u001b[39m=\u001b[39m[\u001b[39m'\u001b[39m\u001b[39mvegetation__total_biomass\u001b[39m\u001b[39m'\u001b[39m, \u001b[39m'\u001b[39m\u001b[39mvegetation__n_plants\u001b[39m\u001b[39m'\u001b[39m, \u001b[39m'\u001b[39m\u001b[39mvegetation__percent_cover\u001b[39m\u001b[39m'\u001b[39m])\n",
      "File \u001b[1;32mD:\\Python\\landlab\\landlab\\components\\genveg\\integrator.py:299\u001b[0m, in \u001b[0;36mGenVeg.save_output\u001b[1;34m(self, save_params)\u001b[0m\n\u001b[0;32m    297\u001b[0m \u001b[39mfor\u001b[39;00m species_obj \u001b[39min\u001b[39;00m \u001b[39mself\u001b[39m\u001b[39m.\u001b[39mplant_species:\n\u001b[0;32m    298\u001b[0m     species_obj\u001b[39m.\u001b[39mspecies_plants()\n\u001b[1;32m--> 299\u001b[0m     species_obj\u001b[39m.\u001b[39;49msave_plant_output(rel_time, save_params)\n\u001b[0;32m    300\u001b[0m \u001b[39mself\u001b[39m\u001b[39m.\u001b[39mtime_ind \u001b[39m+\u001b[39m\u001b[39m=\u001b[39m \u001b[39m1\u001b[39m\n",
      "File \u001b[1;32mD:\\Python\\landlab\\landlab\\components\\genveg\\growth.py:536\u001b[0m, in \u001b[0;36mPlantGrowth.save_plant_output\u001b[1;34m(self, rel_time, save_params)\u001b[0m\n\u001b[0;32m    531\u001b[0m \u001b[39mself\u001b[39m\u001b[39m.\u001b[39mrecord_plants\u001b[39m.\u001b[39madd_record(\n\u001b[0;32m    532\u001b[0m     time\u001b[39m=\u001b[39mnp\u001b[39m.\u001b[39marray([rel_time])\n\u001b[0;32m    533\u001b[0m )\n\u001b[0;32m    534\u001b[0m \u001b[39mself\u001b[39m\u001b[39m.\u001b[39mrecord_plants\u001b[39m.\u001b[39mffill_grid_element_and_id()\n\u001b[1;32m--> 536\u001b[0m \u001b[39mself\u001b[39;49m\u001b[39m.\u001b[39;49mrecord_plants\u001b[39m.\u001b[39;49mdataset[\u001b[39m'\u001b[39;49m\u001b[39mvegetation__species\u001b[39;49m\u001b[39m'\u001b[39;49m]\u001b[39m.\u001b[39;49mvalues[:,\u001b[39mself\u001b[39;49m\u001b[39m.\u001b[39;49mtime_ind]\u001b[39m=\u001b[39m\u001b[39mself\u001b[39m\u001b[39m.\u001b[39mplants[\u001b[39m'\u001b[39m\u001b[39mspecies\u001b[39m\u001b[39m'\u001b[39m]\n\u001b[0;32m    537\u001b[0m \u001b[39mself\u001b[39m\u001b[39m.\u001b[39mrecord_plants\u001b[39m.\u001b[39mdataset[\u001b[39m'\u001b[39m\u001b[39mvegetation__root_biomass\u001b[39m\u001b[39m'\u001b[39m]\u001b[39m.\u001b[39mvalues[:,\u001b[39mself\u001b[39m\u001b[39m.\u001b[39mtime_ind]\u001b[39m=\u001b[39m\u001b[39mself\u001b[39m\u001b[39m.\u001b[39mplants[\u001b[39m'\u001b[39m\u001b[39mroot_biomass\u001b[39m\u001b[39m'\u001b[39m]\n\u001b[0;32m    538\u001b[0m \u001b[39mself\u001b[39m\u001b[39m.\u001b[39mrecord_plants\u001b[39m.\u001b[39mdataset[\u001b[39m'\u001b[39m\u001b[39mvegetation__leaf_biomass\u001b[39m\u001b[39m'\u001b[39m]\u001b[39m.\u001b[39mvalues[:,\u001b[39mself\u001b[39m\u001b[39m.\u001b[39mtime_ind]\u001b[39m=\u001b[39m\u001b[39mself\u001b[39m\u001b[39m.\u001b[39mplants[\u001b[39m'\u001b[39m\u001b[39mleaf_biomass\u001b[39m\u001b[39m'\u001b[39m]\n",
      "\u001b[1;31mValueError\u001b[0m: assignment destination is read-only"
     ]
    }
   ],
   "source": [
    "temp_dir = tempfile.mkdtemp()\n",
    "os.chdir(temp_dir)\n",
    "j=-1\n",
    "for i in range(run_length_d):\n",
    "    #update temp attribute on grid\n",
    "    if (i/30).is_integer():\n",
    "        pg.at_cell['air__temperature_C']= meantemp[j+1]*np.ones(pg.number_of_cells)\n",
    "        pg.at_cell['radiation__par_tot']= NJ_avg_par[j+1]*np.ones(pg.number_of_cells)\n",
    "        j+=1\n",
    "    #update solar radiation on grid\n",
    "    foredune.run_one_step()\n",
    "    \n",
    "    if (i/7).is_integer():\n",
    "        foredune.save_output()\n",
    "        foredune.get_plant_output('Ab')\n",
    "        write_netcdf(\"dune.nc\",pg, format=\"NETCDF3_64BIT\",append=True, time=(foredune.current_day-foredune.start_date).astype(float)-1, names=['vegetation__total_biomass', 'vegetation__n_plants', 'vegetation__percent_cover'])\n"
   ]
  },
  {
   "cell_type": "code",
   "execution_count": null,
   "metadata": {},
   "outputs": [],
   "source": [
    "print(vegparams)"
   ]
  },
  {
   "cell_type": "code",
   "execution_count": null,
   "metadata": {},
   "outputs": [],
   "source": [
    "output=foredune.get_plant_output()"
   ]
  },
  {
   "cell_type": "markdown",
   "metadata": {},
   "source": [
    "grid = netcdf_file('crop.nc', 'r')\n",
    "print(grid.__dict__)"
   ]
  },
  {
   "cell_type": "markdown",
   "metadata": {},
   "source": [
    "timegrid=grid.variables['t']\n",
    "timegrid[:]"
   ]
  },
  {
   "cell_type": "markdown",
   "metadata": {},
   "source": [
    "vegbio=grid.variables['vegetation__total_biomass']\n",
    "vegbio.shape"
   ]
  },
  {
   "cell_type": "markdown",
   "metadata": {},
   "source": [
    "vegbio[10,:,:]"
   ]
  },
  {
   "cell_type": "code",
   "execution_count": null,
   "metadata": {},
   "outputs": [],
   "source": [
    "output.index.unique(level=2)"
   ]
  },
  {
   "cell_type": "code",
   "execution_count": null,
   "metadata": {},
   "outputs": [],
   "source": [
    "output.loc[:, 'Wheat',8] #timestep,species,plant number in []"
   ]
  },
  {
   "cell_type": "markdown",
   "metadata": {},
   "source": [
    "output.loc[21.0]"
   ]
  },
  {
   "cell_type": "code",
   "execution_count": null,
   "metadata": {},
   "outputs": [],
   "source": [
    "biomass = output[\"vegetation__root_biomass\"].values\n",
    "display(biomass)\n"
   ]
  },
  {
   "cell_type": "markdown",
   "metadata": {},
   "source": [
    "grid.close()"
   ]
  }
 ],
 "metadata": {
  "kernelspec": {
   "display_name": "landlab_dev",
   "language": "python",
   "name": "python3"
  },
  "language_info": {
   "codemirror_mode": {
    "name": "ipython",
    "version": 3
   },
   "file_extension": ".py",
   "mimetype": "text/x-python",
   "name": "python",
   "nbconvert_exporter": "python",
   "pygments_lexer": "ipython3",
   "version": "3.10.8"
  },
  "orig_nbformat": 2,
  "vscode": {
   "interpreter": {
    "hash": "a659767ac5a0dd5bf47687479e1b9a209e1b684434a4e040a1819f789cf57b87"
   }
  }
 },
 "nbformat": 4,
 "nbformat_minor": 2
}
