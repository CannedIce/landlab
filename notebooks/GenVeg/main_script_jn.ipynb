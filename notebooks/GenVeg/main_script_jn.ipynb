{
 "cells": [
  {
   "cell_type": "markdown",
   "metadata": {},
   "source": [
    "# GenVeg Main Script\n",
    "GenVeg is a generalized vegetation growth model that simulates growth due to\n",
    "photosynthesis as well as processes that control vegetation distribution such\n",
    "as mortality, senescence, dispersal, and colonization. The model utilizes a \n",
    "mixture of existing and new landlab components to setup the model, simulates\n",
    "relevant vegetation community dynamics with the local environment, and analyzes\n",
    "results of the simulation. "
   ]
  },
  {
   "cell_type": "markdown",
   "metadata": {},
   "source": [
    "## Main model control set up\n",
    "### Import components"
   ]
  },
  {
   "cell_type": "code",
   "execution_count": 1,
   "metadata": {},
   "outputs": [],
   "source": [
    "import numpy as np, pandas as pd\n",
    "import os, tempfile\n",
    "from pathlib import Path\n",
    "from datetime import date\n",
    "from matplotlib.pyplot import title, show, figure, plot, subplot, xlabel, ylabel\n",
    "from landlab import RasterModelGrid, imshow_grid, load_params\n",
    "from landlab.data_record import DataRecord\n",
    "from landlab.components.genveg import VegParams, PlantGrowth\n",
    "from landlab.io.netcdf import write_netcdf"
   ]
  },
  {
   "cell_type": "markdown",
   "metadata": {},
   "source": [
    "### Define time controls"
   ]
  },
  {
   "cell_type": "code",
   "execution_count": 2,
   "metadata": {},
   "outputs": [],
   "source": [
    "sim_start_date = date(2010,1,1)\n",
    "tot_sim_len_y = 30\n",
    "veg_time_step_d = 1\n",
    "env_time_step_d = 1"
   ]
  },
  {
   "cell_type": "markdown",
   "metadata": {},
   "source": [
    "### Define filenames for input files\n",
    "##### *Note should be located in same folder as this .ipynb"
   ]
  },
  {
   "cell_type": "code",
   "execution_count": 3,
   "metadata": {},
   "outputs": [],
   "source": [
    "VegInputFile = 'GenVeg_params_inputs_1col.xlsx'"
   ]
  },
  {
   "cell_type": "markdown",
   "metadata": {},
   "source": [
    "### Read in parameter and data input files\n",
    "Identify model processes to be included so all required parameters are defined and calculated"
   ]
  },
  {
   "cell_type": "code",
   "execution_count": 4,
   "metadata": {},
   "outputs": [
    {
     "name": "stdout",
     "output_type": "stream",
     "text": [
      "{'BIS': {'growparams': {'glucose_requirement': [1.444, 1.513, 1.463], 'growing_season_end': 305, 'growing_season_start': 45, 'k_light_extinct': 0.02, 'light_half_sat': 9, 'p_max': 0.055, 'plant_part_min': [0.01, 0.1, 0.5], 'root_to_leaf_coeffs': [0.09, 0.889, -0.0254], 'root_to_stem_coeffs': [-0.097, 1.071, 0.0179], 'senescence_start': 228}, 'plant_factors': {'angio_gymno': 'angiosperm', 'annual_perennial': 'perennial', 'growth_form': 'shrub', 'monocot_dicot': 'monocot', 'ptype': 'C3', 'species': 'Burial intolerant stabilizer '}, 'sizeparams': {'max_height_stem': 1.0, 'max_n_stems': 3.0, 'max_plant_density': 34.0, 'total_cs_area_stems': 0.231}, 'storparams': {'wint_dieoff_roots': 0.25}}, 'BTS': {'growparams': {'glucose_requirement': [1.444, 1.513, 1.463], 'growing_season_end': 305, 'growing_season_start': 45, 'k_light_extinct': 0.02, 'light_half_sat': 9, 'p_max': 0.055, 'plant_part_min': [0.01, 0.1, 0.5], 'root_to_leaf_coeffs': [0.031, 0.951, 0], 'root_to_stem_coeffs': [-0.107, 1.098, 0.0216], 'senescence_start': 228}, 'plant_factors': {'angio_gymno': 'angiosperm', 'annual_perennial': 'perennial', 'growth_form': 'graminoid', 'monocot_dicot': 'monocot', 'ptype': 'C3', 'species': 'Burial tolerant stabilizer'}, 'sizeparams': {'max_height_stem': 1.0, 'max_n_stems': 3.0, 'max_plant_density': 34.0, 'total_cs_area_stems': 0.231}, 'storparams': {'wint_dieoff_roots': 0.25}}, 'DB': {'growparams': {'glucose_requirement': [1.444, 1.513, 1.463], 'growing_season_end': 305, 'growing_season_start': 45, 'k_light_extinct': 0.02, 'light_half_sat': 9, 'p_max': 0.055, 'plant_part_min': [0.01, 0.1, 0.5], 'root_to_leaf_coeffs': [0.031, 0.951, 0], 'root_to_stem_coeffs': [-0.107, 1.098, 0.0216], 'senescence_start': 228}, 'plant_factors': {'angio_gymno': 'angiosperm', 'annual_perennial': 'perennial', 'growth_form': 'graminoid', 'monocot_dicot': 'monocot', 'ptype': 'C3', 'species': 'Dune Builder'}, 'sizeparams': {'max_height_stem': 1.0, 'max_n_stems': 3.0, 'max_plant_density': 34.0, 'total_cs_area_stems': 0.231}, 'storparams': {'wint_dieoff_roots': 0.25}}}\n"
     ]
    }
   ],
   "source": [
    "inp_file=Path(VegInputFile).absolute()\n",
    "VegParams(fpath=inp_file,processes=['plantsize','dispersal','colonization','storage'])\n",
    "#VegParams(processes=['plantsize','dispersal','colonization','storage','mortality'])\n",
    "vegparams=load_params('veg_params.yml')\n",
    "print(vegparams)\n"
   ]
  },
  {
   "cell_type": "markdown",
   "metadata": {},
   "source": [
    "### Set up model grid using landlab RasterModelGrid functions\n",
    "\n",
    "- Create the model grid\n",
    "- Initialize live vegetation biomass and plant functional type\n",
    "- Initialize the air temperature driver across the grid\n",
    "\n",
    "##### **Note variable names should be consistent with landlab standards"
   ]
  },
  {
   "cell_type": "code",
   "execution_count": 6,
   "metadata": {},
   "outputs": [
    {
     "name": "stdout",
     "output_type": "stream",
     "text": [
      "['BTS' 'BTS' 'BTS' 'BTS' 'null' 'null' 'BTS' 'BTS' 'null']\n"
     ]
    }
   ],
   "source": [
    "#Create grid\n",
    "pg = RasterModelGrid((5, 5), 2.0)\n",
    "pg.axis_units = ('m', 'm')\n",
    "\n",
    "#Initialize plant functional type as grass or bare\n",
    "_ = pg.add_field('vegetation__plant_species',np.random.choice(['null','BTS'],pg.number_of_cells), at='cell')\n",
    "\n",
    "#Initialize biomass to random quantity between 0 and 200 g/m^2\n",
    "_ = pg.add_field('vegetation__live_biomass',np.where(pg.at_cell['vegetation__plant_species'] != 'null',1,0)*\n",
    "                np.random.uniform(low=0, high=200,size=pg.number_of_cells),at='cell', units='g')\n",
    "_ = pg.add_field('vegetation__n_plants', np.where(pg.at_cell['vegetation__plant_species'] != 'null',1,0)*\n",
    "                np.random.choice([1,2,3],pg.number_of_cells), at='cell')\n",
    "#Initialize with a random mean air temperture \n",
    "_ = pg.add_field('air__temperature_C', np.random.uniform(low=12, high=14,size=pg.number_of_cells), at='cell', units='C' )\n",
    "_ = pg.add_field('radiation__net_flux', np.random.uniform(low=0, high=180, size=pg.number_of_cells), at='cell', units='W/m^2')\n",
    "\n",
    "\n",
    "print(pg['cell']['vegetation__plant_species'])"
   ]
  },
  {
   "cell_type": "markdown",
   "metadata": {},
   "source": [
    "### Plot grid with plant distribution and initial biomass\n",
    "\n",
    "Use RasterModelGrid plot functions to visualize initial model grid\n",
    "\n",
    "#### Vegetation type \n",
    "- 0=Bare\n",
    "- 1=Annual\n",
    "- 2=Herbaceous Perennial \n",
    "- 3=Woody Perennial"
   ]
  },
  {
   "cell_type": "code",
   "execution_count": 8,
   "metadata": {},
   "outputs": [],
   "source": [
    "#Need to pudate to use colormap based on unique strings\n",
    "#imshow_grid(pg, 'vegetation__plant_species', at='cell',colorbar_label='Vegetation Type')\n",
    "#show()"
   ]
  },
  {
   "cell_type": "code",
   "execution_count": 9,
   "metadata": {},
   "outputs": [
    {
     "data": {
      "image/png": "[encoded data removed]",
      "text/plain": [
       "<Figure size 432x288 with 2 Axes>"
      ]
     },
     "metadata": {
      "needs_background": "light"
     },
     "output_type": "display_data"
    }
   ],
   "source": [
    "imshow_grid(pg, 'vegetation__live_biomass', at='cell', colorbar_label='Live biomass g')\n",
    "show()"
   ]
  },
  {
   "cell_type": "markdown",
   "metadata": {},
   "source": [
    "### Define model time variables\n",
    "Determine basic model timestep and counter for model loop"
   ]
  },
  {
   "cell_type": "code",
   "execution_count": 10,
   "metadata": {},
   "outputs": [],
   "source": [
    "sim_end = date(sim_start_date.year+tot_sim_len_y,sim_start_date.month,sim_start_date.day)\n",
    "dt = min([veg_time_step_d,env_time_step_d])\n",
    "#data['dt']=dt\n",
    "day_freq = str(dt)+'D'\n",
    "date_counter = pd.date_range(start=sim_start_date,end=sim_end,freq=day_freq).strftime('%Y-%m-%d').tolist()\n",
    "step_counter=range(len(date_counter))\n",
    "model_counter=tuple(zip(step_counter,date_counter))"
   ]
  },
  {
   "cell_type": "markdown",
   "metadata": {},
   "source": [
    "Initialize crops PlantGrowth class with veg_params from Excel file"
   ]
  },
  {
   "cell_type": "code",
   "execution_count": 11,
   "metadata": {},
   "outputs": [
    {
     "name": "stdout",
     "output_type": "stream",
     "text": [
      "[0.09, 0.889, -0.0254]\n",
      "[-0.097, 1.071, 0.0179]\n",
      "[0.031, 0.951, 0]\n",
      "[-0.107, 1.098, 0.0216]\n",
      "[0.031, 0.951, 0]\n",
      "[-0.107, 1.098, 0.0216]\n"
     ]
    },
    {
     "name": "stderr",
     "output_type": "stream",
     "text": [
      "c:\\Users\\RDEL1CDP\\Anaconda3\\envs\\landlab\\lib\\site-packages\\scipy\\optimize\\_minpack_py.py:175: RuntimeWarning: The number of calls to function has reached maxfev = 800.\n",
      "  warnings.warn(msg, RuntimeWarning)\n",
      "c:\\Users\\RDEL1CDP\\Anaconda3\\envs\\landlab\\lib\\site-packages\\scipy\\optimize\\_minpack_py.py:175: RuntimeWarning: The iteration is not making good progress, as measured by the \n",
      "  improvement from the last ten iterations.\n",
      "  warnings.warn(msg, RuntimeWarning)\n"
     ]
    }
   ],
   "source": [
    "crops=PlantGrowth(pg,vegparams,dt) #need to update this to reflect changes in init key"
   ]
  },
  {
   "cell_type": "markdown",
   "metadata": {},
   "source": [
    "## Main model loop script\n",
    "This is the main model loop that controls the simulation that\n",
    "- Advances model time \n",
    "- Updates environmental variables\n",
    "- Simulates changes to vegetation communities\n",
    "- Stores outputs"
   ]
  },
  {
   "cell_type": "code",
   "execution_count": 12,
   "metadata": {},
   "outputs": [],
   "source": [
    "#This runs through fine for day 1 of growing season. We need to decide how to track current day\n",
    "for i in model_counter:\n",
    "    #update temp attirbute on grid\n",
    "    #update solar radiation on grid\n",
    "    crops.run_one_step()\n",
    "    #if this is a save timestep, save grid object to netcdf"
   ]
  },
  {
   "cell_type": "code",
   "execution_count": 13,
   "metadata": {},
   "outputs": [],
   "source": [
    "temp_dir = tempfile.mkdtemp()\n",
    "os.chdir(temp_dir)\n",
    "write_netcdf(\"test.nc\", pg, format=\"NETCDF3_64BIT\", time=step_counter[0])"
   ]
  }
 ],
 "metadata": {
  "kernelspec": {
   "display_name": "Python 3.10.0 ('landlab')",
   "language": "python",
   "name": "python3"
  },
  "language_info": {
   "codemirror_mode": {
    "name": "ipython",
    "version": 3
   },
   "file_extension": ".py",
   "mimetype": "text/x-python",
   "name": "python",
   "nbconvert_exporter": "python",
   "pygments_lexer": "ipython3",
   "version": "3.10.0"
  },
  "orig_nbformat": 2,
  "vscode": {
   "interpreter": {
    "hash": "0b9e1723a82dd10e2fabb0b42cd08aae6e06071c6453c5287af9ae6d51a6b002"
   }
  }
 },
 "nbformat": 4,
 "nbformat_minor": 2
}
