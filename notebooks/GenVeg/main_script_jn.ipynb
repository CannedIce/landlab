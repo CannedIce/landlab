{
 "cells": [
  {
   "cell_type": "markdown",
   "metadata": {},
   "source": [
    "# GenVeg Main Script\n",
    "GenVeg is a generalized vegetation growth model that simulates growth due to\n",
    "photosynthesis as well as processes that control vegetation distribution such\n",
    "as mortality, senescence, dispersal, and colonization. The model utilizes a \n",
    "mixture of existing and new landlab components to setup the model, simulates\n",
    "relevant vegetation community dynamics with the local environment, and analyzes\n",
    "results of the simulation. "
   ]
  },
  {
   "cell_type": "markdown",
   "metadata": {},
   "source": [
    "## Main model control set up\n",
    "### Import components"
   ]
  },
  {
   "cell_type": "code",
   "execution_count": 1,
   "metadata": {},
   "outputs": [],
   "source": [
    "import numpy as np, pandas as pd\n",
    "import os, tempfile\n",
    "from pathlib import Path\n",
    "from datetime import date\n",
    "from matplotlib.pyplot import title, show, figure, plot, subplot, xlabel, ylabel\n",
    "from landlab import RasterModelGrid, imshow_grid, load_params\n",
    "from landlab.data_record import DataRecord\n",
    "from landlab.components.genveg import VegParams, PlantGrowth\n",
    "from landlab.io.netcdf import write_netcdf"
   ]
  },
  {
   "cell_type": "markdown",
   "metadata": {},
   "source": [
    "### Define time controls"
   ]
  },
  {
   "cell_type": "code",
   "execution_count": 2,
   "metadata": {},
   "outputs": [],
   "source": [
    "sim_start_date = date(2010,1,1)\n",
    "tot_sim_len_y = 30\n",
    "veg_time_step_d = 1\n",
    "env_time_step_d = 1"
   ]
  },
  {
   "cell_type": "markdown",
   "metadata": {},
   "source": [
    "### Define filenames for input files\n",
    "##### *Note should be located in same folder as this .ipynb"
   ]
  },
  {
   "cell_type": "code",
   "execution_count": 3,
   "metadata": {},
   "outputs": [],
   "source": [
    "VegInputFile = 'GenVeg_params_inputs_1col_TS.xlsx'"
   ]
  },
  {
   "cell_type": "markdown",
   "metadata": {},
   "source": [
    "### Read in parameter and data input files\n",
    "Identify model processes to be included so all required parameters are defined and calculated"
   ]
  },
  {
   "cell_type": "code",
   "execution_count": 4,
   "metadata": {},
   "outputs": [
    {
     "name": "stdout",
     "output_type": "stream",
     "text": [
      "{'Corn': {'colparams': {}, 'dispparams': {}, 'growthparams': {'glucose_requirement': [1.444, 1.513, 1.463], 'growing_season_end': [290], 'growing_season_start': [91], 'k_light_extinct': [0.02], 'light_half_sat': [9], 'p_max': [0.055], 'plant_part_allocation': [0.2, 0.3, 0.5], 'plant_part_min': [0.01, 0.1, 0.5], 'ptype': ['C3'], 'respiration_coefficient': [0.015, 0.015, 0.03], 'senescence_start': [228]}, 'mortparams': {}, 'plant_factors': {'annual_perennial': ['C4'], 'growth_form': [1], 'species': ['Corn']}, 'storparams': {'r_wint_die': [0.25], 'r_wint_stor': [0.25]}}, 'sizeparams': {'max_height_stem': [2.5], 'max_mass_stem': [72], 'max_n_stems': [3], 'max_plant_density': [1], 'total_cs_area_stems': [0.231]}}\n"
     ]
    }
   ],
   "source": [
    "inp_file=Path(VegInputFile).absolute()\n",
    "#VegParams(fpath=inp_file,processes=['plantsize','dispersal','colonization','storage'])\n",
    "VegParams(processes=['plantsize','dispersal','colonization','storage'])\n",
    "vegparams=load_params('veg_params.yml')\n",
    "print(vegparams)\n"
   ]
  },
  {
   "cell_type": "markdown",
   "metadata": {},
   "source": [
    "### Set up model grid using landlab RasterModelGrid functions\n",
    "\n",
    "- Create the model grid\n",
    "- Initialize live vegetation biomass and plant functional type\n",
    "- Initialize the air temperature driver across the grid\n",
    "\n",
    "##### **Note variable names should be consistent with landlab standards"
   ]
  },
  {
   "cell_type": "code",
   "execution_count": null,
   "metadata": {},
   "outputs": [],
   "source": [
    "#Create grid\n",
    "pg = RasterModelGrid((100, 100), 2.0)\n",
    "pg.axis_units = ('m', 'm')\n",
    "\n",
    "#Initialize plant functional type as grass or bare\n",
    "_ = pg.add_field('vegetation__plant_functional_type',np.random.choice([0,2],pg.number_of_cells), at='cell')\n",
    "\n",
    "#Initialize biomass to random quantity between 0 and 200 g/m^2\n",
    "_ = pg.add_field('vegetation__live_biomass',np.where(pg.at_cell['vegetation__plant_functional_type'] != 0,1,0)*\n",
    "                np.random.uniform(low=0, high=200,size=pg.number_of_cells),at='cell', units='g')\n",
    "\n",
    "#Initialize with a random mean air temperture \n",
    "_ = pg.add_field('air__mean_temp', np.random.uniform(low=12, high=14,size=pg.number_of_cells), at='cell', units='C' )"
   ]
  },
  {
   "cell_type": "markdown",
   "metadata": {},
   "source": [
    "### Plot grid with plant distribution and initial biomass\n",
    "\n",
    "Use RasterModelGrid plot functions to visualize initial model grid\n",
    "\n",
    "#### Vegetation type \n",
    "- 0=Bare\n",
    "- 1=Annual\n",
    "- 2=Herbaceous Perennial \n",
    "- 3=Woody Perennial"
   ]
  },
  {
   "cell_type": "code",
   "execution_count": null,
   "metadata": {},
   "outputs": [],
   "source": [
    "imshow_grid(pg, 'vegetation__plant_functional_type', at='cell',colorbar_label='Vegetation Type')\n",
    "show()"
   ]
  },
  {
   "cell_type": "code",
   "execution_count": null,
   "metadata": {},
   "outputs": [],
   "source": [
    "imshow_grid(pg, 'vegetation__live_biomass', at='cell', colorbar_label='Live biomass g')\n",
    "show()"
   ]
  },
  {
   "cell_type": "markdown",
   "metadata": {},
   "source": [
    "### Define model time variables\n",
    "Determine basic model timestep and counter for model loop"
   ]
  },
  {
   "cell_type": "code",
   "execution_count": null,
   "metadata": {},
   "outputs": [],
   "source": [
    "sim_end = date(sim_start_date.year+tot_sim_len_y,sim_start_date.month,sim_start_date.day)\n",
    "dt = min([veg_time_step_d,env_time_step_d])\n",
    "data['dt']=dt\n",
    "day_freq = str(dt)+'D'\n",
    "date_counter = pd.date_range(start=sim_start_date,end=sim_end,freq=day_freq).strftime('%Y-%m-%d').tolist()\n",
    "step_counter=range(len(date_counter))\n",
    "model_counter=tuple(zip(step_counter,date_counter))"
   ]
  },
  {
   "cell_type": "markdown",
   "metadata": {},
   "source": [
    "Initialize crops PlantGrowth class with veg_params from Excel file"
   ]
  },
  {
   "cell_type": "code",
   "execution_count": null,
   "metadata": {},
   "outputs": [],
   "source": [
    "crops=PlantGrowth(pg,**vegparams,dt) #need to update this to reflect changes in init key"
   ]
  },
  {
   "cell_type": "markdown",
   "metadata": {},
   "source": [
    "## Main model loop script\n",
    "This is the main model loop that controls the simulation that\n",
    "- Advances model time \n",
    "- Updates environmental variables\n",
    "- Simulates changes to vegetation communities\n",
    "- Stores outputs"
   ]
  },
  {
   "cell_type": "code",
   "execution_count": null,
   "metadata": {},
   "outputs": [],
   "source": [
    "for i in model_counter:\n",
    "    #update temp attirbute on grid\n",
    "    crops.run_one_step()\n",
    "    #if this is a save timestep, save grid object to netcdf"
   ]
  },
  {
   "cell_type": "code",
   "execution_count": null,
   "metadata": {},
   "outputs": [],
   "source": [
    "temp_dir = tempfile.mkdtemp()\n",
    "os.chdir(temp_dir)\n",
    "write_netcdf(\"test.nc\", pg, format=\"NETCDF3_64BIT\", time=step_counter[0])"
   ]
  }
 ],
 "metadata": {
  "interpreter": {
   "hash": "ccb1e2fe1c784ab8a2c0a1fa76fcca5d7c8597d651a6e0d6bc6329729ddcbdb7"
  },
  "kernelspec": {
   "display_name": "Python 3.9.5 64-bit ('landlab_dev': conda)",
   "name": "python3"
  },
  "language_info": {
   "codemirror_mode": {
    "name": "ipython",
    "version": 3
   },
   "file_extension": ".py",
   "mimetype": "text/x-python",
   "name": "python",
   "nbconvert_exporter": "python",
   "pygments_lexer": "ipython3",
   "version": "3.10.0"
  },
  "orig_nbformat": 2
 },
 "nbformat": 4,
 "nbformat_minor": 2
}
