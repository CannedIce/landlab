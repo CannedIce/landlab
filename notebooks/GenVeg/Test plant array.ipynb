{
 "cells": [
  {
   "attachments": {},
   "cell_type": "markdown",
   "metadata": {},
   "source": [
    "Create structured array with random biomass. One plant per grid cell."
   ]
  },
  {
   "cell_type": "code",
   "execution_count": 1,
   "metadata": {},
   "outputs": [],
   "source": [
    "import numpy as np\n",
    "rng = np.random.default_rng()"
   ]
  },
  {
   "cell_type": "code",
   "execution_count": 3,
   "metadata": {},
   "outputs": [
    {
     "name": "stdout",
     "output_type": "stream",
     "text": [
      "[('Corn', 0, 1, 0.66919635, 3.36196387, 0.94600808, 0.2167461 , 1.26094408, 3.89416591, 0)\n",
      " ('Corn', 1, 2, 2.19719532, 1.66497733, 0.78933377, 0.18062576, 0.21989526, 2.8929207 , 1)\n",
      " ('Corn', 2, 3, 1.67862108, 1.42816663, 0.34940248, 0.31718225, 1.50698264, 4.96071365, 2)\n",
      " ('Corn', 3, 4, 0.30033227, 1.66910761, 0.17675973, 0.00439373, 0.26701758, 4.29069238, 3)\n",
      " ('Corn', 4, 5, 1.34771382, 2.89259501, 0.15028019, 0.37085553, 0.03757636, 3.73508075, 4)\n",
      " ('Corn', 5, 6, 2.30448642, 3.00273982, 0.70865293, 0.33582339, 1.45436727, 3.60484469, 5)]\n"
     ]
    }
   ],
   "source": [
    "dtypes=[\n",
    "    ('species','U10'),\n",
    "    ('pid',int),\n",
    "    ('cell_index',int),\n",
    "    (('root','root_biomass'),float),\n",
    "    (('leaf','leaf_biomass'),float),\n",
    "    (('stem','stem_biomass'),float),\n",
    "    (('storage','storage_biomass'), float),\n",
    "    (('reproductive','repro_biomass'),float),\n",
    "    ('plant_age',float),\n",
    "    ('item_id',int)\n",
    "]\n",
    "plants= np.empty((0,10),dtype=dtypes)\n",
    "plantlist=[]\n",
    "plant='Corn'\n",
    "pidval=0\n",
    "cell_index=0\n",
    "for i in range(6):\n",
    "    pidval=i\n",
    "    cell_index=i+1\n",
    "    plantlist.append((plant,pidval,cell_index,0.0,0.0,0.0,0.0,0.0,0.0,i))\n",
    "#\n",
    "plants=np.array(plantlist,dtype=dtypes)\n",
    "plants['root']=rng.uniform(low=0.1, high=3, size=plants.size)\n",
    "plants['stem']=rng.uniform(low=0.1, high=1, size=plants.size)\n",
    "plants['leaf']=rng.uniform(low=0.2, high=4, size=plants.size)\n",
    "plants['storage']=rng.uniform(low=0.0, high=0.5, size=plants.size)\n",
    "plants['reproductive']=rng.uniform(low=0.0, high=2, size=plants.size)\n",
    "plants['plant_age']=rng.uniform(low=1/365, high=5, size=plants.size)\n",
    "print(plants)\n"
   ]
  },
  {
   "cell_type": "code",
   "execution_count": 2,
   "metadata": {},
   "outputs": [],
   "source": [
    "import numpy as np\n",
    "rng = np.random.default_rng()"
   ]
  },
  {
   "cell_type": "code",
   "execution_count": 14,
   "metadata": {},
   "outputs": [
    {
     "name": "stdout",
     "output_type": "stream",
     "text": [
      "[2.27438465 3.50793099 4.00809485 3.51869118 4.69554616 1.04538207\n",
      " 2.280478   4.60595175 6.46270722 2.28500799 7.5147397  8.36499288\n",
      " 7.55784655 2.34126065 3.80756182 5.74500046 4.14798773 6.18254113\n",
      " 7.48647223 7.00068374 2.81715892 4.79461084 2.06049115 5.04053666\n",
      " 6.45582867 6.7807568  4.14785534 5.86786243 6.72045584 5.05056728\n",
      " 1.06011662 4.00448576]\n",
      "[0.30022906 0.30516465 0.08268688 0.08781097 0.22881143 0.29655313\n",
      " 0.11956294 0.24252701 0.20988741 0.07809374 0.26711854 0.32001445\n",
      " 0.24748734 0.17332491 0.18328881 0.20025591 0.27089531 0.2254517\n",
      " 0.27679105 0.23023845 0.21355154 0.24786731 0.34586281 0.19215419\n",
      " 0.31148904 0.18544451 0.21577877 0.22942117 0.19707552 0.0535304\n",
      " 0.19308358 0.16344466]\n",
      "[0.68283637 1.07049653 0.33141687 0.30897967 1.07439464 0.31001133\n",
      " 0.27266065 1.11706772 1.35644091 0.17844482 2.00732631 2.67691857\n",
      " 1.87047135 0.40579878 0.69788347 1.15047031 1.12367042 1.39386442\n",
      " 2.07218853 1.61182654 0.60160864 1.18842727 0.71264725 0.96856026\n",
      " 2.01091985 1.25745415 0.89501913 1.34621184 1.32443731 0.27035891\n",
      " 0.20469111 0.6545118 ]\n"
     ]
    }
   ],
   "source": [
    "rhizomes=rng.rayleigh(scale=0.2, size=32)*18\n",
    "print(rhizomes)\n",
    "ns_content = (\n",
    "                rng.triangular(\n",
    "                    0.01071,\n",
    "                    0.21429,\n",
    "                    0.36643,\n",
    "                    32\n",
    "                )\n",
    "\n",
    "            )\n",
    "print(ns_content)\n",
    "ns_rhizomes = ns_content * rhizomes\n",
    "print(ns_rhizomes)"
   ]
  },
  {
   "cell_type": "code",
   "execution_count": 5,
   "metadata": {},
   "outputs": [
    {
     "ename": "AttributeError",
     "evalue": "'tuple' object has no attribute 'append'",
     "output_type": "error",
     "traceback": [
      "\u001b[1;31m---------------------------------------------------------------------------\u001b[0m",
      "\u001b[1;31mAttributeError\u001b[0m                            Traceback (most recent call last)",
      "\u001b[1;32md:\\Python\\landlab\\notebooks\\GenVeg\\Test plant array.ipynb Cell 6\u001b[0m line \u001b[0;36m6\n\u001b[0;32m      <a href='vscode-notebook-cell:/d%3A/Python/landlab/notebooks/GenVeg/Test%20plant%20array.ipynb#W5sZmlsZQ%3D%3D?line=3'>4</a>\u001b[0m \u001b[39mfor\u001b[39;00m part \u001b[39min\u001b[39;00m all_veg_sources:\n\u001b[0;32m      <a href='vscode-notebook-cell:/d%3A/Python/landlab/notebooks/GenVeg/Test%20plant%20array.ipynb#W5sZmlsZQ%3D%3D?line=4'>5</a>\u001b[0m     \u001b[39mif\u001b[39;00m part \u001b[39mnot\u001b[39;00m \u001b[39min\u001b[39;00m green_parts:\n\u001b[1;32m----> <a href='vscode-notebook-cell:/d%3A/Python/landlab/notebooks/GenVeg/Test%20plant%20array.ipynb#W5sZmlsZQ%3D%3D?line=5'>6</a>\u001b[0m         persistent_parts\u001b[39m.\u001b[39;49mappend(part)\n\u001b[0;32m      <a href='vscode-notebook-cell:/d%3A/Python/landlab/notebooks/GenVeg/Test%20plant%20array.ipynb#W5sZmlsZQ%3D%3D?line=6'>7</a>\u001b[0m \u001b[39m#persistent_parts = tuple(persistent_parts)\u001b[39;00m\n\u001b[0;32m      <a href='vscode-notebook-cell:/d%3A/Python/landlab/notebooks/GenVeg/Test%20plant%20array.ipynb#W5sZmlsZQ%3D%3D?line=7'>8</a>\u001b[0m \u001b[39mprint\u001b[39m(persistent_parts)\n",
      "\u001b[1;31mAttributeError\u001b[0m: 'tuple' object has no attribute 'append'"
     ]
    }
   ],
   "source": [
    "green_parts = (\"leaf\", \"stem\")\n",
    "all_veg_sources = (\"root\", \"leaf\", \"stem\", \"reproductive\")\n",
    "persistent_parts = []\n",
    "for part in all_veg_sources:\n",
    "    if part not in green_parts:\n",
    "        persistent_parts.append(part)\n",
    "persistent_parts = tuple(persistent_parts)\n",
    "print(persistent_parts)"
   ]
  }
 ],
 "metadata": {
  "kernelspec": {
   "display_name": "base",
   "language": "python",
   "name": "python3"
  },
  "language_info": {
   "codemirror_mode": {
    "name": "ipython",
    "version": 3
   },
   "file_extension": ".py",
   "mimetype": "text/x-python",
   "name": "python",
   "nbconvert_exporter": "python",
   "pygments_lexer": "ipython3",
   "version": "3.10.8"
  },
  "orig_nbformat": 4,
  "vscode": {
   "interpreter": {
    "hash": "fd8d38f7fffbe48e6e8c262327b52ef8e91eb0cc795cec26bc569e80dcf3ffdc"
   }
  }
 },
 "nbformat": 4,
 "nbformat_minor": 2
}
