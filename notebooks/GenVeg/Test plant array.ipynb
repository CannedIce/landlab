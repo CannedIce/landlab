{
 "cells": [
  {
   "attachments": {},
   "cell_type": "markdown",
   "metadata": {},
   "source": [
    "Create structured array with random biomass. One plant per grid cell."
   ]
  },
  {
   "cell_type": "code",
   "execution_count": 1,
   "metadata": {},
   "outputs": [],
   "source": [
    "import numpy as np\n",
    "rng = np.random.default_rng()"
   ]
  },
  {
   "cell_type": "code",
   "execution_count": 2,
   "metadata": {},
   "outputs": [
    {
     "name": "stdout",
     "output_type": "stream",
     "text": [
      "[('Corn', 0, 1, 0., 0., 0.10855847, 0.4154555 , 0.19746302, 0.98530843, 0.41779952, 0.93463556, 3.41082499, 0.54262599,  22.04752094, 0.49779389, 0.16158135, 3.21097632, 0.64237696, 0.27052255, 0.40443099, 1.89108074, 5, nan, nan, nan, 0)\n",
      " ('Corn', 1, 2, 0., 0., 0.42208998, 0.01503426, 0.11683861, 1.44514426, 1.25652654, 0.93873319, 2.58956302, 0.37741888,  62.44487828, 2.43731746, 0.30069145, 3.44398172, 1.74317504, 0.51972283, 0.89343767, 2.43808677, 2, nan, nan, nan, 1)\n",
      " ('Corn', 2, 3, 0., 0., 0.52972373, 0.3098741 , 0.40503399, 1.92259353, 1.08809784, 0.88974189, 3.7304953 , 0.79469987, 301.3336128 , 2.56909285, 0.98202488, 3.28857479, 0.23247275, 0.50190914, 0.83577435, 0.01603978, 3, nan, nan, nan, 2)\n",
      " ('Corn', 3, 4, 0., 0., 0.197582  , 0.44091713, 0.59567399, 0.596081  , 1.56517411, 0.26211915, 3.79880928, 0.68560303, 215.52711201, 1.02468762, 0.31464708, 2.86194216, 0.75678955, 2.61149373, 0.8497444 , 4.92175291, 3, nan, nan, nan, 3)\n",
      " ('Corn', 4, 5, 0., 0., 0.24953252, 0.3811759 , 0.5995294 , 1.61866513, 1.69052587, 0.53427199, 0.39660524, 1.59127228, 315.2546732 , 0.84543397, 0.24047017, 2.2886234 , 0.76191122, 2.53491309, 0.91375435, 0.2230319 , 2, nan, nan, nan, 4)\n",
      " ('Corn', 5, 6, 0., 0., 0.35924011, 0.25970124, 0.13188768, 0.10401524, 0.80651183, 0.14910573, 3.15984196, 1.51162049, 522.57040752, 2.10615549, 0.87101552, 2.64749999, 1.96999474, 1.03741575, 0.52394209, 2.94659682, 5, nan, nan, nan, 5)]\n"
     ]
    }
   ],
   "source": [
    "dtypes = [\n",
    "    (\"species\", \"U10\"),\n",
    "    (\"pid\", int),\n",
    "    (\"cell_index\", int),\n",
    "    (\"x_loc\", float),\n",
    "    (\"y_loc\", float),\n",
    "    ((\"root\", \"root_biomass\"), float),\n",
    "    ((\"leaf\", \"leaf_biomass\"), float),\n",
    "    ((\"stem\", \"stem_biomass\"), float),\n",
    "    ((\"reproductive\", \"repro_biomass\"), float),\n",
    "    (\"dead_root\", float),\n",
    "    (\"dead_stem\", float),\n",
    "    (\"dead_leaf\", float),\n",
    "    (\"dead_reproductive\", float),\n",
    "    (\"dead_age\", float),\n",
    "    (\"shoot_sys_width\", float),\n",
    "    (\"root_sys_width\", float),\n",
    "    (\"shoot_sys_height\", float),\n",
    "    (\"root_sys_depth\", float),\n",
    "    (\"total_leaf_area\", float),\n",
    "    (\"live_leaf_area\", float),\n",
    "    (\"plant_age\", float),\n",
    "    (\"n_stems\", int),\n",
    "    (\"pup_x_loc\", float),\n",
    "    (\"pup_y_loc\", float),\n",
    "    (\"pup_cost\", float),\n",
    "    (\"item_id\", int),\n",
    "]\n",
    "plants= np.empty((0,26),dtype=dtypes)\n",
    "plantlist=[]\n",
    "plant='Corn'\n",
    "pidval=0\n",
    "cell_index=0\n",
    "for i in range(6):\n",
    "    pidval=i\n",
    "    cell_index=i+1\n",
    "    plantlist.append((plant,pidval,cell_index,0.0,0.0,0.0,0.0,0.0,0.0,0.0,0.0,0.0,0.0,0.0,0.0,0.0,0.0,0.0,0.0,0.0,0.0,0,np.nan,np.nan,np.nan,i))\n",
    "#\n",
    "plants=np.array(plantlist,dtype=dtypes)\n",
    "plants['root']=rng.uniform(low=0, high=0.6, size=plants.size)\n",
    "plants['stem']=rng.uniform(low=0, high=0.6, size=plants.size)\n",
    "plants['leaf']=rng.uniform(low=0, high=0.6, size=plants.size)\n",
    "plants['reproductive']=rng.uniform(low=0.0, high=2, size=plants.size)\n",
    "plants['dead_root']=rng.uniform(low=0.1, high=3, size=plants.size)\n",
    "plants['dead_stem']=rng.uniform(low=0.1, high=1, size=plants.size)\n",
    "plants['dead_leaf']=rng.uniform(low=0.2, high=4, size=plants.size)\n",
    "plants['dead_age']=rng.uniform(low=0, high=567, size=plants.size)\n",
    "plants['dead_reproductive']=rng.uniform(low=0.0, high=2, size=plants.size)\n",
    "plants['shoot_sys_width']=rng.uniform(low=0.1, high=3, size=plants.size)\n",
    "plants['root_sys_width']=rng.uniform(low=0.1, high=1, size=plants.size)\n",
    "plants['shoot_sys_height']=rng.uniform(low=0.2, high=4, size=plants.size)\n",
    "plants['root_sys_depth']=rng.uniform(low=0.0, high=2, size=plants.size)\n",
    "plants['total_leaf_area']=rng.uniform(low=0.1, high=3, size=plants.size)\n",
    "plants['live_leaf_area']=rng.uniform(low=0.1, high=1, size=plants.size)\n",
    "plants['plant_age']=rng.uniform(low=1/365, high=5, size=plants.size)\n",
    "plants['n_stems']=rng.integers(1, 6, size=plants.size)\n",
    "print(plants)\n"
   ]
  },
  {
   "cell_type": "code",
   "execution_count": 3,
   "metadata": {},
   "outputs": [
    {
     "name": "stdout",
     "output_type": "stream",
     "text": [
      "[3.41082499 2.58956302 3.7304953  3.79880928 0.39660524 3.15984196]\n"
     ]
    }
   ],
   "source": [
    "print(plants[\"dead_leaf\"])"
   ]
  },
  {
   "cell_type": "code",
   "execution_count": 4,
   "metadata": {},
   "outputs": [],
   "source": [
    "species_grow_params = {\n",
    "    \"plant_part_min\":{\n",
    "        \"root\": 0.3,\n",
    "        \"stem\": 0.3,\n",
    "        \"leaf\": 0.5,\n",
    "        \"reproductive\": 0\n",
    "    }\n",
    "}\n",
    "\n",
    "species_duration_params = {\n",
    "    \"senesce_rate\": 0.9 / (243 - 228)\n",
    "}\n",
    "\n",
    "species_morph_params = {\n",
    "    \"sp_leaf_area\": 0.006631,\n",
    "    \"biomass_decay_rate\": 0.07\n",
    "}\n",
    "dt = 30"
   ]
  },
  {
   "cell_type": "code",
   "execution_count": 5,
   "metadata": {},
   "outputs": [],
   "source": [
    "dtypes=[\n",
    "    (\"prior_root_biomass\", float),\n",
    "    (\"total_biomass\", float),\n",
    "    (\"delta_leaf_unit_root\", float),\n",
    "    (\"delta_stem_unit_root\", float),\n",
    "    (\"leaf_mass_frac\", float),\n",
    "    (\"stem_mass_frac\", float),\n",
    "    (\"abg_biomass\", float),            \n",
    "]\n",
    "biomass_allocation_array = np.array(\n",
    "    [\n",
    "        ( 0.01,   0.02953156,  1.2799132 ,  0.61434004,  0.45573632,  0.20564286,  0.01953156),\n",
    "        ( 0.11,   0.31412622,  1.13802624,  0.69632353,  0.4190446 ,  0.23077769,  0.20412622),\n",
    "        ( 0.21,   0.59758008,  1.10253344,  0.73343922,  0.40741258,  0.24117008,  0.38758008),\n",
    "        ( 0.31,   0.88143039,  1.08169244,  0.75956465,  0.40003404,  0.2482649 ,  0.57143039),\n",
    "        ( 0.41,   1.16585213,  1.06697467,  0.78023694,  0.39456084,  0.25376506,  0.75585213),\n",
    "        ( 0.51,   1.45087306,  1.05562478,  0.79756416,  0.39018433,  0.25830319,  0.94087306),\n",
    "        ( 0.61,   1.73648436,  1.04640391,  0.81259925,  0.38652519,  0.26219034,  1.12648436),\n",
    "        ( 0.71,   2.02266643,  1.03864912,  0.82595146,  0.38337379,  0.26560441,  1.31266643),\n",
    "        ( 0.81,   2.30939695,  1.03196448,  0.83800813,  0.38060165,  0.26865743,  1.49939695),\n",
    "        ( 0.91,   2.59665369,  1.0260948 ,  0.84903229,  0.37812408,  0.27142488,  1.68665369),\n",
    "        ( 1.01,   2.88441556,  1.02086607,  0.85921148,  0.37588223,  0.27396018,  1.87441556),\n",
    "        ( 1.11,   3.1726629 ,  1.01615437,  0.86868457,  0.37383351,  0.27630266,  2.0626629 ),\n",
    "        ( 1.21,   3.46137754,  1.0118684 ,  0.87755753,  0.37194602,  0.27848217,  2.25137754),\n",
    "        ( 1.31,   3.75054273,  1.00793894,  0.88591323,  0.37019529,  0.28052193,  2.44054273),\n",
    "        ( 1.41,   4.04014303,  1.0043123 ,  0.89381784,  0.36856207,  0.28244039,  2.63014303),\n",
    "        ( 1.51,   4.33016419,  1.000946  ,  0.90132507,  0.36703097,  0.28425246,  2.82016419),\n",
    "        ( 1.61,   4.62059301,  0.99780586,  0.9084792 ,  0.36558948,  0.2859704 ,  3.01059301),\n",
    "        ( 1.71,   4.91141727,  0.99486398,  0.91531721,  0.36422728,  0.28760438,  3.20141727),\n",
    "        ( 1.81,   5.2026256 ,  0.9920973 ,  0.92187031,  0.36293575,  0.28916299,  3.3926256 ),\n",
    "        ( 1.91,   5.49420738,  0.98948652,  0.9281651 ,  0.36170764,  0.2906535 ,  3.58420738),\n",
    "        ( 2.01,   5.78615273,  0.98701536,  0.93422449,  0.36053677,  0.29208215,  3.77615273),\n",
    "        ( 2.11,   6.07845236,  0.98466993,  0.94006833,  0.35941781,  0.29345435,  3.96845236),\n",
    "        ( 2.21,   6.37109757,  0.98243832,  0.94571394,  0.35834619,  0.2947748 ,  4.16109757),\n",
    "        ( 2.31,   6.66408016,  0.98031022,  0.95117657,  0.35731791,  0.29604761,  4.35408016),\n",
    "        ( 2.41,   6.95739242,  0.97827664,  0.95646967,  0.35632944,  0.29727641,  4.54739242),\n",
    "        ( 2.51,   7.25102706,  0.97632971,  0.96160522,  0.35537771,  0.29846443,  4.74102706),\n",
    "        ( 2.61,   7.54497717,  0.9744625 ,  0.96659391,  0.35445997,  0.29961453,  4.93497717),\n",
    "        ( 2.71,   7.83923622,  0.97266888,  0.97144531,  0.35357377,  0.30072928,  5.12923622),\n",
    "        ( 2.81,   8.13379799,  0.97094339,  0.97616807,  0.35271695,  0.30181099,  5.32379799),\n",
    "        ( 2.91,   8.42865659,  0.96928114,  0.98077   ,  0.35188753,  0.30286172,  5.51865659),\n",
    "        ( 3.01,   8.72380639,  0.96767776,  0.98525818,  0.35108374,  0.30388338,  5.71380639),\n",
    "        ( 3.11,   9.01924203,  0.96612931,  0.98963907,  0.35030399,  0.30487767,  5.90924203),\n",
    "        ( 3.21,   9.3149584 ,  0.96463223,  0.99391856,  0.34954683,  0.30584616,  6.1049584 ),\n",
    "        ( 3.31,   9.6109506 ,  0.9631833 ,  0.99810205,  0.34881092,  0.30679026,  6.3009506 ),\n",
    "        ( 3.41,   9.90721394,  0.96177958,  1.0021945 ,  0.34809507,  0.30771129,  6.49721394),\n",
    "        ( 3.51,  10.20374395,  0.96041839,  1.00620049,  0.34739816,  0.30861045,  6.69374395),\n",
    "        ( 3.61,  10.50053631,  0.95909729,  1.01012422,  0.34671918,  0.30948886,  6.89053631),\n",
    "        ( 3.71,  10.7975869 ,  0.95781403,  1.0139696 ,  0.34605719,  0.31034752,  7.0875869 ),\n",
    "        ( 3.81,  11.09489174,  0.95656656,  1.01774024,  0.34541133,  0.31118739,  7.28489174),\n",
    "        ( 3.91,  11.39244701,  0.95535297,  1.02143951,  0.3447808 ,  0.31200935,  7.48244701),\n",
    "        ( 4.01,  11.69024903,  0.9541715 ,  1.02507053,  0.34416487,  0.31281421,  7.68024903),\n",
    "        ( 4.11,  11.98829426,  0.95302055,  1.02863623,  0.34356284,  0.31360274,  7.87829426),\n",
    "        ( 4.21,  12.28657927,  0.95189861,  1.03213932,  0.34297407,  0.31437564,  8.07657927),\n",
    "        ( 4.31,  12.58510076,  0.95080429,  1.03558236,  0.34239797,  0.31513357,  8.27510076)\n",
    "    ], dtype=dtypes)"
   ]
  },
  {
   "cell_type": "code",
   "execution_count": 6,
   "metadata": {},
   "outputs": [],
   "source": [
    "def sum_plant_parts(_new_biomass, parts=\"total\"):\n",
    "    all_parts = [\"root\", \"leaf\", \"stem\", \"reproductive\"]\n",
    "    growth_parts = [\"root\", \"leaf\", \"stem\"]\n",
    "    abg_parts =[\"leaf\", \"stem\"]\n",
    "    persistent_parts = [\"root\", \"reproductive\"]\n",
    "    green_parts = [\"leaf\", \"stem\"]\n",
    "    dead_parts = [\"dead_root\", \"dead_leaf\", \"dead_stem\", \"dead_reproductive\"]\n",
    "    dead_abg_parts = [\"dead_leaf\", \"dead_stem\"]\n",
    "    parts_choices = {\n",
    "        \"total\": all_parts,\n",
    "        \"growth\": growth_parts,\n",
    "        \"aboveground\": abg_parts,\n",
    "        \"persistent\": persistent_parts,\n",
    "        \"green\": green_parts,\n",
    "        \"dead\": dead_parts,\n",
    "        \"dead_aboveground\": dead_abg_parts,\n",
    "    }\n",
    "\n",
    "    parts_dict = parts_choices[parts]\n",
    "    _new_tot = np.zeros_like(_new_biomass[\"root_biomass\"])\n",
    "    for part in parts_dict:\n",
    "        _new_tot += _new_biomass[part]\n",
    "    return _new_tot"
   ]
  },
  {
   "cell_type": "code",
   "execution_count": 7,
   "metadata": {},
   "outputs": [],
   "source": [
    "def adjust_biomass_allocation_towards_ideal(_new_biomass):\n",
    "    ###This method adjusts biomass allocation towards the ideal allocation\n",
    "    # proportions based on the plant size. If parts of the plant are\n",
    "    # removed via herbivory or damage, this allows the plant to utilize\n",
    "    # other stored resources to regrow the damaged parts.\n",
    "    _total_biomass = sum_plant_parts(_new_biomass, parts=\"growth\")\n",
    "    _min_leaf_mass_frac = (\n",
    "        species_grow_params[\"plant_part_min\"][\"leaf\"] / _total_biomass\n",
    "    )\n",
    "    _min_stem_mass_frac = (\n",
    "        species_grow_params[\"plant_part_min\"][\"stem\"] / _total_biomass\n",
    "    )\n",
    "    _min_root_mass_frac = (\n",
    "        species_grow_params[\"plant_part_min\"][\"root\"] / _total_biomass\n",
    "    )\n",
    "\n",
    "    current_leaf_mass_frac = np.divide(\n",
    "        _new_biomass[\"leaf_biomass\"],\n",
    "        _total_biomass,\n",
    "        out=np.zeros_like(_total_biomass),\n",
    "        where=~np.isclose(_total_biomass, np.zeros_like(_total_biomass)),\n",
    "    )\n",
    "    current_stem_mass_frac = np.divide(\n",
    "        _new_biomass[\"stem_biomass\"],\n",
    "        _total_biomass,\n",
    "        out=np.zeros_like(_total_biomass),\n",
    "        where=~np.isclose(_total_biomass, np.zeros_like(_total_biomass)),\n",
    "    )\n",
    "\n",
    "    ideal_leaf_mass_frac = np.interp(\n",
    "        _total_biomass,\n",
    "        biomass_allocation_array[\"total_biomass\"],\n",
    "        biomass_allocation_array[\"leaf_mass_frac\"],\n",
    "    )\n",
    "    ideal_stem_mass_frac = np.interp(\n",
    "        _total_biomass,\n",
    "        biomass_allocation_array[\"total_biomass\"],\n",
    "        biomass_allocation_array[\"stem_mass_frac\"],\n",
    "    )\n",
    "\n",
    "    current_diff_leaf = ideal_leaf_mass_frac - current_leaf_mass_frac\n",
    "    current_diff_stem = ideal_stem_mass_frac - current_stem_mass_frac\n",
    "\n",
    "    _new_leaf_mass_frac = ideal_leaf_mass_frac - current_diff_leaf * (\n",
    "        1\n",
    "        - np.exp(\n",
    "            -species_duration_params[\"senesce_rate\"] * dt\n",
    "        )\n",
    "    )\n",
    "    _new_stem_mass_frac = ideal_stem_mass_frac - current_diff_stem * (\n",
    "        1\n",
    "        - np.exp(\n",
    "            -species_duration_params[\"senesce_rate\"] * dt\n",
    "        )\n",
    "    )\n",
    "\n",
    "    _new_root_mass_frac = 1 - _new_leaf_mass_frac - _new_stem_mass_frac\n",
    "\n",
    "    _new_leaf_mass_frac[_new_leaf_mass_frac < _min_leaf_mass_frac] = (\n",
    "        _min_leaf_mass_frac[_new_leaf_mass_frac < _min_leaf_mass_frac]\n",
    "    )\n",
    "    _new_stem_mass_frac[_new_stem_mass_frac < _min_stem_mass_frac] = (\n",
    "        _min_stem_mass_frac[_new_stem_mass_frac < _min_stem_mass_frac]\n",
    "    )\n",
    "    \n",
    "    diff = _new_root_mass_frac - _min_root_mass_frac\n",
    "    filter = np.nonzero(diff < 0)\n",
    "    _new_root_mass_frac[filter] = _min_root_mass_frac[filter]\n",
    "    _leaf_allocation = (_new_leaf_mass_frac / (_new_leaf_mass_frac+_new_stem_mass_frac))\n",
    "    _stem_allocation = (_new_stem_mass_frac / (_new_leaf_mass_frac+_new_stem_mass_frac))\n",
    "    _new_leaf_mass_frac[filter] = _new_leaf_mass_frac[filter] + (diff[filter] * _leaf_allocation[filter])\n",
    "    _new_stem_mass_frac[filter] = _new_stem_mass_frac[filter] + (diff[filter] * _stem_allocation[filter])\n",
    "    _new_biomass[\"root_biomass\"] = (\n",
    "        _new_root_mass_frac\n",
    "    ) * _total_biomass\n",
    "    _new_biomass[\"leaf_biomass\"] = _new_leaf_mass_frac * _total_biomass\n",
    "    _new_biomass[\"stem_biomass\"] = _new_stem_mass_frac * _total_biomass\n",
    "    return _new_biomass"
   ]
  },
  {
   "cell_type": "code",
   "execution_count": 8,
   "metadata": {},
   "outputs": [
    {
     "name": "stdout",
     "output_type": "stream",
     "text": [
      "[('Corn', 0, 1, 0., 0., 0.3       , 0.39533653, 0.23720192, 0.98530843, 0.41779952, 0.93463556, 3.41082499, 0.54262599,  22.04752094, 0.49779389, 0.16158135, 3.21097632, 0.64237696, 0.27052255, 0.40443099, 1.89108074, 5, nan, nan, nan, 0)\n",
      " ('Corn', 1, 2, 0., 0., 0.3844806 , 0.5       , 0.3       , 1.44514426, 1.25652654, 0.93873319, 2.58956302, 0.37741888,  62.44487828, 2.43731746, 0.30069145, 3.44398172, 1.74317504, 0.51972283, 0.89343767, 2.43808677, 2, nan, nan, nan, 1)\n",
      " ('Corn', 2, 3, 0., 0., 0.51450391, 0.5       , 0.39054906, 1.92259353, 1.08809784, 0.88974189, 3.7304953 , 0.79469987, 301.3336128 , 2.56909285, 0.98202488, 3.28857479, 0.23247275, 0.50190914, 0.83577435, 0.01603978, 3, nan, nan, nan, 2)\n",
      " ('Corn', 3, 4, 0., 0., 0.3       , 0.46981426, 0.51604551, 0.596081  , 1.56517411, 0.26211915, 3.79880928, 0.68560303, 215.52711201, 1.02468762, 0.31464708, 2.86194216, 0.75678955, 2.61149373, 0.8497444 , 4.92175291, 3, nan, nan, nan, 3)\n",
      " ('Corn', 4, 5, 0., 0., 0.3       , 0.49039812, 0.54163611, 1.61866513, 1.69052587, 0.53427199, 0.39660524, 1.59127228, 315.2546732 , 0.84543397, 0.24047017, 2.2886234 , 0.76191122, 2.53491309, 0.91375435, 0.2230319 , 2, nan, nan, nan, 4)\n",
      " ('Corn', 5, 6, 0., 0., 0.34349196, 0.5       , 0.3       , 0.10401524, 0.80651183, 0.14910573, 3.15984196, 1.51162049, 522.57040752, 2.10615549, 0.87101552, 2.64749999, 1.96999474, 1.03741575, 0.52394209, 2.94659682, 5, nan, nan, nan, 5)]\n"
     ]
    }
   ],
   "source": [
    "new_plants=adjust_biomass_allocation_towards_ideal(plants)\n",
    "print(new_plants)"
   ]
  },
  {
   "cell_type": "code",
   "execution_count": 9,
   "metadata": {},
   "outputs": [
    {
     "name": "stdout",
     "output_type": "stream",
     "text": [
      "[1.91784687 2.62962487 3.3276465  1.88194077 2.95069936 1.24750719]\n",
      "[1.91784687 2.62962487 3.3276465  1.88194077 2.95069936 1.24750719]\n"
     ]
    }
   ],
   "source": [
    "total_biomass_plants = sum_plant_parts(plants, parts = \"total\")\n",
    "print(total_biomass_plants)\n",
    "total_biomass_new_plants = sum_plant_parts(new_plants, parts = \"total\")\n",
    "print(total_biomass_new_plants)"
   ]
  },
  {
   "cell_type": "code",
   "execution_count": 10,
   "metadata": {},
   "outputs": [],
   "source": [
    "def litter_decomp(plants):\n",
    "    _new_biomass = plants.copy()\n",
    "    decay_rate = species_morph_params[\"biomass_decay_rate\"]\n",
    "    sum_dead_mass = sum_plant_parts(_new_biomass, parts=\"dead\")\n",
    "    filter = np.nonzero(sum_dead_mass > 0.0)\n",
    "    cohort_init_mass = np.zeros_like(_new_biomass[\"root\"])\n",
    "    cohort_init_mass[filter] = sum_dead_mass[filter] / np.exp(\n",
    "        -decay_rate * _new_biomass[\"dead_age\"][filter]\n",
    "    )\n",
    "    dead_parts = [\"dead_root\", \"dead_leaf\", \"dead_stem\", \"dead_reproductive\"]\n",
    "\n",
    "    for part in dead_parts:\n",
    "        part_init_mass = np.zeros_like(_new_biomass[\"dead_age\"])\n",
    "        part_init_mass[filter] = (\n",
    "            cohort_init_mass[filter]\n",
    "            * _new_biomass[part][filter]\n",
    "            / sum_dead_mass[filter]\n",
    "        )\n",
    "        _new_biomass[part] = part_init_mass * np.exp(\n",
    "            -decay_rate * (_new_biomass[\"dead_age\"] + dt)\n",
    "        )\n",
    "    _new_biomass[\"dead_age\"] += (dt * np.ones_like(\n",
    "        _new_biomass[\"dead_age\"]\n",
    "    ))\n",
    "    for part in dead_parts:\n",
    "        filter = np.nonzero(np.isnan(_new_biomass[part]) | (_new_biomass[part] < 0))\n",
    "        _new_biomass[part][filter] = np.zeros_like(_new_biomass[part][filter])\n",
    "    return _new_biomass"
   ]
  },
  {
   "cell_type": "code",
   "execution_count": 11,
   "metadata": {},
   "outputs": [
    {
     "name": "stdout",
     "output_type": "stream",
     "text": [
      "[('Corn', 0, 1, 0., 0., 0.3       , 0.39533653, 0.23720192, 0.98530843, 0.05116224, 0.11445213, 0.41767745, 0.06644804,  52.04752094, 0.49779389, 0.16158135, 3.21097632, 0.64237696, 0.27052255, 0.40443099, 1.89108074, 5, nan, nan, nan, 0)\n",
      " ('Corn', 1, 2, 0., 0., 0.3844806 , 0.5       , 0.3       , 1.44514426, 0.15386975, 0.11495391, 0.31710864, 0.04621737,  92.44487828, 2.43731746, 0.30069145, 3.44398172, 1.74317504, 0.51972283, 0.89343767, 2.43808677, 2, nan, nan, nan, 1)\n",
      " ('Corn', 2, 3, 0., 0., 0.51450391, 0.5       , 0.39054906, 1.92259353, 0.13324457, 0.10895461, 0.45682313, 0.09731611, 331.3336128 , 2.56909285, 0.98202488, 3.28857479, 0.23247275, 0.50190914, 0.83577435, 0.01603978, 3, nan, nan, nan, 2)\n",
      " ('Corn', 3, 4, 0., 0., 0.3       , 0.46981426, 0.51604551, 0.596081  , 0.19166563, 0.03209817, 0.46518862, 0.0839565 , 245.52711201, 1.02468762, 0.31464708, 2.86194216, 0.75678955, 2.61149373, 0.8497444 , 4.92175291, 3, nan, nan, nan, 3)\n",
      " ('Corn', 4, 5, 0., 0., 0.3       , 0.49039812, 0.54163611, 1.61866513, 0.20701576, 0.06542504, 0.04856686, 0.19486152, 345.2546732 , 0.84543397, 0.24047017, 2.2886234 , 0.76191122, 2.53491309, 0.91375435, 0.2230319 , 2, nan, nan, nan, 4)\n",
      " ('Corn', 5, 6, 0., 0., 0.34349196, 0.5       , 0.3       , 0.10401524, 0.09876256, 0.01825896, 0.38694296, 0.18510765, 552.57040752, 2.10615549, 0.87101552, 2.64749999, 1.96999474, 1.03741575, 0.52394209, 2.94659682, 5, nan, nan, nan, 5)]\n"
     ]
    }
   ],
   "source": [
    "plants = litter_decomp(plants)\n",
    "print(plants)\n"
   ]
  },
  {
   "cell_type": "code",
   "execution_count": 12,
   "metadata": {},
   "outputs": [],
   "source": [
    "def update_morphology(plants):\n",
    "    abg_biomass = sum_plant_parts(plants, parts=\"aboveground\")\n",
    "    # dead_abg_biomass = self.sum_plant_parts(plants, parts=\"dead_aboveground\")\n",
    "    # total_abg_biomass = abg_biomass + dead_abg_biomass\n",
    "    total_abg_biomass = abg_biomass\n",
    "    #dims = shape.calc_abg_dims_from_biomass(total_abg_biomass)\n",
    "    #plants[\"shoot_sys_width\"] = dims[0]\n",
    "    #plants[\"shoot_sys_height\"] = dims[1]\n",
    "    #plants[\"root_sys_width\"] = shape.calc_root_sys_width(\n",
    "    #    plants[\"shoot_sys_width\"]\n",
    "    #)\n",
    "    \n",
    "    dead_leaf_area = plants[\"total_leaf_area\"] - plants[\"live_leaf_area\"]\n",
    "    dead_leaf_area[dead_leaf_area < 0] = 0.0\n",
    "    filter = np.nonzero((plants[\"dead_age\"] > 0) & (dead_leaf_area > 0))\n",
    "    plants[\"live_leaf_area\"] = (\n",
    "        plants[\"leaf\"] * species_morph_params[\"sp_leaf_area\"]\n",
    "    )\n",
    "\n",
    "    cohort_dead_leaf_area = np.zeros_like(dead_leaf_area)\n",
    "    cohort_dead_leaf_area[filter] = dead_leaf_area[filter] / np.exp(\n",
    "        -species_morph_params[\"biomass_decay_rate\"]\n",
    "        * plants[\"dead_age\"][filter]\n",
    "    )\n",
    "    print(dead_leaf_area)\n",
    "    print(cohort_dead_leaf_area)\n",
    "    dead_leaf_area_ratio = np.ones_like(plants[\"live_leaf_area\"])\n",
    "    dead_leaf_area_ratio[filter] = (\n",
    "        dead_leaf_area[filter] / cohort_dead_leaf_area[filter]\n",
    "    )\n",
    "    plants[\"total_leaf_area\"] = plants[\"live_leaf_area\"] + (\n",
    "        plants[\"dead_leaf\"] * species_morph_params[\"sp_leaf_area\"] * 0.5\n",
    "    )\n",
    "    return plants"
   ]
  },
  {
   "cell_type": "code",
   "execution_count": 13,
   "metadata": {},
   "outputs": [
    {
     "name": "stdout",
     "output_type": "stream",
     "text": [
      "[0.00000000e+00 0.00000000e+00 0.00000000e+00 5.13001942e+07\n",
      " 5.07901507e+10 3.22847697e+16]\n",
      "[0.         0.         0.         1.76174933 1.62115874 0.51347366]\n",
      "[0.0053911  0.00541825 0.00634469 0.00311534 0.00325183 0.0033155 ]\n",
      "[2.76961914e-03 2.10274738e-03 3.02919418e-03 1.05933474e-10\n",
      " 1.02795376e-14 0.00000000e+00]\n",
      "[ 52.04752094  92.44487828 331.3336128  245.52711201 345.2546732\n",
      " 552.57040752]\n"
     ]
    }
   ],
   "source": [
    "dead_leaf_area = plants[\"total_leaf_area\"] - plants[\"live_leaf_area\"]\n",
    "filter = np.nonzero(dead_leaf_area > 0)\n",
    "\n",
    "dead_leaf_area[dead_leaf_area < 0] = 0.0\n",
    "plants[\"live_leaf_area\"] = (\n",
    "    plants[\"leaf\"] * species_morph_params[\"sp_leaf_area\"]\n",
    ")\n",
    "\n",
    "cohort_dead_leaf_area = np.zeros_like(dead_leaf_area)\n",
    "cohort_dead_leaf_area[filter] = dead_leaf_area[filter] / np.exp(\n",
    "    -species_morph_params[\"biomass_decay_rate\"]\n",
    "    * plants[\"dead_age\"][filter]\n",
    "    )\n",
    "print(cohort_dead_leaf_area)\n",
    "print(dead_leaf_area)\n",
    "dead_leaf_area_ratio = np.ones_like(plants[\"live_leaf_area\"])\n",
    "dead_leaf_area_ratio[filter] = (\n",
    "    dead_leaf_area[filter] / cohort_dead_leaf_area[filter]\n",
    ")\n",
    "plants[\"total_leaf_area\"] = plants[\"live_leaf_area\"] + (\n",
    "    plants[\"dead_leaf\"] * species_morph_params[\"sp_leaf_area\"] * dead_leaf_area_ratio\n",
    ")\n",
    "print(plants[\"total_leaf_area\"])\n",
    "print(plants[\"total_leaf_area\"] - plants[\"live_leaf_area\"])\n",
    "print(plants[\"dead_age\"])"
   ]
  },
  {
   "cell_type": "code",
   "execution_count": 14,
   "metadata": {},
   "outputs": [
    {
     "data": {
      "text/plain": [
       "dtype('float64')"
      ]
     },
     "execution_count": 14,
     "metadata": {},
     "output_type": "execute_result"
    }
   ],
   "source": [
    "plants['dead_age'].dtype"
   ]
  },
  {
   "cell_type": "code",
   "execution_count": 15,
   "metadata": {},
   "outputs": [
    {
     "name": "stdout",
     "output_type": "stream",
     "text": [
      "[('Corn', 0, 1, 0., 0., 0.3       , 0.39533653, 0.23720192, 0.98530843, 0.05116224, 0.11445213, 0.41767745, 0.06644804,  52.04752094, 0.49779389, 0.16158135, 3.21097632, 0.64237696, 0.0053911 , 0.00262148, 1.89108074, 5, nan, nan, nan, 0)\n",
      " ('Corn', 1, 2, 0., 0., 0.3844806 , 0.5       , 0.3       , 1.44514426, 0.15386975, 0.11495391, 0.31710864, 0.04621737,  92.44487828, 2.43731746, 0.30069145, 3.44398172, 1.74317504, 0.00541825, 0.0033155 , 2.43808677, 2, nan, nan, nan, 1)\n",
      " ('Corn', 2, 3, 0., 0., 0.51450391, 0.5       , 0.39054906, 1.92259353, 0.13324457, 0.10895461, 0.45682313, 0.09731611, 331.3336128 , 2.56909285, 0.98202488, 3.28857479, 0.23247275, 0.00634469, 0.0033155 , 0.01603978, 3, nan, nan, nan, 2)\n",
      " ('Corn', 3, 4, 0., 0., 0.3       , 0.46981426, 0.51604551, 0.596081  , 0.19166563, 0.03209817, 0.46518862, 0.0839565 , 245.52711201, 1.02468762, 0.31464708, 2.86194216, 0.75678955, 0.00311534, 0.00311534, 4.92175291, 3, nan, nan, nan, 3)\n",
      " ('Corn', 4, 5, 0., 0., 0.3       , 0.49039812, 0.54163611, 1.61866513, 0.20701576, 0.06542504, 0.04856686, 0.19486152, 345.2546732 , 0.84543397, 0.24047017, 2.2886234 , 0.76191122, 0.00325183, 0.00325183, 0.2230319 , 2, nan, nan, nan, 4)\n",
      " ('Corn', 5, 6, 0., 0., 0.34349196, 0.5       , 0.3       , 0.10401524, 0.09876256, 0.01825896, 0.38694296, 0.18510765, 552.57040752, 2.10615549, 0.87101552, 2.64749999, 1.96999474, 0.0033155 , 0.0033155 , 2.94659682, 5, nan, nan, nan, 5)]\n",
      "[2.76961914e-03 2.10274738e-03 3.02919418e-03 1.05933474e-10\n",
      " 1.02795376e-14 0.00000000e+00]\n",
      "[1.05851406e-01 1.35883942e+00 3.58156051e+07 3.08466572e-03\n",
      " 3.22053142e-04 0.00000000e+00]\n",
      "[('Corn', 0, 1, 0., 0., 0.3       , 0.39533653, 0.23720192, 0.98530843, 0.05116224, 0.11445213, 0.41767745, 0.06644804,  52.04752094, 0.49779389, 0.16158135, 3.21097632, 0.64237696, 0.00400629, 0.00262148, 1.89108074, 5, nan, nan, nan, 0)\n",
      " ('Corn', 1, 2, 0., 0., 0.3844806 , 0.5       , 0.3       , 1.44514426, 0.15386975, 0.11495391, 0.31710864, 0.04621737,  92.44487828, 2.43731746, 0.30069145, 3.44398172, 1.74317504, 0.00436687, 0.0033155 , 2.43808677, 2, nan, nan, nan, 1)\n",
      " ('Corn', 2, 3, 0., 0., 0.51450391, 0.5       , 0.39054906, 1.92259353, 0.13324457, 0.10895461, 0.45682313, 0.09731611, 331.3336128 , 2.56909285, 0.98202488, 3.28857479, 0.23247275, 0.0048301 , 0.0033155 , 0.01603978, 3, nan, nan, nan, 2)\n",
      " ('Corn', 3, 4, 0., 0., 0.3       , 0.46981426, 0.51604551, 0.596081  , 0.19166563, 0.03209817, 0.46518862, 0.0839565 , 245.52711201, 1.02468762, 0.31464708, 2.86194216, 0.75678955, 0.00465767, 0.00311534, 4.92175291, 3, nan, nan, nan, 3)\n",
      " ('Corn', 4, 5, 0., 0., 0.3       , 0.49039812, 0.54163611, 1.61866513, 0.20701576, 0.06542504, 0.04856686, 0.19486152, 345.2546732 , 0.84543397, 0.24047017, 2.2886234 , 0.76191122, 0.00341285, 0.00325183, 0.2230319 , 2, nan, nan, nan, 4)\n",
      " ('Corn', 5, 6, 0., 0., 0.34349196, 0.5       , 0.3       , 0.10401524, 0.09876256, 0.01825896, 0.38694296, 0.18510765, 552.57040752, 2.10615549, 0.87101552, 2.64749999, 1.96999474, 0.00459841, 0.0033155 , 2.94659682, 5, nan, nan, nan, 5)]\n"
     ]
    }
   ],
   "source": [
    "print(plants)\n",
    "plants=update_morphology(plants)\n",
    "print(plants)"
   ]
  },
  {
   "cell_type": "code",
   "execution_count": 16,
   "metadata": {},
   "outputs": [
    {
     "data": {
      "text/plain": [
       "True"
      ]
     },
     "execution_count": 16,
     "metadata": {},
     "output_type": "execute_result"
    }
   ],
   "source": [
    "np.logical_or(np.isnan(plants[\"live_leaf_area\"]), plants[\"live_leaf_area\"]).any()"
   ]
  },
  {
   "cell_type": "code",
   "execution_count": null,
   "metadata": {},
   "outputs": [],
   "source": [
    "rhizomes=rng.rayleigh(scale=0.2, size=32)*18\n",
    "print(rhizomes)\n",
    "ns_content = (\n",
    "                rng.triangular(\n",
    "                    0.01071,\n",
    "                    0.21429,\n",
    "                    0.36643,\n",
    "                    32\n",
    "                )\n",
    "\n",
    "            )\n",
    "print(ns_content)\n",
    "ns_rhizomes = ns_content * rhizomes\n",
    "print(ns_rhizomes)"
   ]
  }
 ],
 "metadata": {
  "kernelspec": {
   "display_name": "base",
   "language": "python",
   "name": "python3"
  },
  "language_info": {
   "codemirror_mode": {
    "name": "ipython",
    "version": 3
   },
   "file_extension": ".py",
   "mimetype": "text/x-python",
   "name": "python",
   "nbconvert_exporter": "python",
   "pygments_lexer": "ipython3",
   "version": "3.10.8"
  },
  "orig_nbformat": 4,
  "vscode": {
   "interpreter": {
    "hash": "fd8d38f7fffbe48e6e8c262327b52ef8e91eb0cc795cec26bc569e80dcf3ffdc"
   }
  }
 },
 "nbformat": 4,
 "nbformat_minor": 2
}
