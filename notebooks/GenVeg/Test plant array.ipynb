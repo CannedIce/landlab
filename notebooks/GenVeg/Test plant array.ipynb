{
 "cells": [
  {
   "attachments": {},
   "cell_type": "markdown",
   "metadata": {},
   "source": [
    "Create structured array with random biomass. One plant per grid cell."
   ]
  },
  {
   "cell_type": "code",
   "execution_count": 1,
   "metadata": {},
   "outputs": [],
   "source": [
    "import numpy as np\n",
    "rng = np.random.default_rng()"
   ]
  },
  {
   "cell_type": "code",
   "execution_count": 3,
   "metadata": {},
   "outputs": [
    {
     "name": "stdout",
     "output_type": "stream",
     "text": [
      "[('Corn', 0, 1, 0.66919635, 3.36196387, 0.94600808, 0.2167461 , 1.26094408, 3.89416591, 0)\n",
      " ('Corn', 1, 2, 2.19719532, 1.66497733, 0.78933377, 0.18062576, 0.21989526, 2.8929207 , 1)\n",
      " ('Corn', 2, 3, 1.67862108, 1.42816663, 0.34940248, 0.31718225, 1.50698264, 4.96071365, 2)\n",
      " ('Corn', 3, 4, 0.30033227, 1.66910761, 0.17675973, 0.00439373, 0.26701758, 4.29069238, 3)\n",
      " ('Corn', 4, 5, 1.34771382, 2.89259501, 0.15028019, 0.37085553, 0.03757636, 3.73508075, 4)\n",
      " ('Corn', 5, 6, 2.30448642, 3.00273982, 0.70865293, 0.33582339, 1.45436727, 3.60484469, 5)]\n"
     ]
    }
   ],
   "source": [
    "dtypes=[\n",
    "    ('species','U10'),\n",
    "    ('pid',int),\n",
    "    ('cell_index',int),\n",
    "    (('root','root_biomass'),float),\n",
    "    (('leaf','leaf_biomass'),float),\n",
    "    (('stem','stem_biomass'),float),\n",
    "    (('storage','storage_biomass'), float),\n",
    "    (('reproductive','repro_biomass'),float),\n",
    "    ('plant_age',float),\n",
    "    ('item_id',int)\n",
    "]\n",
    "plants= np.empty((0,10),dtype=dtypes)\n",
    "plantlist=[]\n",
    "plant='Corn'\n",
    "pidval=0\n",
    "cell_index=0\n",
    "for i in range(6):\n",
    "    pidval=i\n",
    "    cell_index=i+1\n",
    "    plantlist.append((plant,pidval,cell_index,0.0,0.0,0.0,0.0,0.0,0.0,i))\n",
    "#\n",
    "plants=np.array(plantlist,dtype=dtypes)\n",
    "plants['root']=rng.uniform(low=0.1, high=3, size=plants.size)\n",
    "plants['stem']=rng.uniform(low=0.1, high=1, size=plants.size)\n",
    "plants['leaf']=rng.uniform(low=0.2, high=4, size=plants.size)\n",
    "plants['storage']=rng.uniform(low=0.0, high=0.5, size=plants.size)\n",
    "plants['reproductive']=rng.uniform(low=0.0, high=2, size=plants.size)\n",
    "plants['plant_age']=rng.uniform(low=1/365, high=5, size=plants.size)\n",
    "print(plants)\n"
   ]
  }
 ],
 "metadata": {
  "kernelspec": {
   "display_name": "base",
   "language": "python",
   "name": "python3"
  },
  "language_info": {
   "codemirror_mode": {
    "name": "ipython",
    "version": 3
   },
   "file_extension": ".py",
   "mimetype": "text/x-python",
   "name": "python",
   "nbconvert_exporter": "python",
   "pygments_lexer": "ipython3",
   "version": "3.9.15"
  },
  "orig_nbformat": 4,
  "vscode": {
   "interpreter": {
    "hash": "fd8d38f7fffbe48e6e8c262327b52ef8e91eb0cc795cec26bc569e80dcf3ffdc"
   }
  }
 },
 "nbformat": 4,
 "nbformat_minor": 2
}
