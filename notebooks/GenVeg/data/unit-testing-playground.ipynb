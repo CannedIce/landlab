{
 "cells": [
  {
   "cell_type": "code",
   "execution_count": 1,
   "metadata": {},
   "outputs": [],
   "source": [
    "from landlab.components.genveg.species import Species\n",
    "import numpy as np\n",
    "from landlab import RasterModelGrid\n",
    "rng = np.random.default_rng()\n"
   ]
  },
  {
   "cell_type": "code",
   "execution_count": 2,
   "metadata": {},
   "outputs": [],
   "source": [
    "def example_input_params():\n",
    "    param_dict = {\n",
    "        \"BTS\": {\n",
    "            \"col_params\": {\"prob_colonization\": 0.01, \"time_to_colonization\": 365},\n",
    "            \"dispersal_params\": {\n",
    "                \"max_dist_dispersal\": 0.4,\n",
    "                \"min_size_dispersal\": 0.5,\n",
    "                \"unit_cost_dispersal\": 1.2,\n",
    "            },\n",
    "            \"duration_params\": {\n",
    "                \"growing_season_end\": 305,\n",
    "                \"growing_season_start\": 144,\n",
    "                \"max_age\": 1000,\n",
    "                \"peak_biomass\": 227,\n",
    "                \"reproduction_end\": 250,\n",
    "                \"reproduction_start\": 180,\n",
    "                \"senescence_start\": 273,\n",
    "            },\n",
    "            \"grow_params\": {\n",
    "                \"glucose_requirement\": {\n",
    "                    \"leaf\": 1.463,\n",
    "                    \"reproductive\": 1.414,\n",
    "                    \"root\": 1.444,\n",
    "                    \"stem\": 1.513,\n",
    "                },\n",
    "                \"growth_max_biomass\": 13.899999999999999,\n",
    "                \"growth_min_biomass\": 0.06222222222222222,\n",
    "                \"incremental_nsc\": {\n",
    "                    \"leaf\": [1.25, 0, -1, 0.5],\n",
    "                    \"reproductive\": [1.5625, -1.875, 0.0625, 2.5],\n",
    "                    \"root\": [1.25, -2.5, 0, 2],\n",
    "                    \"stem\": [0, -0.5, 0, 0.5],\n",
    "                },\n",
    "                \"max_nsc_content\": {\n",
    "                    \"leaf\": 0.36629,\n",
    "                    \"reproductive\": 0.36643,\n",
    "                    \"root\": 0.36643,\n",
    "                    \"stem\": 0.30964,\n",
    "                },\n",
    "                \"min_nsc_content\": {\n",
    "                    \"leaf\": 0.01548,\n",
    "                    \"reproductive\": 0.01071,\n",
    "                    \"root\": 0.01071,\n",
    "                    \"stem\": 0.0075,\n",
    "                },\n",
    "                \"nsc_content\": {\n",
    "                    \"leaf\": 0.2096344,\n",
    "                    \"reproductive\": 0.2369178,\n",
    "                    \"root\": 0.2369178,\n",
    "                    \"stem\": 0.10,\n",
    "                },\n",
    "                \"plant_part_max\": {\n",
    "                    \"leaf\": 5.5,\n",
    "                    \"reproductive\": 4,\n",
    "                    \"root\": 4.3,\n",
    "                    \"stem\": 4.1,\n",
    "                },\n",
    "                \"plant_part_min\": {\n",
    "                    \"leaf\": 0.03,\n",
    "                    \"reproductive\": 0,\n",
    "                    \"root\": 0.01,\n",
    "                    \"stem\": 0.022222222222222223,\n",
    "                },\n",
    "                \"respiration_coefficient\": {\n",
    "                    \"leaf\": 0.03,\n",
    "                    \"reproductive\": 0.01,\n",
    "                    \"root\": 0.015,\n",
    "                    \"stem\": 0.015,\n",
    "                },\n",
    "                \"root_to_leaf\": {\"a\": 0.031, \"b1\": 0.951, \"b2\": 0},\n",
    "                \"root_to_stem\": {\"a\": -0.107, \"b1\": 1.098, \"b2\": 0.0216},\n",
    "                \"total_max_biomass\": 17.9,\n",
    "                \"total_min_biomass\": 0.06222222222222222,\n",
    "            },\n",
    "            \"morph_params\": {\n",
    "                \"allometry_method\": \"min-max\",\n",
    "                \"basal_coeffs\": {\n",
    "                    \"a\": -9999,\n",
    "                    \"b\": -9999,\n",
    "                },\n",
    "                \"biomass_decay_rate\": {\n",
    "                    \"dead_leaf\": 0.07,\n",
    "                    \"dead_reproductive\": 0.07,\n",
    "                    \"dead_root\": 0.07,\n",
    "                    \"dead_stem\": 0.07,\n",
    "                },\n",
    "                \"canopy_coeffs\": {\n",
    "                    \"a\": -9999,\n",
    "                    \"b\": -9999,\n",
    "                    \"c\": -9999,\n",
    "                },\n",
    "                \"height_coeffs\": {\n",
    "                    \"a\": -9999,\n",
    "                    \"b\": -9999,\n",
    "                },\n",
    "                \"lai_cr\": 4,\n",
    "                \"max_height\": 0.75,\n",
    "                \"max_n_stems\": 10,\n",
    "                \"max_plant_density\": 18,\n",
    "                \"max_root_sys_depth\": 0.33,\n",
    "                \"max_root_sys_width\": 0.35,\n",
    "                \"max_shoot_sys_width\": 0.3,\n",
    "                \"max_basal_dia\": 0.1,\n",
    "                \"min_height\": 0.075,\n",
    "                \"min_root_sys_depth\": 0.02,\n",
    "                \"min_root_sys_width\": 0.01,\n",
    "                \"min_shoot_sys_width\": 0.01,\n",
    "                \"min_basal_dia\": 0.005423267786434878,\n",
    "                \"sp_leaf_area\": 0.0074,\n",
    "            },\n",
    "            \"mortality_params\": {\n",
    "                \"coeffs\": {\n",
    "                    \"1\": [9837.624573797346, 0.20082011968400607],\n",
    "                    \"2\": [1270116309.000265, 33.52512742454386],\n",
    "                },\n",
    "                \"duration\": {1: 207, 2: 365},\n",
    "                \"mort_variable_name\": {\n",
    "                    \"1\": \"Distance to shore\",\n",
    "                    \"2\": \"elevation__above_WL\",\n",
    "                },\n",
    "                \"period\": {\n",
    "                    \"1\": \"during growing season\",\n",
    "                    \"2\": \"during growing season\",\n",
    "                },\n",
    "                \"predictor\": {\n",
    "                    \"1\": [30, 40, 50, 55, -9999],\n",
    "                    \"2\": [0, 0.5, 0.6, 0.68, 1.12],\n",
    "                },\n",
    "                \"response\": {\n",
    "                    \"1\": [0.01, 0.25, 0.67, 0.9, -9999],\n",
    "                    \"2\": [0, 0, 0.3, 1, 1],\n",
    "                },\n",
    "            },\n",
    "            \"photo_params\": {\n",
    "                \"ci\": 65,\n",
    "                \"co\": 209,\n",
    "                \"kc\": 21,\n",
    "                \"ko\": 650,\n",
    "                \"spec_factor_25\": 120,\n",
    "                \"stomatal_conductance\": 0.2,\n",
    "                \"vcmax\": 20,\n",
    "            },\n",
    "            \"plant_factors\": {\n",
    "                \"angio_gymno\": \"angiosperm\",\n",
    "                \"duration\": \"perennial deciduous\",\n",
    "                \"growth_form\": \"rhizomatous\",\n",
    "                \"growth_habit\": \"graminoid\",\n",
    "                \"monocot_dicot\": \"monocot\",\n",
    "                \"p_type\": \"C3\",\n",
    "                \"species\": \"BTS\",\n",
    "            },\n",
    "        }\n",
    "    }\n",
    "    return param_dict\n",
    "\n",
    "\n",
    "# test plant array\n",
    "def example_plant():\n",
    "    dtypes = [\n",
    "        (\"species\", \"U10\"),\n",
    "        (\"pid\", int),\n",
    "        (\"cell_index\", int),\n",
    "        (\"x_loc\", float),\n",
    "        (\"y_loc\", float),\n",
    "        ((\"root\", \"root_biomass\"), float),\n",
    "        ((\"leaf\", \"leaf_biomass\"), float),\n",
    "        ((\"stem\", \"stem_biomass\"), float),\n",
    "        ((\"reproductive\", \"repro_biomass\"), float),\n",
    "        (\"dead_root\", float),\n",
    "        (\"dead_stem\", float),\n",
    "        (\"dead_leaf\", float),\n",
    "        (\"dead_reproductive\", float),\n",
    "        (\"dead_root_age\", float),\n",
    "        (\"dead_leaf_age\", float),\n",
    "        (\"dead_stem_age\", float),\n",
    "        (\"dead_reproductive_age\", float),\n",
    "        (\"shoot_sys_width\", float),\n",
    "        (\"basal_width\", float),\n",
    "        (\"root_sys_width\", float),\n",
    "        (\"shoot_sys_height\", float),\n",
    "        (\"root_sys_depth\", float),\n",
    "        (\"total_leaf_area\", float),\n",
    "        (\"live_leaf_area\", float),\n",
    "        (\"plant_age\", float),\n",
    "        (\"n_stems\", int),\n",
    "        (\"pup_x_loc\", float),\n",
    "        (\"pup_y_loc\", float),\n",
    "        (\"pup_cost\", float),\n",
    "        (\"item_id\", int),\n",
    "    ]\n",
    "    plants = np.empty(1, dtype=dtypes)\n",
    "    plantlist = []\n",
    "    plant = \"Corn\"\n",
    "    pidval = 0\n",
    "    cell_index = 0\n",
    "    for i in range(1):\n",
    "        pidval = i\n",
    "        cell_index = i + 1\n",
    "        plantlist.append(\n",
    "            (\n",
    "                plant,\n",
    "                pidval,\n",
    "                cell_index,\n",
    "                0.0,\n",
    "                0.0,\n",
    "                0.0,\n",
    "                0.0,\n",
    "                0.0,\n",
    "                0.0,\n",
    "                0.0,\n",
    "                0.0,\n",
    "                0.0,\n",
    "                0.0,\n",
    "                0.0,\n",
    "                0.0,\n",
    "                0.0,\n",
    "                0.0,\n",
    "                0.0,\n",
    "                0.0,\n",
    "                0.0,\n",
    "                0.0,\n",
    "                0.0,\n",
    "                0.0,\n",
    "                0.0,\n",
    "                0.0,\n",
    "                0,\n",
    "                np.nan,\n",
    "                np.nan,\n",
    "                np.nan,\n",
    "                i,\n",
    "            )\n",
    "        )\n",
    "    plants = np.array(plantlist, dtype=dtypes)\n",
    "    plants[\"root\"] = np.array([0.80000000000000004])\n",
    "    plants[\"stem\"] = np.array([0.29999999999999999])\n",
    "    plants[\"leaf\"] = np.array([0.50000000000000000])\n",
    "    plants[\"live_leaf_area\"] = 0.022 * plants[\"leaf\"]\n",
    "    plants[\"shoot_sys_width\"] = np.array(\n",
    "        [(4 * (plants[\"live_leaf_area\"] / 0.012) / np.pi) ** 0.5]\n",
    "    )\n",
    "    plants[\"shoot_sys_height\"] = np.array([0.010000000000000000])\n",
    "    plants[\"total_leaf_area\"] = plants[\"live_leaf_area\"]\n",
    "    plants[\"plant_age\"] = np.array([90])\n",
    "    plants[\"n_stems\"] = np.array([1.0])\n",
    "    return plants\n",
    "\n",
    "def example_plant_array():\n",
    "    dtypes = [\n",
    "        (\"species\", \"U10\"),\n",
    "        (\"pid\", int),\n",
    "        (\"cell_index\", int),\n",
    "        (\"x_loc\", float),\n",
    "        (\"y_loc\", float),\n",
    "        ((\"root\", \"root_biomass\"), float),\n",
    "        ((\"leaf\", \"leaf_biomass\"), float),\n",
    "        ((\"stem\", \"stem_biomass\"), float),\n",
    "        ((\"reproductive\", \"repro_biomass\"), float),\n",
    "        (\"dead_root\", float),\n",
    "        (\"dead_stem\", float),\n",
    "        (\"dead_leaf\", float),\n",
    "        (\"dead_reproductive\", float),\n",
    "        (\"dead_root_age\", float),\n",
    "        (\"dead_leaf_age\", float),\n",
    "        (\"dead_stem_age\", float),\n",
    "        (\"dead_reproductive_age\", float),\n",
    "        (\"shoot_sys_width\", float),\n",
    "        (\"basal_width\", float),\n",
    "        (\"root_sys_width\", float),\n",
    "        (\"shoot_sys_height\", float),\n",
    "        (\"root_sys_depth\", float),\n",
    "        (\"total_leaf_area\", float),\n",
    "        (\"live_leaf_area\", float),\n",
    "        (\"plant_age\", float),\n",
    "        (\"n_stems\", int),\n",
    "        (\"pup_x_loc\", float),\n",
    "        (\"pup_y_loc\", float),\n",
    "        (\"pup_cost\", float),\n",
    "        (\"item_id\", int),\n",
    "    ]\n",
    "    plants = np.empty(100, dtype=dtypes)\n",
    "    plantlist = []\n",
    "    plant = \"Corn\"\n",
    "    pidval = 0\n",
    "    cell_index = 0\n",
    "    for i in range(8):\n",
    "        pidval = i\n",
    "        cell_index = i + 1\n",
    "        plantlist.append(\n",
    "            (\n",
    "                plant,\n",
    "                pidval,\n",
    "                cell_index,\n",
    "                0.0,\n",
    "                0.0,\n",
    "                0.0,\n",
    "                0.0,\n",
    "                0.0,\n",
    "                0.0,\n",
    "                0.0,\n",
    "                0.0,\n",
    "                0.0,\n",
    "                0.0,\n",
    "                0.0,\n",
    "                0.0,\n",
    "                0.0,\n",
    "                0.0,\n",
    "                0.0,\n",
    "                0.0,\n",
    "                0.0,\n",
    "                0.0,\n",
    "                0.0,\n",
    "                0.0,\n",
    "                0.0,\n",
    "                0.0,\n",
    "                0,\n",
    "                np.nan,\n",
    "                np.nan,\n",
    "                np.nan,\n",
    "                i,\n",
    "            )\n",
    "        )\n",
    "    plants = np.array(plantlist, dtype=dtypes)\n",
    "    plants[\"root\"] = np.array([0.05, 0.05, 0.05, 0.05, 7.00, 7.00, 7.00, 7.00])\n",
    "    plants[\"stem\"] = np.array([0.05, 7.00, 0.05, 7.00, 0.05, 7.00, 0.05, 7.00])\n",
    "    plants[\"leaf\"] = np.array([0.05, 0.05, 7.00, 7.00, 0.05, 0.05, 7.00, 7.00])\n",
    "    plants[\"reproductive\"] = np.array([3.5, 3.5, 3.5, 3.5, 3.5, 0.05, 0.05, 0.05])\n",
    "    plants[\"dead_root\"] = plants[\"root\"] * 0.25\n",
    "    plants[\"dead_stem\"] = plants[\"stem\"] * 0.25\n",
    "    plants[\"dead_leaf\"] = plants[\"leaf\"] * 0.25\n",
    "    plants[\"dead_root_age\"] = np.array([1094.035397, 267.2368885, 382.4262438, 347.6774074, 1017.381215, 911.6529431, 314.3525663, 982.1220087])\n",
    "    plants[\"dead_leaf_age\"] = np.array([1329.561664, 1352.338509, 1238.787392, 1433.019734, 1348.797247, 735.8478796, 1177.379645, 234.6844825]) \n",
    "    plants[\"dead_stem_age\"] = np.array([1315.902291, 1453.913069, 688.1424854, 329.2440673, 1362.62031, 457.1701171, 1377.041709, 1364.471028])\n",
    "    plants[\"dead_reproductive_age\"] = np.array([507.8777074, 1121.713079, 204.4386012, 1073.25249, 660.3439315, 426.4383309, 1261.53064, 1085.549562])\n",
    "    plants[\"dead_reproductive\"] = plants[\"reproductive\"] * 0.25\n",
    "    plants[\"shoot_sys_width\"] = rng.uniform(low=0.1, high=3, size=plants.size)\n",
    "    plants[\"basal_width\"] = rng.uniform(low=0.05, high=1, size=plants.size)\n",
    "    plants[\"root_sys_width\"] = rng.uniform(low=0.1, high=1, size=plants.size)\n",
    "    plants[\"shoot_sys_height\"] = rng.uniform(low=0.2, high=4, size=plants.size)\n",
    "    plants[\"root_sys_depth\"] = rng.uniform(low=0.0, high=2, size=plants.size)\n",
    "    plants[\"total_leaf_area\"] = rng.uniform(low=0.1, high=3, size=plants.size)\n",
    "    plants[\"live_leaf_area\"] = rng.uniform(low=0.1, high=1, size=plants.size)\n",
    "    plants[\"plant_age\"] = rng.uniform(low=1 / 365, high=5, size=plants.size)\n",
    "    plants[\"n_stems\"] = rng.integers(1, 6, size=plants.size)\n",
    "    plants[\"pup_x_loc\"][plants[\"reproductive\"] > 0.1] = 0.0\n",
    "    plants[\"pup_y_loc\"][plants[\"reproductive\"] > 0.1] = 0.0\n",
    "    plants[\"pup_cost\"][plants[\"reproductive\"] > 0.1] = 0.75\n",
    "    plants[\"item_id\"] = np.array([1, 2, 3, 4, 5, 6, 7, 8])\n",
    "    return plants\n",
    "\n",
    "def one_cell_grid():\n",
    "    # Create grid with one cell containing min max temp, par, location, species\n",
    "    grid = RasterModelGrid((3, 3), 2, xy_of_reference=(-74.08, 39.79))\n",
    "    grid.axis_units = (\"m\", \"m\")\n",
    "    maxtemp = np.array([15.53])\n",
    "    mintemp = np.array([8.62])\n",
    "    NJ_avg_par = np.array([118.11])\n",
    "\n",
    "    # Initialize with a dummy data sets\n",
    "    _ = grid.add_field(\n",
    "        \"air__max_temperature_C\",\n",
    "        maxtemp * np.ones(grid.number_of_cells),\n",
    "        at=\"cell\",\n",
    "        units=\"C\",\n",
    "    )\n",
    "    _ = grid.add_field(\n",
    "        \"air__min_temperature_C\",\n",
    "        mintemp * np.ones(grid.number_of_cells),\n",
    "        at=\"cell\",\n",
    "        units=\"C\",\n",
    "    )\n",
    "    _ = grid.add_field(\n",
    "        \"radiation__par_tot\",\n",
    "        NJ_avg_par * np.ones(grid.number_of_cells),\n",
    "        at=\"cell\",\n",
    "        units=\"W/m^2\",\n",
    "    )\n",
    "    _ = grid.add_field(\n",
    "        \"vegetation__plant_species\",\n",
    "        np.full(grid.number_of_cells, \"Corn\"),\n",
    "        at=\"cell\",\n",
    "    )\n",
    "    return grid\n"
   ]
  },
  {
   "cell_type": "code",
   "execution_count": 3,
   "metadata": {},
   "outputs": [],
   "source": [
    "s_class = Species(species_params=example_input_params()[\"BTS\"], latitude=0.9074)"
   ]
  },
  {
   "cell_type": "code",
   "execution_count": null,
   "metadata": {},
   "outputs": [],
   "source": [
    "s_class.species_grow_params\n"
   ]
  },
  {
   "cell_type": "code",
   "execution_count": null,
   "metadata": {},
   "outputs": [],
   "source": [
    "s_class.all_parts"
   ]
  },
  {
   "cell_type": "code",
   "execution_count": null,
   "metadata": {},
   "outputs": [],
   "source": [
    "one_cell_grid()[\"cell\"][\"air__max_temperature_C\"]"
   ]
  },
  {
   "cell_type": "code",
   "execution_count": 13,
   "metadata": {},
   "outputs": [
    {
     "name": "stdout",
     "output_type": "stream",
     "text": [
      "[8.62]\n",
      "[15.53]\n"
     ]
    }
   ],
   "source": [
    "min_temp = one_cell_grid()[\"cell\"][\"air__min_temperature_C\"]\n",
    "max_temp = one_cell_grid()[\"cell\"][\"air__max_temperature_C\"]\n",
    "print(min_temp)\n",
    "print(max_temp)"
   ]
  },
  {
   "cell_type": "code",
   "execution_count": 5,
   "metadata": {},
   "outputs": [],
   "source": [
    "epa = example_plant_array().copy()"
   ]
  },
  {
   "cell_type": "code",
   "execution_count": 6,
   "metadata": {},
   "outputs": [
    {
     "data": {
      "text/plain": [
       "array([12.075])"
      ]
     },
     "execution_count": 6,
     "metadata": {},
     "output_type": "execute_result"
    }
   ],
   "source": [
    "temp = (min_temp + max_temp) / 2\n",
    "temp"
   ]
  },
  {
   "cell_type": "code",
   "execution_count": 7,
   "metadata": {},
   "outputs": [],
   "source": [
    "growdict = s_class.species_grow_params\n",
    "all_parts = s_class.all_parts\n"
   ]
  },
  {
   "cell_type": "code",
   "execution_count": 8,
   "metadata": {},
   "outputs": [],
   "source": [
    "new_biomass = epa.copy()"
   ]
  },
  {
   "cell_type": "code",
   "execution_count": 9,
   "metadata": {},
   "outputs": [
    {
     "data": {
      "text/plain": [
       "array([0.40824298])"
      ]
     },
     "execution_count": 9,
     "metadata": {},
     "output_type": "execute_result"
    }
   ],
   "source": [
    "temp_adj = 2 ** ((temp - 25) / 10)\n",
    "temp_adj    "
   ]
  },
  {
   "cell_type": "code",
   "execution_count": 10,
   "metadata": {},
   "outputs": [
    {
     "name": "stdout",
     "output_type": "stream",
     "text": [
      "leaf - new\n",
      "[0.04958143 0.04958143 6.94140053 6.94140053 0.04958143 0.04958143\n",
      " 6.94140053 6.94140053]\n",
      "leaf - old\n",
      "[0.05 0.05 7.   7.   0.05 0.05 7.   7.  ]\n",
      "reproductive - new\n",
      "[3.48989498 3.48989498 3.48989498 3.48989498 3.48989498 0.04985564\n",
      " 0.04985564 0.04985564]\n",
      "reproductive - old\n",
      "[3.5  3.5  3.5  3.5  3.5  0.05 0.05 0.05]\n",
      "root - new\n",
      "[0.04978796 0.04978796 0.04978796 0.04978796 6.97031474 6.97031474\n",
      " 6.97031474 6.97031474]\n",
      "root - old\n",
      "[0.05 0.05 0.05 0.05 7.   7.   7.   7.  ]\n",
      "stem - new\n",
      "[0.04979763 6.97166853 0.04979763 6.97166853 0.04979763 6.97166853\n",
      " 0.04979763 6.97166853]\n",
      "stem - old\n",
      "[0.05 7.   0.05 7.   0.05 7.   0.05 7.  ]\n"
     ]
    }
   ],
   "source": [
    "for part in all_parts:\n",
    "    delta_respire = np.zeros_like(new_biomass[\"root\"])\n",
    "    filter = np.nonzero(new_biomass[part] > 0)\n",
    "    delta_respire[filter] = (\n",
    "        temp_adj * growdict[\"respiration_coefficient\"][part] * new_biomass[part][filter]\n",
    "    ) / growdict[\"glucose_requirement\"][part]\n",
    "    new_biomass[part][filter] -= delta_respire[filter]\n",
    "    print(f'{part} - new')\n",
    "    print(new_biomass[part])\n",
    "    print(f'{part} - old')\n",
    "    print(epa[part])"
   ]
  },
  {
   "cell_type": "code",
   "execution_count": 12,
   "metadata": {},
   "outputs": [
    {
     "data": {
      "text/plain": [
       "{'leaf': 1.463, 'reproductive': 1.414, 'root': 1.444, 'stem': 1.513}"
      ]
     },
     "execution_count": 12,
     "metadata": {},
     "output_type": "execute_result"
    }
   ],
   "source": [
    "growdict[\"glucose_requirement\"]"
   ]
  },
  {
   "cell_type": "code",
   "execution_count": null,
   "metadata": {},
   "outputs": [],
   "source": [
    "epa_bad_values"
   ]
  },
  {
   "cell_type": "code",
   "execution_count": null,
   "metadata": {},
   "outputs": [],
   "source": [
    "epa_bad_values[\"dead_root\"][0] = -0.0125"
   ]
  },
  {
   "cell_type": "code",
   "execution_count": null,
   "metadata": {},
   "outputs": [],
   "source": [
    "epa_bad_values[\"dead_root\"]"
   ]
  },
  {
   "cell_type": "code",
   "execution_count": null,
   "metadata": {},
   "outputs": [],
   "source": [
    "epa_bad_values[\"dead_stem\"][1] = np.nan"
   ]
  },
  {
   "cell_type": "code",
   "execution_count": null,
   "metadata": {},
   "outputs": [],
   "source": [
    "epa_bad_values[\"dead_stem\"]"
   ]
  },
  {
   "cell_type": "code",
   "execution_count": null,
   "metadata": {},
   "outputs": [],
   "source": [
    "epa_bad_values[\"dead_leaf\"][2] = np.inf"
   ]
  },
  {
   "cell_type": "code",
   "execution_count": null,
   "metadata": {},
   "outputs": [],
   "source": [
    "epa_bad_values[\"dead_leaf\"]"
   ]
  },
  {
   "cell_type": "code",
   "execution_count": null,
   "metadata": {},
   "outputs": [],
   "source": [
    "s_class.litter_decomp(epa_bad_values)"
   ]
  },
  {
   "cell_type": "code",
   "execution_count": null,
   "metadata": {},
   "outputs": [],
   "source": [
    "epa"
   ]
  }
 ],
 "metadata": {
  "kernelspec": {
   "display_name": "landlab-dev",
   "language": "python",
   "name": "python3"
  },
  "language_info": {
   "codemirror_mode": {
    "name": "ipython",
    "version": 3
   },
   "file_extension": ".py",
   "mimetype": "text/x-python",
   "name": "python",
   "nbconvert_exporter": "python",
   "pygments_lexer": "ipython3",
   "version": "3.12.7"
  }
 },
 "nbformat": 4,
 "nbformat_minor": 2
}
