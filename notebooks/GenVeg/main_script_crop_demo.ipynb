{
 "cells": [
  {
   "cell_type": "markdown",
   "metadata": {},
   "source": [
    "# GenVeg Main Script\n",
    "GenVeg is a generalized vegetation growth model that simulates growth due to\n",
    "photosynthesis as well as processes that control vegetation distribution such\n",
    "as mortality, senescence, dispersal, and colonization. The model utilizes a \n",
    "mixture of existing and new landlab components to setup the model, simulates\n",
    "relevant vegetation community dynamics with the local environment, and analyzes\n",
    "results of the simulation. "
   ]
  },
  {
   "cell_type": "markdown",
   "metadata": {},
   "source": [
    "## Main model control set up\n",
    "### Import components"
   ]
  },
  {
   "cell_type": "code",
   "execution_count": 1,
   "metadata": {},
   "outputs": [],
   "source": [
    "import numpy as np, pandas as pd\n",
    "import os, tempfile\n",
    "from pathlib import Path\n",
    "from datetime import date\n",
    "from matplotlib.pyplot import title, show, figure, plot, subplot, xlabel, ylabel\n",
    "from landlab import RasterModelGrid, imshow_grid, load_params\n",
    "from landlab.data_record import DataRecord\n",
    "from landlab.components.genveg import VegParams, GenVeg\n",
    "from landlab.io.netcdf import write_netcdf, read_netcdf\n",
    "from scipy.io import netcdf_file"
   ]
  },
  {
   "cell_type": "markdown",
   "metadata": {},
   "source": [
    "### Define time controls"
   ]
  },
  {
   "cell_type": "code",
   "execution_count": 2,
   "metadata": {},
   "outputs": [],
   "source": [
    "sim_start_date = np.datetime64('2010-01-01')\n",
    "tot_sim_len_y = 30\n",
    "veg_time_step_d = 1\n",
    "env_time_step_d = 1\n",
    "dt=np.timedelta64(min([veg_time_step_d,env_time_step_d]),'D')\n",
    "run_length_d=365"
   ]
  },
  {
   "cell_type": "markdown",
   "metadata": {},
   "source": [
    "### Define filenames for input files\n",
    "##### *Note should be located in same folder as this .ipynb"
   ]
  },
  {
   "cell_type": "code",
   "execution_count": 3,
   "metadata": {},
   "outputs": [],
   "source": [
    "VegInputFile = 'GenVeg_Example_Simulation.xlsx'"
   ]
  },
  {
   "cell_type": "markdown",
   "metadata": {},
   "source": [
    "### Read in parameter and data input files\n",
    "Identify model processes to be included so all required parameters are defined and calculated"
   ]
  },
  {
   "cell_type": "code",
   "execution_count": 4,
   "metadata": {},
   "outputs": [
    {
     "name": "stdout",
     "output_type": "stream",
     "text": [
      "{'Corn': {'growparams': {'glucose_requirement': [1.444, 1.513, 1.463], 'growing_season_end': 243, 'growing_season_start': 121, 'k_light_extinct': 0.51, 'light_half_sat': 100, 'p_max': 0.0372, 'plant_part_min': [0.01, 0.1, 0.5], 'respiration_coefficient': [0.015, 0.015, 0.03], 'root_to_leaf_coeffs': [0.031, 0.951, 0], 'root_to_stem_coeffs': [-0.107, 1.098, 0.0216], 'senescence_start': 228}, 'plant_factors': {'angio_gymno': 'angiosperm', 'duration': 'annual', 'growth_form': 'single_stem', 'growth_habit': 'graminoid', 'leaf_retention': 'deciduous', 'monocot_dicot': 'monocot', 'p_type': 'C4', 'shape': 'erect', 'species': 'Corn'}, 'sizeparams': {'max_height_stem': 1.0, 'max_n_stems': 3.0, 'max_plant_density': 34.0, 'total_cs_area_stems': 0.231}}, 'Wheat': {'growparams': {'glucose_requirement': [1.444, 1.513, 1.463], 'growing_season_end': 305, 'growing_season_start': 144, 'k_light_extinct': 0.48, 'light_half_sat': 100, 'p_max': 0.05, 'plant_part_min': [0.01, 0.1, 0.5], 'respiration_coefficient': [0.015, 0.015, 0.03], 'root_to_leaf_coeffs': [0.031, 0.951, 0], 'root_to_stem_coeffs': [-0.107, 1.098, 0.0216], 'senescence_start': 273}, 'plant_factors': {'angio_gymno': 'angiosperm', 'duration': 'annual', 'growth_form': 'bunch', 'growth_habit': 'graminoid', 'leaf_retention': 'deciduous', 'monocot_dicot': 'monocot', 'p_type': 'C4', 'shape': 'erect', 'species': 'Wheat'}, 'sizeparams': {'max_height_stem': 1.0, 'max_n_stems': 3.0, 'max_plant_density': 34.0, 'total_cs_area_stems': 0.231}}}\n"
     ]
    }
   ],
   "source": [
    "inp_file=Path(VegInputFile).absolute()\n",
    "VegParams(fpath=inp_file,processes=['plantsize'])\n",
    "#VegParams(processes=['plantsize','dispersal','colonization','storage','mortality'])\n",
    "vegparams=load_params('veg_params.yml')\n",
    "print(vegparams)\n"
   ]
  },
  {
   "cell_type": "markdown",
   "metadata": {},
   "source": [
    "### Set up model grid using landlab RasterModelGrid functions\n",
    "\n",
    "- Create the model grid\n",
    "- Initialize live vegetation biomass and plant functional type\n",
    "- Initialize the air temperature driver across the grid\n",
    "\n",
    "##### **Note variable names should be consistent with landlab standards"
   ]
  },
  {
   "cell_type": "code",
   "execution_count": 5,
   "metadata": {},
   "outputs": [],
   "source": [
    "#Create grid 10x10 node grid with 2 m node spacing and xy of origin in lat long roughly corresponding to Island Beach State Park\n",
    "pg = RasterModelGrid((10, 10), 2.0, xy_of_reference=(-74.08,39.79))\n",
    "pg.axis_units = ('m', 'm')\n",
    "\n",
    "meantemp=[0.444444445,0.305555556,0.222222223,0.138888889,0.027777777,-0.083333334,-0.138888889,-0.25,-0.305555556,-0.416666667,-0.472222223,-0.527777778,-0.583333334,-0.638888889,-0.694444445,-0.75,-0.777777778,-0.805555556,-0.861111111,-0.861111111,-0.861111111,-0.888888889,-0.916666667,-0.916666667,-0.888888889,-0.861111111,-0.861111111,-0.833333333,-0.805555556,-0.777777778,-0.722222222,-0.666666667,-0.638888889,-0.583333333,-0.527777778,-0.472222222,-0.388888889,-0.333333334,-0.25,-0.166666667,-0.083333334,-0.027777777,0.083333334,0.166666667,0.277777778,0.361111111,0.472222222,0.583333333,0.666666667,0.777777778,0.888888889,1,1.083333334,1.194444445,1.305555556,1.416666667,1.527777778,1.611111111,1.694444445,1.805555556,1.916666667,2.027777778,2.138888889,2.25,2.333333334,2.444444445,2.555555556,2.638888889,2.75,2.861111111,2.944444445,3.055555556,3.166666667,3.25,3.361111112,3.444444445,3.555555556,3.694444445,3.777777778,3.888888889,4,4.083333334,4.222222223,4.333333334,4.444444445,4.583333334,4.694444445,4.833333333,4.944444444,5.083333334,5.222222223,5.333333334,5.5,5.638888889,5.777777778,5.916666667,6.083333334,6.222222222,6.38888889,6.555555554,6.722222222,6.88888889,7.055555554,7.222222222,7.38888889,7.555555554,7.722222222,7.88888889,8.083333334,8.250000002,8.444444443,8.638888891,8.805555555,8.972222223,9.166666666,9.333333335,9.527777778,9.694444446,9.888888887,10.08333334,10.25,10.44444444,10.61111111,10.77777778,10.97222222,11.13888889,11.27777778,11.47222222,11.63888889,11.80555556,11.97222222,12.16666667,12.33333333,12.47222222,12.63888889,12.80555555,13,13.16666667,13.33333333,13.47222222,13.63888889,13.80555556,13.97222222,14.13888889,14.33333334,14.47222222,14.63888889,14.80555556,14.97222222,15.16666667,15.33333334,15.5,15.66666667,15.86111112,16.02777778,16.22222222,16.38888889,16.58333334,16.75,16.91666667,17.13888889,17.30555556,17.47222223,17.66666667,17.86111112,18.02777778,18.22222223,18.38888889,18.58333334,18.75,18.91666667,19.08333334,19.27777778,19.41666667,19.58333334,19.75,19.91666667,20.08333334,20.19444445,20.36111112,20.47222223,20.63888889,20.75,20.86111112,20.97222223,21.08333334,21.19444445,21.30555556,21.38888889,21.47222223,21.55555556,21.61111111,21.69444445,21.75,21.80555556,21.83333334,21.88888889,21.94444445,21.94444445,22,22,22,22.02777778,22.02777778,22.02777778,22.02777778,22,22,21.97222222,21.97222222,21.91666667,21.91666667,21.86111111,21.86111111,21.80555556,21.75,21.72222222,21.66666667,21.61111111,21.58333334,21.52777778,21.47222223,21.41666667,21.36111112,21.30555556,21.25,21.16666667,21.11111111,21.05555556,20.97222222,20.91666667,20.83333333,20.75,20.69444445,20.58333334,20.5,20.44444445,20.33333334,20.25,20.13888889,20.05555556,19.94444444,19.80555556,19.69444445,19.58333334,19.44444445,19.33333334,19.19444445,19.08333334,18.91666667,18.80555556,18.63888889,18.5,18.33333333,18.19444445,18.02777778,17.86111111,17.69444445,17.52777778,17.36111111,17.19444445,16.97222223,16.80555556,16.61111112,16.44444445,16.25,16.08333334,15.88888889,15.66666667,15.47222222,15.30555556,15.11111112,14.91666667,14.72222222,14.55555556,14.36111111,14.13888889,13.94444444,13.77777778,13.58333333,13.41666667,13.22222222,13.05555555,12.88888889,12.72222222,12.52777778,12.36111111,12.19444444,12.02777778,11.88888889,11.72222222,11.55555556,11.38888889,11.25,11.08333333,10.91666667,10.77777778,10.63888889,10.5,10.33333334,10.19444444,10.05555556,9.916666666,9.750000002,9.611111112,9.472222221,9.361111111,9.194444442,9.055555557,8.916666666,8.777777776,8.611111112,8.472222222,8.333333331,8.194444446,8.027777777,7.888888887,7.750000001,7.583333333,7.444444442,7.277777779,7.138888889,6.97222222,6.805555555,6.638888891,6.500000001,6.333333332,6.166666669,6.027777778,5.861111111,5.694444445,5.527777778,5.361111111,5.194444445,5.027777778,4.861111111,4.694444445,4.527777778,4.361111111,4.194444445,4.027777778,3.861111111,3.722222222,3.555555556,3.388888889,3.222222222,3.083333334,2.916666667,2.75,2.611111112,2.444444445,2.305555556,2.138888889,2,1.833333333,1.722222222,1.555555556,1.416666667,1.305555556,1.166666667,1.027777778,0.888888889,0.777777778,0.666666667,0.555555556\n",
    "]\n",
    "dailyTotGlobRad=[22.3, 26.8, 32.2, 37.1, 40.0, 40.9, 40.4, 38.2, 33.9, 28.5, 23.3, 21.0]\n",
    "                \n",
    "#Initialize with a random mean air temperture \n",
    "_ = pg.add_field('air__temperature_C', meantemp[0]*np.ones(pg.number_of_cells), at='cell', units='C' )\n",
    "_ = pg.add_field('radiation__net_flux', dailyTotGlobRad[0]*np.ones(pg.number_of_cells), at='cell', units='W/m^2')\n"
   ]
  },
  {
   "cell_type": "markdown",
   "metadata": {},
   "source": [
    "Now we initialize plants. We can do this in multiple ways. Here we are going to seed two species in a grid with 1/2 occupied by Corn, 1/2 by wheat, at single and double planting densities, respectively"
   ]
  },
  {
   "cell_type": "code",
   "execution_count": 6,
   "metadata": {},
   "outputs": [],
   "source": [
    "#Initialize plant functional type as burial tolerant stabilizer or dune builder and randomly place on grid\n",
    "plant_species_init=['Corn','Wheat']\n",
    "plant_list_1=['Corn','null','null','null']\n",
    "plant_list_2=['null','null','Wheat','null']\n",
    "plant_list_3=['Corn','Corn','null','null']\n",
    "plant_list_4=['null','null','Wheat','Wheat']\n",
    "plant_lists=[plant_list_1,plant_list_2,plant_list_3, plant_list_4]\n",
    "plants_on_grid=[]\n",
    "length_field_part=pg.number_of_cells/4\n",
    "for plant_list in plant_lists:\n",
    "    for i in range(int(length_field_part)):\n",
    "        #if plants_on_grid.isempty\n",
    "        plants_on_grid.append(plant_list)\n",
    "\n",
    "_ = pg.add_field('vegetation__plant_species',plants_on_grid, at='cell', clobber=True)\n",
    "\n",
    "#occupied_ids=np.where(pg.at_cell['vegetation__plant_species']=='BTS')"
   ]
  },
  {
   "cell_type": "markdown",
   "metadata": {},
   "source": [
    "pidval=0\n",
    "plants=pd.DataFrame(columns=['pid','species','cell_index'])\n",
    "for cell in range(pg.number_of_cells):\n",
    "    cell_index=cell\n",
    "    cell_plants=pg['cell']['vegetation__plant_species'][cell]\n",
    "    for plant in cell_plants:\n",
    "        species=plant\n",
    "        newrow=[pidval,species,cell_index]\n",
    "        plants.loc[pidval]=newrow\n",
    "        pidval += 1\n",
    "\n",
    "pid=plants.pid.loc[plants['species']=='BTS'].to_numpy(int)\n",
    "total_biomass=np.random.rand(pid.shape[0])\n",
    "total_biomass2=np.random.rand(6)\n",
    "\n",
    "species_set=np.vstack((pid,total_biomass))\n",
    "species_set2=np.vstack((total_biomass2,total_biomass2))\n",
    "species_set=np.transpose(species_set)\n",
    "species_set2=np.transpose(species_set2)\n",
    "biomass=np.concatenate((species_set,species_set2), axis=0)\n",
    "print(biomass)\n",
    "biomass=np.transpose(biomass)\n",
    "print(biomass)"
   ]
  },
  {
   "cell_type": "markdown",
   "metadata": {},
   "source": [
    "### Plot grid with plant distribution and initial biomass\n",
    "\n",
    "Use RasterModelGrid plot functions to visualize initial model grid\n",
    "\n",
    "#### Vegetation type \n",
    "- 0=Bare\n",
    "- 1=Annual\n",
    "- 2=Herbaceous Perennial \n",
    "- 3=Woody Perennial"
   ]
  },
  {
   "cell_type": "markdown",
   "metadata": {},
   "source": [
    "### Define model time variables\n",
    "Determine basic model timestep and counter for model loop"
   ]
  },
  {
   "cell_type": "markdown",
   "metadata": {},
   "source": [
    "sim_end = date(sim_start_date.year+tot_sim_len_y,sim_start_date.month,sim_start_date.day)\n",
    "dt = min([veg_time_step_d,env_time_step_d])\n",
    "#data['dt']=dt\n",
    "day_freq = str(dt)+'D'\n",
    "date_counter = pd.date_range(start=sim_start_date,end=sim_end,freq=day_freq).strftime('%Y-%m-%d').tolist()\n",
    "step_counter=range(len(date_counter))\n",
    "model_counter=tuple(zip(step_counter,date_counter))"
   ]
  },
  {
   "cell_type": "markdown",
   "metadata": {},
   "source": [
    "Initialize crops PlantGrowth class with veg_params from Excel file"
   ]
  },
  {
   "cell_type": "code",
   "execution_count": 7,
   "metadata": {},
   "outputs": [],
   "source": [
    "croprun=GenVeg(pg,dt,sim_start_date,vegparams)\n",
    "\n",
    "\n"
   ]
  },
  {
   "cell_type": "code",
   "execution_count": 8,
   "metadata": {},
   "outputs": [
    {
     "name": "stdout",
     "output_type": "stream",
     "text": [
      "{'growparams': {'glucose_requirement': [1.444, 1.513, 1.463], 'growing_season_end': 305, 'growing_season_start': 144, 'k_light_extinct': 0.48, 'light_half_sat': 100, 'p_max': 0.05, 'plant_part_min': [0.01, 0.1, 0.5], 'respiration_coefficient': [0.015, 0.015, 0.03], 'root_to_leaf_coeffs': [0.031, 0.951, 0], 'root_to_stem_coeffs': [-0.107, 1.098, 0.0216], 'senescence_start': 273, 'init_biomass': [0.61, 1.22]}, 'plant_factors': {'angio_gymno': 'angiosperm', 'duration': 'annual', 'growth_form': 'bunch', 'growth_habit': 'graminoid', 'leaf_retention': 'deciduous', 'monocot_dicot': 'monocot', 'p_type': 'C4', 'shape': 'erect', 'species': 'Wheat'}, 'sizeparams': {'max_height_stem': 1.0, 'max_n_stems': 3.0, 'max_plant_density': 34.0, 'total_cs_area_stems': 0.231}}\n"
     ]
    }
   ],
   "source": [
    "print(croprun.check_species_params())"
   ]
  },
  {
   "cell_type": "code",
   "execution_count": 9,
   "metadata": {},
   "outputs": [
    {
     "data": {
      "image/png": "[encoded data removed]",
      "text/plain": [
       "<Figure size 640x480 with 2 Axes>"
      ]
     },
     "metadata": {},
     "output_type": "display_data"
    }
   ],
   "source": [
    "imshow_grid(pg, 'vegetation__total_biomass', at='cell', colorbar_label='Live biomass g')"
   ]
  },
  {
   "cell_type": "code",
   "execution_count": 10,
   "metadata": {},
   "outputs": [
    {
     "data": {
      "image/png": "[encoded data removed]",
      "text/plain": [
       "<Figure size 640x480 with 2 Axes>"
      ]
     },
     "metadata": {},
     "output_type": "display_data"
    }
   ],
   "source": [
    "imshow_grid(pg, 'vegetation__n_plants', at='cell', colorbar_label='number of plants')"
   ]
  },
  {
   "cell_type": "markdown",
   "metadata": {},
   "source": [
    "## Main model loop script\n",
    "This is the main model loop that controls the simulation that\n",
    "- Advances model time \n",
    "- Updates environmental variables\n",
    "- Simulates changes to vegetation communities\n",
    "- Stores outputs"
   ]
  },
  {
   "cell_type": "code",
   "execution_count": 11,
   "metadata": {},
   "outputs": [
    {
     "ename": "ValueError",
     "evalue": "no field of name senescence_start",
     "output_type": "error",
     "traceback": [
      "\u001b[1;31m---------------------------------------------------------------------------\u001b[0m",
      "\u001b[1;31mValueError\u001b[0m                                Traceback (most recent call last)",
      "Cell \u001b[1;32mIn [11], line 8\u001b[0m\n\u001b[0;32m      6\u001b[0m pg\u001b[39m.\u001b[39mat_cell[\u001b[39m'\u001b[39m\u001b[39mair__temperature_C\u001b[39m\u001b[39m'\u001b[39m]\u001b[39m=\u001b[39mnp\u001b[39m.\u001b[39mones(pg\u001b[39m.\u001b[39mnumber_of_cells)\u001b[39m*\u001b[39mmeantemp[i]\n\u001b[0;32m      7\u001b[0m \u001b[39m#update solar radiation on grid\u001b[39;00m\n\u001b[1;32m----> 8\u001b[0m croprun\u001b[39m.\u001b[39;49mrun_one_step()\n\u001b[0;32m     10\u001b[0m \u001b[39mif\u001b[39;00m (i\u001b[39m/\u001b[39m\u001b[39m28\u001b[39m)\u001b[39m.\u001b[39mis_integer():\n\u001b[0;32m     11\u001b[0m     croprun\u001b[39m.\u001b[39msave_output()\n",
      "File \u001b[1;32m~\\Desktop\\LandLab\\landlab\\landlab\\components\\genveg\\integrator.py:116\u001b[0m, in \u001b[0;36mGenVeg.run_one_step\u001b[1;34m(self)\u001b[0m\n\u001b[0;32m    114\u001b[0m tot_plant_all\u001b[39m=\u001b[39mnp\u001b[39m.\u001b[39mzeros_like(\u001b[39mself\u001b[39m\u001b[39m.\u001b[39m_grid\u001b[39m.\u001b[39mat_cell[\u001b[39m'\u001b[39m\u001b[39mvegetation__n_plants\u001b[39m\u001b[39m'\u001b[39m])\n\u001b[0;32m    115\u001b[0m \u001b[39mfor\u001b[39;00m species_obj \u001b[39min\u001b[39;00m \u001b[39mself\u001b[39m\u001b[39m.\u001b[39mplant_species:\n\u001b[1;32m--> 116\u001b[0m     species_obj\u001b[39m.\u001b[39;49m_grow(\u001b[39mself\u001b[39;49m\u001b[39m.\u001b[39;49mcurrent_day)\n\u001b[0;32m    117\u001b[0m     array_out\u001b[39m=\u001b[39mspecies_obj\u001b[39m.\u001b[39mspecies_plants()\n\u001b[0;32m    118\u001b[0m     tot_bio_species\u001b[39m=\u001b[39marray_out[\u001b[39m'\u001b[39m\u001b[39mroot_biomass\u001b[39m\u001b[39m'\u001b[39m]\u001b[39m+\u001b[39marray_out[\u001b[39m'\u001b[39m\u001b[39mleaf_biomass\u001b[39m\u001b[39m'\u001b[39m]\u001b[39m+\u001b[39marray_out[\u001b[39m'\u001b[39m\u001b[39mstem_biomass\u001b[39m\u001b[39m'\u001b[39m]\n",
      "File \u001b[1;32m~\\Desktop\\LandLab\\landlab\\landlab\\components\\genveg\\growth.py:287\u001b[0m, in \u001b[0;36mPlantGrowth._grow\u001b[1;34m(self, current_day)\u001b[0m\n\u001b[0;32m    285\u001b[0m \u001b[39mself\u001b[39m\u001b[39m.\u001b[39mplants[\u001b[39m'\u001b[39m\u001b[39mleaf_biomass\u001b[39m\u001b[39m'\u001b[39m]\u001b[39m=\u001b[39m_last_biomass[\u001b[39m'\u001b[39m\u001b[39mleaf_biomass\u001b[39m\u001b[39m'\u001b[39m]\u001b[39m+\u001b[39mdelta_leaf\n\u001b[0;32m    286\u001b[0m \u001b[39mself\u001b[39m\u001b[39m.\u001b[39mplants[\u001b[39m'\u001b[39m\u001b[39mstem_biomass\u001b[39m\u001b[39m'\u001b[39m]\u001b[39m=\u001b[39m_last_biomass[\u001b[39m'\u001b[39m\u001b[39mstem_biomass\u001b[39m\u001b[39m'\u001b[39m]\u001b[39m+\u001b[39mdelta_stem\n\u001b[1;32m--> 287\u001b[0m \u001b[39mself\u001b[39;49m\u001b[39m.\u001b[39;49mspecies\u001b[39m.\u001b[39;49menter_dormancy(growdict, \u001b[39mself\u001b[39;49m\u001b[39m.\u001b[39;49mplants)\n",
      "File \u001b[1;32m~\\Desktop\\LandLab\\landlab\\landlab\\components\\genveg\\species.py:157\u001b[0m, in \u001b[0;36mSpecies.enter_dormancy\u001b[1;34m(self, grow_params, current_day, plants)\u001b[0m\n\u001b[0;32m    155\u001b[0m \u001b[39mdef\u001b[39;00m \u001b[39menter_dormancy\u001b[39m(\u001b[39mself\u001b[39m, grow_params \u001b[39m=\u001b[39m {\u001b[39m'\u001b[39m\u001b[39msenescence_start\u001b[39m\u001b[39m'\u001b[39m:\u001b[39m270\u001b[39m,\u001b[39m'\u001b[39m\u001b[39mgrowing_season_end\u001b[39m\u001b[39m'\u001b[39m:\u001b[39m285\u001b[39m}, current_day\u001b[39m=\u001b[39m\u001b[39m0\u001b[39m, plants\u001b[39m=\u001b[39m(np\u001b[39m.\u001b[39mrecarray((\u001b[39m0\u001b[39m,),\n\u001b[0;32m    156\u001b[0m         dtype\u001b[39m=\u001b[39m[(\u001b[39m'\u001b[39m\u001b[39mspecies\u001b[39m\u001b[39m'\u001b[39m,\u001b[39m'\u001b[39m\u001b[39mU10\u001b[39m\u001b[39m'\u001b[39m),(\u001b[39m'\u001b[39m\u001b[39mpid\u001b[39m\u001b[39m'\u001b[39m,\u001b[39mint\u001b[39m),(\u001b[39m'\u001b[39m\u001b[39mcell_index\u001b[39m\u001b[39m'\u001b[39m,\u001b[39mint\u001b[39m),(\u001b[39m'\u001b[39m\u001b[39mroot_biomass\u001b[39m\u001b[39m'\u001b[39m,\u001b[39mfloat\u001b[39m),(\u001b[39m'\u001b[39m\u001b[39mleaf_biomass\u001b[39m\u001b[39m'\u001b[39m,\u001b[39mfloat\u001b[39m),(\u001b[39m'\u001b[39m\u001b[39mstem_biomass\u001b[39m\u001b[39m'\u001b[39m,\u001b[39mfloat\u001b[39m)]))):\n\u001b[1;32m--> 157\u001b[0m     \u001b[39mself\u001b[39;49m\u001b[39m.\u001b[39;49mhabit\u001b[39m.\u001b[39;49menter_dormancy(grow_params, current_day, plants)\n",
      "File \u001b[1;32m~\\Desktop\\LandLab\\landlab\\landlab\\components\\genveg\\habit.py:38\u001b[0m, in \u001b[0;36mGraminoid.enter_dormancy\u001b[1;34m(self, grow_params, current_day, plants)\u001b[0m\n\u001b[0;32m     36\u001b[0m \u001b[39mdef\u001b[39;00m \u001b[39menter_dormancy\u001b[39m(\u001b[39mself\u001b[39m, grow_params \u001b[39m=\u001b[39m {\u001b[39m'\u001b[39m\u001b[39msenescence_start\u001b[39m\u001b[39m'\u001b[39m:\u001b[39m270\u001b[39m,\u001b[39m'\u001b[39m\u001b[39mgrowing_season_end\u001b[39m\u001b[39m'\u001b[39m:\u001b[39m285\u001b[39m}, current_day\u001b[39m=\u001b[39m\u001b[39m0\u001b[39m, plants\u001b[39m=\u001b[39m(np\u001b[39m.\u001b[39mrecarray((\u001b[39m0\u001b[39m,),\n\u001b[0;32m     37\u001b[0m         dtype\u001b[39m=\u001b[39m[(\u001b[39m'\u001b[39m\u001b[39mspecies\u001b[39m\u001b[39m'\u001b[39m,\u001b[39m'\u001b[39m\u001b[39mU10\u001b[39m\u001b[39m'\u001b[39m),(\u001b[39m'\u001b[39m\u001b[39mpid\u001b[39m\u001b[39m'\u001b[39m,\u001b[39mint\u001b[39m),(\u001b[39m'\u001b[39m\u001b[39mcell_index\u001b[39m\u001b[39m'\u001b[39m,\u001b[39mint\u001b[39m),(\u001b[39m'\u001b[39m\u001b[39mroot_biomass\u001b[39m\u001b[39m'\u001b[39m,\u001b[39mfloat\u001b[39m),(\u001b[39m'\u001b[39m\u001b[39mleaf_biomass\u001b[39m\u001b[39m'\u001b[39m,\u001b[39mfloat\u001b[39m),(\u001b[39m'\u001b[39m\u001b[39mstem_biomass\u001b[39m\u001b[39m'\u001b[39m,\u001b[39mfloat\u001b[39m)]))):\n\u001b[1;32m---> 38\u001b[0m     \u001b[39mself\u001b[39;49m\u001b[39m.\u001b[39;49mduration\u001b[39m.\u001b[39;49menter_dormancy(grow_params, current_day,plants)\n",
      "File \u001b[1;32m~\\Desktop\\LandLab\\landlab\\landlab\\components\\genveg\\duration.py:17\u001b[0m, in \u001b[0;36mAnnual.enter_dormancy\u001b[1;34m(self, grow_params, current_day, plants)\u001b[0m\n\u001b[0;32m     14\u001b[0m \u001b[39mdef\u001b[39;00m \u001b[39menter_dormancy\u001b[39m(\u001b[39mself\u001b[39m, grow_params \u001b[39m=\u001b[39m {\u001b[39m'\u001b[39m\u001b[39msenescence_start\u001b[39m\u001b[39m'\u001b[39m:\u001b[39m270\u001b[39m,\u001b[39m'\u001b[39m\u001b[39mgrowing_season_end\u001b[39m\u001b[39m'\u001b[39m:\u001b[39m285\u001b[39m}, current_day\u001b[39m=\u001b[39m\u001b[39m0\u001b[39m, plants\u001b[39m=\u001b[39m(np\u001b[39m.\u001b[39mrecarray((\u001b[39m0\u001b[39m,),\n\u001b[0;32m     15\u001b[0m         dtype\u001b[39m=\u001b[39m[(\u001b[39m'\u001b[39m\u001b[39mspecies\u001b[39m\u001b[39m'\u001b[39m,\u001b[39m'\u001b[39m\u001b[39mU10\u001b[39m\u001b[39m'\u001b[39m),(\u001b[39m'\u001b[39m\u001b[39mpid\u001b[39m\u001b[39m'\u001b[39m,\u001b[39mint\u001b[39m),(\u001b[39m'\u001b[39m\u001b[39mcell_index\u001b[39m\u001b[39m'\u001b[39m,\u001b[39mint\u001b[39m),(\u001b[39m'\u001b[39m\u001b[39mroot_biomass\u001b[39m\u001b[39m'\u001b[39m,\u001b[39mfloat\u001b[39m),(\u001b[39m'\u001b[39m\u001b[39mleaf_biomass\u001b[39m\u001b[39m'\u001b[39m,\u001b[39mfloat\u001b[39m),(\u001b[39m'\u001b[39m\u001b[39mstem_biomass\u001b[39m\u001b[39m'\u001b[39m,\u001b[39mfloat\u001b[39m)]))):\n\u001b[0;32m     16\u001b[0m     \u001b[39m#on or after senescence_day, the plant needs to lost 2% of its daily biomass after calculating new total biomass\u001b[39;00m\n\u001b[1;32m---> 17\u001b[0m     \u001b[39mif\u001b[39;00m current_day \u001b[39m>\u001b[39m\u001b[39m=\u001b[39m grow_params[\u001b[39m'\u001b[39;49m\u001b[39msenescence_start\u001b[39;49m\u001b[39m'\u001b[39;49m] \u001b[39mand\u001b[39;00m current_day \u001b[39m<\u001b[39m grow_params[\u001b[39m'\u001b[39m\u001b[39mgrowing_season_end\u001b[39m\u001b[39m'\u001b[39m]:\n\u001b[0;32m     18\u001b[0m         plants[\u001b[39m'\u001b[39m\u001b[39mroot_biomass\u001b[39m\u001b[39m'\u001b[39m] \u001b[39m=\u001b[39m plants[\u001b[39m'\u001b[39m\u001b[39mroot_biomass\u001b[39m\u001b[39m'\u001b[39m] \u001b[39m-\u001b[39m (plants[\u001b[39m'\u001b[39m\u001b[39mroot_biomass\u001b[39m\u001b[39m'\u001b[39m]\u001b[39m*\u001b[39m\u001b[39m0.02\u001b[39m)\n\u001b[0;32m     19\u001b[0m         plants[\u001b[39m'\u001b[39m\u001b[39mleaf_biomass\u001b[39m\u001b[39m'\u001b[39m] \u001b[39m=\u001b[39m plants[\u001b[39m'\u001b[39m\u001b[39mleaf_biomass\u001b[39m\u001b[39m'\u001b[39m] \u001b[39m-\u001b[39m (plants[\u001b[39m'\u001b[39m\u001b[39mleaf_biomass\u001b[39m\u001b[39m'\u001b[39m] \u001b[39m*\u001b[39m \u001b[39m0.02\u001b[39m)\n",
      "File \u001b[1;32mc:\\Users\\RDEL1CMC\\Anaconda3\\envs\\landlab_dev\\lib\\site-packages\\numpy\\ma\\core.py:3222\u001b[0m, in \u001b[0;36mMaskedArray.__getitem__\u001b[1;34m(self, indx)\u001b[0m\n\u001b[0;32m   3212\u001b[0m \u001b[39m\"\"\"\u001b[39;00m\n\u001b[0;32m   3213\u001b[0m \u001b[39mx.__getitem__(y) <==> x[y]\u001b[39;00m\n\u001b[0;32m   3214\u001b[0m \n\u001b[0;32m   3215\u001b[0m \u001b[39mReturn the item described by i, as a masked array.\u001b[39;00m\n\u001b[0;32m   3216\u001b[0m \n\u001b[0;32m   3217\u001b[0m \u001b[39m\"\"\"\u001b[39;00m\n\u001b[0;32m   3218\u001b[0m \u001b[39m# We could directly use ndarray.__getitem__ on self.\u001b[39;00m\n\u001b[0;32m   3219\u001b[0m \u001b[39m# But then we would have to modify __array_finalize__ to prevent the\u001b[39;00m\n\u001b[0;32m   3220\u001b[0m \u001b[39m# mask of being reshaped if it hasn't been set up properly yet\u001b[39;00m\n\u001b[0;32m   3221\u001b[0m \u001b[39m# So it's easier to stick to the current version\u001b[39;00m\n\u001b[1;32m-> 3222\u001b[0m dout \u001b[39m=\u001b[39m \u001b[39mself\u001b[39;49m\u001b[39m.\u001b[39;49mdata[indx]\n\u001b[0;32m   3223\u001b[0m _mask \u001b[39m=\u001b[39m \u001b[39mself\u001b[39m\u001b[39m.\u001b[39m_mask\n\u001b[0;32m   3225\u001b[0m \u001b[39mdef\u001b[39;00m \u001b[39m_is_scalar\u001b[39m(m):\n",
      "\u001b[1;31mValueError\u001b[0m: no field of name senescence_start"
     ]
    }
   ],
   "source": [
    "#This runs through fine for day 1 of growing season. We need to decide how to track current day\n",
    "temp_dir = tempfile.mkdtemp()\n",
    "os.chdir(temp_dir)\n",
    "for i in range(run_length_d):\n",
    "    #update temp attribute on grid\n",
    "    pg.at_cell['air__temperature_C']=np.ones(pg.number_of_cells)*meantemp[i]\n",
    "    #update solar radiation on grid\n",
    "    croprun.run_one_step()\n",
    "    \n",
    "    if (i/28).is_integer():\n",
    "        croprun.save_output()\n",
    "        croprun.get_plant_output('Corn')\n",
    "        write_netcdf(\"crop.nc\",pg, format=\"NETCDF3_64BIT\",append=True, time=(croprun.current_day-croprun.start_date).astype(float)-1, names=['vegetation__total_biomass', 'vegetation__n_plants'])\n",
    "          #if this is a save timestep, save grid object to netcdf\n",
    "    #create record method in croprun that uses datarecord to save PlantGrowth object and grid at time\n",
    "    #if i in savetime:\n",
    "    #    croprun.record()"
   ]
  },
  {
   "cell_type": "code",
   "execution_count": null,
   "metadata": {},
   "outputs": [],
   "source": [
    "print(vegparams)"
   ]
  },
  {
   "cell_type": "code",
   "execution_count": null,
   "metadata": {},
   "outputs": [],
   "source": [
    "output=croprun.get_plant_output()"
   ]
  },
  {
   "cell_type": "code",
   "execution_count": null,
   "metadata": {},
   "outputs": [],
   "source": [
    "grid = netcdf_file('crop.nc', 'r')\n",
    "print(grid.__dict__)"
   ]
  },
  {
   "cell_type": "code",
   "execution_count": null,
   "metadata": {},
   "outputs": [],
   "source": [
    "timegrid=grid.variables['t']\n",
    "timegrid[:]"
   ]
  },
  {
   "cell_type": "code",
   "execution_count": null,
   "metadata": {},
   "outputs": [],
   "source": [
    "vegbio=grid.variables['vegetation__total_biomass']\n",
    "vegbio.shape"
   ]
  },
  {
   "cell_type": "code",
   "execution_count": null,
   "metadata": {},
   "outputs": [],
   "source": [
    "vegbio[10,:,:]"
   ]
  },
  {
   "cell_type": "code",
   "execution_count": null,
   "metadata": {},
   "outputs": [],
   "source": [
    "output.index.unique(level=2)"
   ]
  },
  {
   "cell_type": "code",
   "execution_count": null,
   "metadata": {},
   "outputs": [],
   "source": [
    "output.loc[:, 'Wheat',4] #timestep,species,plant number in []"
   ]
  },
  {
   "cell_type": "code",
   "execution_count": null,
   "metadata": {},
   "outputs": [],
   "source": [
    "output.loc[141.0]"
   ]
  },
  {
   "cell_type": "code",
   "execution_count": null,
   "metadata": {},
   "outputs": [],
   "source": [
    "biomass = output[\"vegetation__root_biomass\"].values\n",
    "display(biomass)\n"
   ]
  },
  {
   "cell_type": "code",
   "execution_count": null,
   "metadata": {},
   "outputs": [],
   "source": [
    "grid.close()"
   ]
  },
  {
   "cell_type": "code",
   "execution_count": null,
   "metadata": {},
   "outputs": [],
   "source": [
    "print((0/28).is_integer())"
   ]
  },
  {
   "cell_type": "code",
   "execution_count": null,
   "metadata": {},
   "outputs": [],
   "source": []
  }
 ],
 "metadata": {
  "kernelspec": {
   "display_name": "Python 3.10.6 ('landlab_dev')",
   "language": "python",
   "name": "python3"
  },
  "language_info": {
   "codemirror_mode": {
    "name": "ipython",
    "version": 3
   },
   "file_extension": ".py",
   "mimetype": "text/x-python",
   "name": "python",
   "nbconvert_exporter": "python",
   "pygments_lexer": "ipython3",
   "version": "3.10.6"
  },
  "orig_nbformat": 2,
  "vscode": {
   "interpreter": {
    "hash": "e2b2ed00aa7ded26fed57751888b2ef749388d3be4a0b26426a699c9c326ac32"
   }
  }
 },
 "nbformat": 4,
 "nbformat_minor": 2
}
