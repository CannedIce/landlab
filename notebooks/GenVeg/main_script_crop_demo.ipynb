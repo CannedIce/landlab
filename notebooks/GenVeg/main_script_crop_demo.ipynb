{
 "cells": [
  {
   "cell_type": "markdown",
   "metadata": {},
   "source": [
    "# GenVeg Main Script\n",
    "GenVeg is a generalized vegetation growth model that simulates growth due to\n",
    "photosynthesis as well as processes that control vegetation distribution such\n",
    "as mortality, senescence, dispersal, and colonization. The model utilizes a \n",
    "mixture of existing and new landlab components to setup the model, simulates\n",
    "relevant vegetation community dynamics with the local environment, and analyzes\n",
    "results of the simulation. "
   ]
  },
  {
   "cell_type": "markdown",
   "metadata": {},
   "source": [
    "## Main model control set up\n",
    "### Import components"
   ]
  },
  {
   "cell_type": "code",
   "execution_count": 1,
   "metadata": {},
   "outputs": [],
   "source": [
    "import numpy as np, pandas as pd\n",
    "import os, tempfile\n",
    "from pathlib import Path\n",
    "from datetime import date\n",
    "from matplotlib.pyplot import title, show, figure, plot, subplot, xlabel, ylabel\n",
    "from landlab import RasterModelGrid, imshow_grid, load_params\n",
    "from landlab.data_record import DataRecord\n",
    "from landlab.components.genveg import VegParams, GenVeg\n",
    "from landlab.io.netcdf import write_netcdf, read_netcdf\n",
    "from scipy.io import netcdf_file"
   ]
  },
  {
   "cell_type": "markdown",
   "metadata": {},
   "source": [
    "### Define time controls"
   ]
  },
  {
   "cell_type": "code",
   "execution_count": 2,
   "metadata": {},
   "outputs": [],
   "source": [
    "sim_start_date = np.datetime64('2010-01-01')\n",
    "tot_sim_len_y = 30\n",
    "veg_time_step_d = 1\n",
    "env_time_step_d = 1\n",
    "dt=np.timedelta64(min([veg_time_step_d,env_time_step_d]),'D')\n",
    "run_length_d=365"
   ]
  },
  {
   "cell_type": "markdown",
   "metadata": {},
   "source": [
    "### Define filenames for input files\n",
    "##### *Note should be located in same folder as this .ipynb"
   ]
  },
  {
   "cell_type": "code",
   "execution_count": 3,
   "metadata": {},
   "outputs": [],
   "source": [
    "VegInputFile = 'GenVeg_Example_Simulation.xlsx'"
   ]
  },
  {
   "cell_type": "markdown",
   "metadata": {},
   "source": [
    "### Read in parameter and data input files\n",
    "Identify model processes to be included so all required parameters are defined and calculated"
   ]
  },
  {
   "cell_type": "code",
   "execution_count": 4,
   "metadata": {},
   "outputs": [
    {
     "ename": "KeyError",
     "evalue": "'angio_gymno'",
     "output_type": "error",
     "traceback": [
      "\u001b[1;31m---------------------------------------------------------------------------\u001b[0m",
      "\u001b[1;31mKeyError\u001b[0m                                  Traceback (most recent call last)",
      "Cell \u001b[1;32mIn[4], line 2\u001b[0m\n\u001b[0;32m      1\u001b[0m inp_file\u001b[39m=\u001b[39mPath(VegInputFile)\u001b[39m.\u001b[39mabsolute()\n\u001b[1;32m----> 2\u001b[0m VegParams(fpath\u001b[39m=\u001b[39;49minp_file,processes\u001b[39m=\u001b[39;49m[\u001b[39m'\u001b[39;49m\u001b[39mplantsize\u001b[39;49m\u001b[39m'\u001b[39;49m,\u001b[39m'\u001b[39;49m\u001b[39mdispersal\u001b[39;49m\u001b[39m'\u001b[39;49m,\u001b[39m'\u001b[39;49m\u001b[39mmortality\u001b[39;49m\u001b[39m'\u001b[39;49m])\n\u001b[0;32m      3\u001b[0m \u001b[39m#VegParams(processes=['plantsize','dispersal','colonization','storage','mortality'])\u001b[39;00m\n\u001b[0;32m      4\u001b[0m vegparams\u001b[39m=\u001b[39mload_params(\u001b[39m'\u001b[39m\u001b[39mveg_params.yml\u001b[39m\u001b[39m'\u001b[39m)\n",
      "File \u001b[1;32mD:\\Python\\landlab\\landlab\\components\\genveg\\load_veg_params.py:128\u001b[0m, in \u001b[0;36mVegParams.__init__\u001b[1;34m(self, fpath, outfile, processes, vegparams)\u001b[0m\n\u001b[0;32m    116\u001b[0m \u001b[39m#Define plant factor keys and create plant factor dictionary\u001b[39;00m\n\u001b[0;32m    117\u001b[0m factor_keys\u001b[39m=\u001b[39m[\n\u001b[0;32m    118\u001b[0m     \u001b[39m'\u001b[39m\u001b[39mspecies\u001b[39m\u001b[39m'\u001b[39m,\n\u001b[0;32m    119\u001b[0m     \u001b[39m'\u001b[39m\u001b[39mgrowth_habit\u001b[39m\u001b[39m'\u001b[39m,\n\u001b[1;32m   (...)\u001b[0m\n\u001b[0;32m    126\u001b[0m     \u001b[39m'\u001b[39m\u001b[39mp_type\u001b[39m\u001b[39m'\u001b[39m\n\u001b[0;32m    127\u001b[0m ]\n\u001b[1;32m--> 128\u001b[0m factor\u001b[39m=\u001b[39m\u001b[39mself\u001b[39;49m\u001b[39m.\u001b[39;49m_makedict(df_in, factor_keys, \u001b[39m'\u001b[39;49m\u001b[39mplant_factors\u001b[39;49m\u001b[39m'\u001b[39;49m)    \n\u001b[0;32m    130\u001b[0m duration_keys\u001b[39m=\u001b[39m[\n\u001b[0;32m    131\u001b[0m     \u001b[39m'\u001b[39m\u001b[39mgrowing_season_start\u001b[39m\u001b[39m'\u001b[39m,\n\u001b[0;32m    132\u001b[0m     \u001b[39m'\u001b[39m\u001b[39mgrowing_season_end\u001b[39m\u001b[39m'\u001b[39m,\n\u001b[0;32m    133\u001b[0m     \u001b[39m'\u001b[39m\u001b[39msenescence_start\u001b[39m\u001b[39m'\u001b[39m,\n\u001b[0;32m    134\u001b[0m ]\n\u001b[0;32m    135\u001b[0m duration\u001b[39m=\u001b[39m\u001b[39mself\u001b[39m\u001b[39m.\u001b[39m_makedict(df_in, duration_keys,\u001b[39m'\u001b[39m\u001b[39mduration_params\u001b[39m\u001b[39m'\u001b[39m)\n",
      "File \u001b[1;32mD:\\Python\\landlab\\landlab\\components\\genveg\\load_veg_params.py:280\u001b[0m, in \u001b[0;36mVegParams._makedict\u001b[1;34m(self, df, keys, name)\u001b[0m\n\u001b[0;32m    278\u001b[0m \u001b[39mfor\u001b[39;00m var \u001b[39min\u001b[39;00m var_names:\n\u001b[0;32m    279\u001b[0m     temp_dict[var]\u001b[39m=\u001b[39m{}\n\u001b[1;32m--> 280\u001b[0m     group_df_xs\u001b[39m=\u001b[39mgroup_df\u001b[39m.\u001b[39;49mxs(var)\n\u001b[0;32m    281\u001b[0m     sub_dict_vars\u001b[39m=\u001b[39mgroup_df_xs\u001b[39m.\u001b[39mindex\u001b[39m.\u001b[39mvalues\n\u001b[0;32m    282\u001b[0m     \u001b[39mfor\u001b[39;00m sub_var \u001b[39min\u001b[39;00m sub_dict_vars:\n",
      "File \u001b[1;32mc:\\Users\\RDEL1CDP\\Anaconda3\\envs\\landlab_dev\\lib\\site-packages\\pandas\\core\\generic.py:4049\u001b[0m, in \u001b[0;36mNDFrame.xs\u001b[1;34m(self, key, axis, level, drop_level)\u001b[0m\n\u001b[0;32m   4046\u001b[0m \u001b[39mself\u001b[39m\u001b[39m.\u001b[39m_consolidate_inplace()\n\u001b[0;32m   4048\u001b[0m \u001b[39mif\u001b[39;00m \u001b[39misinstance\u001b[39m(index, MultiIndex):\n\u001b[1;32m-> 4049\u001b[0m     loc, new_index \u001b[39m=\u001b[39m index\u001b[39m.\u001b[39;49m_get_loc_level(key, level\u001b[39m=\u001b[39;49m\u001b[39m0\u001b[39;49m)\n\u001b[0;32m   4050\u001b[0m     \u001b[39mif\u001b[39;00m \u001b[39mnot\u001b[39;00m drop_level:\n\u001b[0;32m   4051\u001b[0m         \u001b[39mif\u001b[39;00m lib\u001b[39m.\u001b[39mis_integer(loc):\n",
      "File \u001b[1;32mc:\\Users\\RDEL1CDP\\Anaconda3\\envs\\landlab_dev\\lib\\site-packages\\pandas\\core\\indexes\\multi.py:3160\u001b[0m, in \u001b[0;36mMultiIndex._get_loc_level\u001b[1;34m(self, key, level)\u001b[0m\n\u001b[0;32m   3158\u001b[0m         \u001b[39mreturn\u001b[39;00m indexer, maybe_mi_droplevels(indexer, ilevels)\n\u001b[0;32m   3159\u001b[0m \u001b[39melse\u001b[39;00m:\n\u001b[1;32m-> 3160\u001b[0m     indexer \u001b[39m=\u001b[39m \u001b[39mself\u001b[39;49m\u001b[39m.\u001b[39;49m_get_level_indexer(key, level\u001b[39m=\u001b[39;49mlevel)\n\u001b[0;32m   3161\u001b[0m     \u001b[39mif\u001b[39;00m (\n\u001b[0;32m   3162\u001b[0m         \u001b[39misinstance\u001b[39m(key, \u001b[39mstr\u001b[39m)\n\u001b[0;32m   3163\u001b[0m         \u001b[39mand\u001b[39;00m \u001b[39mself\u001b[39m\u001b[39m.\u001b[39mlevels[level]\u001b[39m.\u001b[39m_supports_partial_string_indexing\n\u001b[0;32m   3164\u001b[0m     ):\n\u001b[0;32m   3165\u001b[0m         \u001b[39m# check to see if we did an exact lookup vs sliced\u001b[39;00m\n\u001b[0;32m   3166\u001b[0m         check \u001b[39m=\u001b[39m \u001b[39mself\u001b[39m\u001b[39m.\u001b[39mlevels[level]\u001b[39m.\u001b[39mget_loc(key)\n",
      "File \u001b[1;32mc:\\Users\\RDEL1CDP\\Anaconda3\\envs\\landlab_dev\\lib\\site-packages\\pandas\\core\\indexes\\multi.py:3290\u001b[0m, in \u001b[0;36mMultiIndex._get_level_indexer\u001b[1;34m(self, key, level, indexer)\u001b[0m\n\u001b[0;32m   3286\u001b[0m     end \u001b[39m=\u001b[39m algos\u001b[39m.\u001b[39msearchsorted(level_codes, idx, side\u001b[39m=\u001b[39m\u001b[39m\"\u001b[39m\u001b[39mright\u001b[39m\u001b[39m\"\u001b[39m)\n\u001b[0;32m   3288\u001b[0m \u001b[39mif\u001b[39;00m start \u001b[39m==\u001b[39m end:\n\u001b[0;32m   3289\u001b[0m     \u001b[39m# The label is present in self.levels[level] but unused:\u001b[39;00m\n\u001b[1;32m-> 3290\u001b[0m     \u001b[39mraise\u001b[39;00m \u001b[39mKeyError\u001b[39;00m(key)\n\u001b[0;32m   3291\u001b[0m \u001b[39mreturn\u001b[39;00m \u001b[39mslice\u001b[39m(start, end)\n",
      "\u001b[1;31mKeyError\u001b[0m: 'angio_gymno'"
     ]
    }
   ],
   "source": [
    "inp_file=Path(VegInputFile).absolute()\n",
    "VegParams(fpath=inp_file,processes=['plantsize','dispersal','mortality'])\n",
    "#VegParams(processes=['plantsize','dispersal','colonization','storage','mortality'])\n",
    "vegparams=load_params('veg_params.yml')\n",
    "print(vegparams)\n"
   ]
  },
  {
   "cell_type": "markdown",
   "metadata": {},
   "source": [
    "### Set up model grid using landlab RasterModelGrid functions\n",
    "\n",
    "- Create the model grid\n",
    "- Initialize live vegetation biomass and plant functional type\n",
    "- Initialize the air temperature driver across the grid\n",
    "\n",
    "##### **Note variable names should be consistent with landlab standards"
   ]
  },
  {
   "cell_type": "code",
   "execution_count": null,
   "metadata": {},
   "outputs": [],
   "source": [
    "#Create grid 10x10 node grid with 2 m node spacing and xy of origin in lat long roughly corresponding to Island Beach State Park\n",
    "pg = RasterModelGrid((6, 6), 2.0, xy_of_reference=(-74.08,39.79))\n",
    "pg.axis_units = ('m', 'm')\n",
    "\n",
    "meantemp=[-0.20,  0.87,  4.40,  9.81,  15.36,  20.64,  23.86,  23.33, 19.95, 13.80,  7.85,  2.77, 11.93]\n",
    "dailyTotGlobRad=[22.3, 26.8, 32.2, 37.1, 40.0, 40.9, 40.4, 38.2, 33.9, 28.5, 23.3, 21.0]\n",
    "NJ_avg_par=[36.38, 52.39, 70.82, 92.88, 105.00, 116.38, 118.75, 103.21, 84.41, 59.15, 42.18, 31.98, 76.22]                \n",
    "#Initialize with a random mean air temperture \n",
    "_ = pg.add_field('air__temperature_C', meantemp[0]*np.ones(pg.number_of_cells), at='cell', units='C' )\n",
    "_ = pg.add_field('radiation__par_tot', NJ_avg_par[0]*np.ones(pg.number_of_cells), at='cell', units='W/m^2')\n"
   ]
  },
  {
   "cell_type": "markdown",
   "metadata": {},
   "source": [
    "Now we initialize plants. We can do this in multiple ways. Here we are going to seed two species in a grid with 1/2 occupied by Corn, 1/2 by wheat, at single and double planting densities, respectively"
   ]
  },
  {
   "cell_type": "code",
   "execution_count": null,
   "metadata": {},
   "outputs": [],
   "source": [
    "#Initialize plant functional type as burial tolerant stabilizer or dune builder and randomly place on grid\n",
    "plant_species_init=['Corn','Wheat']\n",
    "plant_list_1=['Corn','null','null','null']\n",
    "plant_list_2=['null','null','Wheat','null']\n",
    "plant_list_3=['Corn','Corn','null','null']\n",
    "plant_list_4=['null','null','Wheat','Wheat']\n",
    "plant_lists=[plant_list_1,plant_list_2,plant_list_3, plant_list_4]\n",
    "plants_on_grid=[]\n",
    "length_field_part=pg.number_of_cells/4\n",
    "for plant_list in plant_lists:\n",
    "    for i in range(int(length_field_part)):\n",
    "        #if plants_on_grid.isempty\n",
    "        plants_on_grid.append(plant_list)\n",
    "\n",
    "_ = pg.add_field('vegetation__plant_species',plants_on_grid, at='cell', clobber=True)\n",
    "\n",
    "#occupied_ids=np.where(pg.at_cell['vegetation__plant_species']=='BTS')"
   ]
  },
  {
   "cell_type": "markdown",
   "metadata": {},
   "source": [
    "pidval=0\n",
    "plants=pd.DataFrame(columns=['pid','species','cell_index'])\n",
    "for cell in range(pg.number_of_cells):\n",
    "    cell_index=cell\n",
    "    cell_plants=pg['cell']['vegetation__plant_species'][cell]\n",
    "    for plant in cell_plants:\n",
    "        species=plant\n",
    "        newrow=[pidval,species,cell_index]\n",
    "        plants.loc[pidval]=newrow\n",
    "        pidval += 1\n",
    "\n",
    "pid=plants.pid.loc[plants['species']=='BTS'].to_numpy(int)\n",
    "total_biomass=np.random.rand(pid.shape[0])\n",
    "total_biomass2=np.random.rand(6)\n",
    "\n",
    "species_set=np.vstack((pid,total_biomass))\n",
    "species_set2=np.vstack((total_biomass2,total_biomass2))\n",
    "species_set=np.transpose(species_set)\n",
    "species_set2=np.transpose(species_set2)\n",
    "biomass=np.concatenate((species_set,species_set2), axis=0)\n",
    "print(biomass)\n",
    "biomass=np.transpose(biomass)\n",
    "print(biomass)"
   ]
  },
  {
   "cell_type": "markdown",
   "metadata": {},
   "source": [
    "### Plot grid with plant distribution and initial biomass\n",
    "\n",
    "Use RasterModelGrid plot functions to visualize initial model grid\n",
    "\n",
    "#### Vegetation type \n",
    "- 0=Bare\n",
    "- 1=Annual\n",
    "- 2=Herbaceous Perennial \n",
    "- 3=Woody Perennial"
   ]
  },
  {
   "cell_type": "markdown",
   "metadata": {},
   "source": [
    "### Define model time variables\n",
    "Determine basic model timestep and counter for model loop"
   ]
  },
  {
   "cell_type": "markdown",
   "metadata": {},
   "source": [
    "sim_end = date(sim_start_date.year+tot_sim_len_y,sim_start_date.month,sim_start_date.day)\n",
    "dt = min([veg_time_step_d,env_time_step_d])\n",
    "#data['dt']=dt\n",
    "day_freq = str(dt)+'D'\n",
    "date_counter = pd.date_range(start=sim_start_date,end=sim_end,freq=day_freq).strftime('%Y-%m-%d').tolist()\n",
    "step_counter=range(len(date_counter))\n",
    "model_counter=tuple(zip(step_counter,date_counter))"
   ]
  },
  {
   "cell_type": "markdown",
   "metadata": {},
   "source": [
    "Initialize crops PlantGrowth class with veg_params from Excel file"
   ]
  },
  {
   "cell_type": "code",
   "execution_count": null,
   "metadata": {},
   "outputs": [],
   "source": [
    "croprun=GenVeg(pg,dt,sim_start_date,vegparams)"
   ]
  },
  {
   "cell_type": "code",
   "execution_count": null,
   "metadata": {},
   "outputs": [],
   "source": [
    "imshow_grid(pg, 'vegetation__total_biomass', at='cell', colorbar_label='Live biomass g')"
   ]
  },
  {
   "cell_type": "code",
   "execution_count": null,
   "metadata": {},
   "outputs": [],
   "source": [
    "imshow_grid(pg, 'vegetation__n_plants', at='cell', colorbar_label='number of plants')"
   ]
  },
  {
   "cell_type": "markdown",
   "metadata": {},
   "source": [
    "## Main model loop script\n",
    "This is the main model loop that controls the simulation that\n",
    "- Advances model time \n",
    "- Updates environmental variables\n",
    "- Simulates changes to vegetation communities\n",
    "- Stores outputs"
   ]
  },
  {
   "cell_type": "code",
   "execution_count": null,
   "metadata": {},
   "outputs": [],
   "source": [
    "#This runs through fine for day 1 of growing season. We need to decide how to track current day\n",
    "temp_dir = tempfile.mkdtemp()\n",
    "os.chdir(temp_dir)\n",
    "j=-1\n",
    "for i in range(run_length_d):\n",
    "    #update temp attribute on grid\n",
    "    if (i/30).is_integer():\n",
    "        pg.at_cell['air__temperature_C']= meantemp[j+1]*np.ones(pg.number_of_cells)\n",
    "        pg.at_cell['radiation__par_tot']= NJ_avg_par[j+1]*np.ones(pg.number_of_cells)\n",
    "        j+=1\n",
    "    #update solar radiation on grid\n",
    "    croprun.run_one_step()\n",
    "    \n",
    "    if (i/7).is_integer():\n",
    "        croprun.save_output()\n",
    "        croprun.get_plant_output('Corn')\n",
    "        write_netcdf(\"crop.nc\",pg, format=\"NETCDF3_64BIT\",append=True, time=(croprun.current_day-croprun.start_date).astype(float)-1, names=['vegetation__total_biomass', 'vegetation__n_plants'])\n",
    "\n",
    "          #if this is a save timestep, save grid object to netcdf\n",
    "    #create record method in croprun that uses datarecord to save PlantGrowth object and grid at time\n",
    "    #if i in savetime:\n",
    "    #    croprun.record()"
   ]
  },
  {
   "cell_type": "code",
   "execution_count": null,
   "metadata": {},
   "outputs": [],
   "source": [
    "print(vegparams)"
   ]
  },
  {
   "cell_type": "code",
   "execution_count": null,
   "metadata": {},
   "outputs": [],
   "source": [
    "output=croprun.get_plant_output()"
   ]
  },
  {
   "cell_type": "markdown",
   "metadata": {},
   "source": [
    "grid = netcdf_file('crop.nc', 'r')\n",
    "print(grid.__dict__)"
   ]
  },
  {
   "cell_type": "markdown",
   "metadata": {},
   "source": [
    "timegrid=grid.variables['t']\n",
    "timegrid[:]"
   ]
  },
  {
   "cell_type": "markdown",
   "metadata": {},
   "source": [
    "vegbio=grid.variables['vegetation__total_biomass']\n",
    "vegbio.shape"
   ]
  },
  {
   "cell_type": "markdown",
   "metadata": {},
   "source": [
    "vegbio[10,:,:]"
   ]
  },
  {
   "cell_type": "code",
   "execution_count": null,
   "metadata": {},
   "outputs": [],
   "source": [
    "output.index.unique(level=2)"
   ]
  },
  {
   "cell_type": "code",
   "execution_count": null,
   "metadata": {},
   "outputs": [],
   "source": [
    "output.loc[:, 'Wheat',6] #timestep,species,plant number in []"
   ]
  },
  {
   "cell_type": "markdown",
   "metadata": {},
   "source": [
    "output.loc[21.0]"
   ]
  },
  {
   "cell_type": "code",
   "execution_count": null,
   "metadata": {},
   "outputs": [],
   "source": [
    "biomass = output[\"vegetation__root_biomass\"].values\n",
    "display(biomass)\n"
   ]
  },
  {
   "cell_type": "markdown",
   "metadata": {},
   "source": [
    "grid.close()"
   ]
  }
 ],
 "metadata": {
  "kernelspec": {
   "display_name": "landlab_dev",
   "language": "python",
   "name": "python3"
  },
  "language_info": {
   "codemirror_mode": {
    "name": "ipython",
    "version": 3
   },
   "file_extension": ".py",
   "mimetype": "text/x-python",
   "name": "python",
   "nbconvert_exporter": "python",
   "pygments_lexer": "ipython3",
   "version": "3.10.8"
  },
  "orig_nbformat": 2,
  "vscode": {
   "interpreter": {
    "hash": "a659767ac5a0dd5bf47687479e1b9a209e1b684434a4e040a1819f789cf57b87"
   }
  }
 },
 "nbformat": 4,
 "nbformat_minor": 2
}
