{
 "cells": [
  {
   "cell_type": "markdown",
   "metadata": {},
   "source": [
    "# GenVeg Main Script\n",
    "GenVeg is a generalized vegetation growth model that simulates growth due to\n",
    "photosynthesis as well as processes that control vegetation distribution such\n",
    "as mortality, senescence, dispersal, and colonization. The model utilizes a \n",
    "mixture of existing and new landlab components to setup the model, simulates\n",
    "relevant vegetation community dynamics with the local environment, and analyzes\n",
    "results of the simulation. "
   ]
  },
  {
   "cell_type": "markdown",
   "metadata": {},
   "source": [
    "## Main model control set up\n",
    "### Import components"
   ]
  },
  {
   "cell_type": "code",
   "execution_count": 1,
   "metadata": {},
   "outputs": [],
   "source": [
    "import numpy as np, pandas as pd\n",
    "import os, tempfile\n",
    "from pathlib import Path\n",
    "from datetime import date\n",
    "from matplotlib.pyplot import title, show, figure, plot, subplot, xlabel, ylabel\n",
    "from landlab import RasterModelGrid, imshow_grid, load_params\n",
    "from landlab.data_record import DataRecord\n",
    "from landlab.components.genveg import VegParams, GenVeg\n",
    "from landlab.io.netcdf import write_netcdf, read_netcdf\n",
    "from scipy.io import netcdf_file"
   ]
  },
  {
   "cell_type": "markdown",
   "metadata": {},
   "source": [
    "### Define time controls"
   ]
  },
  {
   "cell_type": "code",
   "execution_count": 2,
   "metadata": {},
   "outputs": [],
   "source": [
    "sim_start_date = np.datetime64('2010-01-01')\n",
    "tot_sim_len_y = 30\n",
    "veg_time_step_d = 1\n",
    "env_time_step_d = 1\n",
    "dt=np.timedelta64(min([veg_time_step_d,env_time_step_d]),'D')\n",
    "run_length_d=365"
   ]
  },
  {
   "cell_type": "markdown",
   "metadata": {},
   "source": [
    "### Define filenames for input files\n",
    "##### *Note should be located in same folder as this .ipynb"
   ]
  },
  {
   "cell_type": "code",
   "execution_count": 3,
   "metadata": {},
   "outputs": [],
   "source": [
    "VegInputFile = 'GenVeg_Example_Simulation.xlsx'"
   ]
  },
  {
   "cell_type": "markdown",
   "metadata": {},
   "source": [
    "### Read in parameter and data input files\n",
    "Identify model processes to be included so all required parameters are defined and calculated"
   ]
  },
  {
   "cell_type": "code",
   "execution_count": 4,
   "metadata": {},
   "outputs": [
    {
     "name": "stdout",
     "output_type": "stream",
     "text": [
      "{'Corn': {'duration_params': {'growing_season_end': 243, 'growing_season_start': 121, 'senescence_start': 228}, 'grow_params': {'glucose_requirement': [1.444, 1.513, 1.463], 'k_light_extinct': 0.51, 'light_half_sat': 100, 'p_max': 0.0372, 'plant_part_min': [0.01, 0.1, 0.5], 'respiration_coefficient': [0.015, 0.015, 0.03], 'root_to_leaf_coeffs': [0.031, 0.951, 0], 'root_to_stem_coeffs': [-0.107, 1.098, 0.0216]}, 'plant_factors': {'angio_gymno': 'angiosperm', 'duration': 'annual', 'growth_form': 'single_stem', 'growth_habit': 'graminoid', 'leaf_retention': 'deciduous', 'monocot_dicot': 'monocot', 'p_type': 'C4', 'shape': 'erect', 'species': 'Corn'}, 'size_params': {'max_height_stem': 1.0, 'max_n_stems': 3.0, 'max_plant_density': 34.0, 'total_cs_area_stems': 0.231}}, 'Wheat': {'duration_params': {'growing_season_end': 305, 'growing_season_start': 144, 'senescence_start': 273}, 'grow_params': {'glucose_requirement': [1.444, 1.513, 1.463], 'k_light_extinct': 0.48, 'light_half_sat': 100, 'p_max': 0.05, 'plant_part_min': [0.01, 0.1, 0.5], 'respiration_coefficient': [0.015, 0.015, 0.03], 'root_to_leaf_coeffs': [0.031, 0.951, 0], 'root_to_stem_coeffs': [-0.107, 1.098, 0.0216]}, 'plant_factors': {'angio_gymno': 'angiosperm', 'duration': 'annual', 'growth_form': 'bunch', 'growth_habit': 'graminoid', 'leaf_retention': 'deciduous', 'monocot_dicot': 'monocot', 'p_type': 'C4', 'shape': 'erect', 'species': 'Wheat'}, 'size_params': {'max_height_stem': 1.0, 'max_n_stems': 3.0, 'max_plant_density': 34.0, 'total_cs_area_stems': 0.231}}}\n"
     ]
    }
   ],
   "source": [
    "inp_file=Path(VegInputFile).absolute()\n",
    "VegParams(fpath=inp_file,processes=['plantsize'])\n",
    "#VegParams(processes=['plantsize','dispersal','colonization','storage','mortality'])\n",
    "vegparams=load_params('veg_params.yml')\n",
    "print(vegparams)\n"
   ]
  },
  {
   "cell_type": "markdown",
   "metadata": {},
   "source": [
    "### Set up model grid using landlab RasterModelGrid functions\n",
    "\n",
    "- Create the model grid\n",
    "- Initialize live vegetation biomass and plant functional type\n",
    "- Initialize the air temperature driver across the grid\n",
    "\n",
    "##### **Note variable names should be consistent with landlab standards"
   ]
  },
  {
   "cell_type": "code",
   "execution_count": 5,
   "metadata": {},
   "outputs": [],
   "source": [
    "#Create grid 10x10 node grid with 2 m node spacing and xy of origin in lat long roughly corresponding to Island Beach State Park\n",
    "pg = RasterModelGrid((6, 6), 2.0, xy_of_reference=(-74.08,39.79))\n",
    "pg.axis_units = ('m', 'm')\n",
    "\n",
    "meantemp=[-0.20,  0.87,  4.40,  9.81,  15.36,  20.64,  23.86,  23.33, 19.95, 13.80,  7.85,  2.77, 11.93]\n",
    "dailyTotGlobRad=[22.3, 26.8, 32.2, 37.1, 40.0, 40.9, 40.4, 38.2, 33.9, 28.5, 23.3, 21.0]\n",
    "NJ_avg_par=[36.38, 52.39, 70.82, 92.88, 105.00, 116.38, 118.75, 103.21, 84.41, 59.15, 42.18, 31.98, 76.22]                \n",
    "#Initialize with a random mean air temperture \n",
    "_ = pg.add_field('air__temperature_C', meantemp[0]*np.ones(pg.number_of_cells), at='cell', units='C' )\n",
    "_ = pg.add_field('radiation__par_tot', NJ_avg_par[0]*np.ones(pg.number_of_cells), at='cell', units='W/m^2')\n"
   ]
  },
  {
   "cell_type": "markdown",
   "metadata": {},
   "source": [
    "Now we initialize plants. We can do this in multiple ways. Here we are going to seed two species in a grid with 1/2 occupied by Corn, 1/2 by wheat, at single and double planting densities, respectively"
   ]
  },
  {
   "cell_type": "code",
   "execution_count": 6,
   "metadata": {},
   "outputs": [],
   "source": [
    "#Initialize plant functional type as burial tolerant stabilizer or dune builder and randomly place on grid\n",
    "plant_species_init=['Corn','Wheat']\n",
    "plant_list_1=['Corn','null','null','null']\n",
    "plant_list_2=['null','null','Wheat','null']\n",
    "plant_list_3=['Corn','Corn','null','null']\n",
    "plant_list_4=['null','null','Wheat','Wheat']\n",
    "plant_lists=[plant_list_1,plant_list_2,plant_list_3, plant_list_4]\n",
    "plants_on_grid=[]\n",
    "length_field_part=pg.number_of_cells/4\n",
    "for plant_list in plant_lists:\n",
    "    for i in range(int(length_field_part)):\n",
    "        #if plants_on_grid.isempty\n",
    "        plants_on_grid.append(plant_list)\n",
    "\n",
    "_ = pg.add_field('vegetation__plant_species',plants_on_grid, at='cell', clobber=True)\n",
    "\n",
    "#occupied_ids=np.where(pg.at_cell['vegetation__plant_species']=='BTS')"
   ]
  },
  {
   "cell_type": "markdown",
   "metadata": {},
   "source": [
    "pidval=0\n",
    "plants=pd.DataFrame(columns=['pid','species','cell_index'])\n",
    "for cell in range(pg.number_of_cells):\n",
    "    cell_index=cell\n",
    "    cell_plants=pg['cell']['vegetation__plant_species'][cell]\n",
    "    for plant in cell_plants:\n",
    "        species=plant\n",
    "        newrow=[pidval,species,cell_index]\n",
    "        plants.loc[pidval]=newrow\n",
    "        pidval += 1\n",
    "\n",
    "pid=plants.pid.loc[plants['species']=='BTS'].to_numpy(int)\n",
    "total_biomass=np.random.rand(pid.shape[0])\n",
    "total_biomass2=np.random.rand(6)\n",
    "\n",
    "species_set=np.vstack((pid,total_biomass))\n",
    "species_set2=np.vstack((total_biomass2,total_biomass2))\n",
    "species_set=np.transpose(species_set)\n",
    "species_set2=np.transpose(species_set2)\n",
    "biomass=np.concatenate((species_set,species_set2), axis=0)\n",
    "print(biomass)\n",
    "biomass=np.transpose(biomass)\n",
    "print(biomass)"
   ]
  },
  {
   "cell_type": "markdown",
   "metadata": {},
   "source": [
    "### Plot grid with plant distribution and initial biomass\n",
    "\n",
    "Use RasterModelGrid plot functions to visualize initial model grid\n",
    "\n",
    "#### Vegetation type \n",
    "- 0=Bare\n",
    "- 1=Annual\n",
    "- 2=Herbaceous Perennial \n",
    "- 3=Woody Perennial"
   ]
  },
  {
   "cell_type": "markdown",
   "metadata": {},
   "source": [
    "### Define model time variables\n",
    "Determine basic model timestep and counter for model loop"
   ]
  },
  {
   "cell_type": "markdown",
   "metadata": {},
   "source": [
    "sim_end = date(sim_start_date.year+tot_sim_len_y,sim_start_date.month,sim_start_date.day)\n",
    "dt = min([veg_time_step_d,env_time_step_d])\n",
    "#data['dt']=dt\n",
    "day_freq = str(dt)+'D'\n",
    "date_counter = pd.date_range(start=sim_start_date,end=sim_end,freq=day_freq).strftime('%Y-%m-%d').tolist()\n",
    "step_counter=range(len(date_counter))\n",
    "model_counter=tuple(zip(step_counter,date_counter))"
   ]
  },
  {
   "cell_type": "markdown",
   "metadata": {},
   "source": [
    "Initialize crops PlantGrowth class with veg_params from Excel file"
   ]
  },
  {
   "cell_type": "code",
   "execution_count": 7,
   "metadata": {},
   "outputs": [],
   "source": [
    "croprun=GenVeg(pg,dt,sim_start_date,vegparams)"
   ]
  },
  {
   "cell_type": "code",
   "execution_count": 8,
   "metadata": {},
   "outputs": [
    {
     "name": "stderr",
     "output_type": "stream",
     "text": [
      "d:\\python\\landlab\\landlab\\plot\\imshow.py:288: MatplotlibDeprecationWarning: You are modifying the state of a globally registered colormap. This has been deprecated since 3.3 and in 3.6, you will not be able to modify a registered colormap in-place. To remove this warning, you can make a copy of the colormap first. cmap = mpl.cm.get_cmap(\"pink\").copy()\n",
      "  cmap.set_bad(alpha=0.0)\n",
      "d:\\python\\landlab\\landlab\\plot\\imshow.py:328: MatplotlibDeprecationWarning: The 'norm' parameter to Colorbar has no effect because it is overridden by the mappable; it is deprecated since 3.3 and will be removed two minor releases later.\n",
      "  cb = plt.colorbar(norm=norm, shrink=shrink)\n"
     ]
    },
    {
     "data": {
      "image/png": "[encoded data removed]",
      "text/plain": [
       "<Figure size 432x288 with 2 Axes>"
      ]
     },
     "metadata": {
      "needs_background": "light"
     },
     "output_type": "display_data"
    }
   ],
   "source": [
    "imshow_grid(pg, 'vegetation__total_biomass', at='cell', colorbar_label='Live biomass g')"
   ]
  },
  {
   "cell_type": "code",
   "execution_count": 9,
   "metadata": {},
   "outputs": [
    {
     "data": {
      "image/png": "[encoded data removed]",
      "text/plain": [
       "<Figure size 432x288 with 2 Axes>"
      ]
     },
     "metadata": {
      "needs_background": "light"
     },
     "output_type": "display_data"
    }
   ],
   "source": [
    "imshow_grid(pg, 'vegetation__n_plants', at='cell', colorbar_label='number of plants')"
   ]
  },
  {
   "cell_type": "markdown",
   "metadata": {},
   "source": [
    "## Main model loop script\n",
    "This is the main model loop that controls the simulation that\n",
    "- Advances model time \n",
    "- Updates environmental variables\n",
    "- Simulates changes to vegetation communities\n",
    "- Stores outputs"
   ]
  },
  {
   "cell_type": "code",
   "execution_count": 10,
   "metadata": {},
   "outputs": [
    {
     "ename": "IndexError",
     "evalue": "list index out of range",
     "output_type": "error",
     "traceback": [
      "\u001b[1;31m---------------------------------------------------------------------------\u001b[0m",
      "\u001b[1;31mIndexError\u001b[0m                                Traceback (most recent call last)",
      "\u001b[1;32m~\\AppData\\Local\\Temp\\2/ipykernel_29068/3576277231.py\u001b[0m in \u001b[0;36m<module>\u001b[1;34m\u001b[0m\n\u001b[0;32m      5\u001b[0m \u001b[1;32mfor\u001b[0m \u001b[0mi\u001b[0m \u001b[1;32min\u001b[0m \u001b[0mrange\u001b[0m\u001b[1;33m(\u001b[0m\u001b[0mrun_length_d\u001b[0m\u001b[1;33m)\u001b[0m\u001b[1;33m:\u001b[0m\u001b[1;33m\u001b[0m\u001b[1;33m\u001b[0m\u001b[0m\n\u001b[0;32m      6\u001b[0m     \u001b[1;31m#update temp attribute on grid\u001b[0m\u001b[1;33m\u001b[0m\u001b[1;33m\u001b[0m\u001b[0m\n\u001b[1;32m----> 7\u001b[1;33m     \u001b[0mpg\u001b[0m\u001b[1;33m.\u001b[0m\u001b[0mat_cell\u001b[0m\u001b[1;33m[\u001b[0m\u001b[1;34m'air__temperature_C'\u001b[0m\u001b[1;33m]\u001b[0m\u001b[1;33m=\u001b[0m\u001b[0mnp\u001b[0m\u001b[1;33m.\u001b[0m\u001b[0mones\u001b[0m\u001b[1;33m(\u001b[0m\u001b[0mpg\u001b[0m\u001b[1;33m.\u001b[0m\u001b[0mnumber_of_cells\u001b[0m\u001b[1;33m)\u001b[0m\u001b[1;33m*\u001b[0m\u001b[0mmeantemp\u001b[0m\u001b[1;33m[\u001b[0m\u001b[0mi\u001b[0m\u001b[1;33m]\u001b[0m\u001b[1;33m\u001b[0m\u001b[1;33m\u001b[0m\u001b[0m\n\u001b[0m\u001b[0;32m      8\u001b[0m     \u001b[1;31m#update solar radiation on grid\u001b[0m\u001b[1;33m\u001b[0m\u001b[1;33m\u001b[0m\u001b[0m\n\u001b[0;32m      9\u001b[0m     \u001b[0mcroprun\u001b[0m\u001b[1;33m.\u001b[0m\u001b[0mrun_one_step\u001b[0m\u001b[1;33m(\u001b[0m\u001b[1;33m)\u001b[0m\u001b[1;33m\u001b[0m\u001b[1;33m\u001b[0m\u001b[0m\n",
      "\u001b[1;31mIndexError\u001b[0m: list index out of range"
     ]
    }
   ],
   "source": [
    "#This runs through fine for day 1 of growing season. We need to decide how to track current day\n",
    "temp_dir = tempfile.mkdtemp()\n",
    "os.chdir(temp_dir)\n",
    "j=-1\n",
    "for i in range(run_length_d):\n",
    "    #update temp attribute on grid\n",
    "    if (i/30).is_integer():\n",
    "        pg.at_cell['air__temperature_C']= meantemp[j+1]*np.ones(pg.number_of_cells)\n",
    "        pg.at_cell['radiation__par_tot']= NJ_avg_par[j+1]*np.ones(pg.number_of_cells)\n",
    "        j+=1\n",
    "    #update solar radiation on grid\n",
    "    croprun.run_one_step()\n",
    "    \n",
    "    if (i/7).is_integer():\n",
    "        croprun.save_output()\n",
    "        croprun.get_plant_output('Corn')\n",
    "        write_netcdf(\"crop.nc\",pg, format=\"NETCDF3_64BIT\",append=True, time=(croprun.current_day-croprun.start_date).astype(float)-1, names=['vegetation__total_biomass', 'vegetation__n_plants'])\n",
    "\n",
    "          #if this is a save timestep, save grid object to netcdf\n",
    "    #create record method in croprun that uses datarecord to save PlantGrowth object and grid at time\n",
    "    #if i in savetime:\n",
    "    #    croprun.record()"
   ]
  },
  {
   "cell_type": "code",
   "execution_count": null,
   "metadata": {},
   "outputs": [],
   "source": [
    "print(vegparams)"
   ]
  },
  {
   "cell_type": "code",
   "execution_count": null,
   "metadata": {},
   "outputs": [],
   "source": [
    "output=croprun.get_plant_output()"
   ]
  },
  {
   "cell_type": "markdown",
   "metadata": {},
   "source": [
    "grid = netcdf_file('crop.nc', 'r')\n",
    "print(grid.__dict__)"
   ]
  },
  {
   "cell_type": "markdown",
   "metadata": {},
   "source": [
    "timegrid=grid.variables['t']\n",
    "timegrid[:]"
   ]
  },
  {
   "cell_type": "markdown",
   "metadata": {},
   "source": [
    "vegbio=grid.variables['vegetation__total_biomass']\n",
    "vegbio.shape"
   ]
  },
  {
   "cell_type": "markdown",
   "metadata": {},
   "source": [
    "vegbio[10,:,:]"
   ]
  },
  {
   "cell_type": "code",
   "execution_count": null,
   "metadata": {},
   "outputs": [],
   "source": [
    "output.index.unique(level=2)"
   ]
  },
  {
   "cell_type": "code",
   "execution_count": null,
   "metadata": {},
   "outputs": [],
   "source": [
    "output.loc[:, 'Corn',6] #timestep,species,plant number in []"
   ]
  },
  {
   "cell_type": "markdown",
   "metadata": {},
   "source": [
    "output.loc[21.0]"
   ]
  },
  {
   "cell_type": "code",
   "execution_count": null,
   "metadata": {},
   "outputs": [],
   "source": [
    "biomass = output[\"vegetation__root_biomass\"].values\n",
    "display(biomass)\n"
   ]
  },
  {
   "cell_type": "markdown",
   "metadata": {},
   "source": [
    "grid.close()"
   ]
  },
  {
   "cell_type": "code",
   "execution_count": null,
   "metadata": {},
   "outputs": [],
   "source": [
    "print((0/28).is_integer())"
   ]
  },
  {
   "cell_type": "code",
   "execution_count": null,
   "metadata": {},
   "outputs": [],
   "source": [
    "i=0\n",
    "print((i/30).is_integer())"
   ]
  }
 ],
 "metadata": {
  "kernelspec": {
   "display_name": "Python 3.9.7 ('base')",
   "language": "python",
   "name": "python3"
  },
  "language_info": {
   "codemirror_mode": {
    "name": "ipython",
    "version": 3
   },
   "file_extension": ".py",
   "mimetype": "text/x-python",
   "name": "python",
   "nbconvert_exporter": "python",
   "pygments_lexer": "ipython3",
   "version": "3.9.7"
  },
  "orig_nbformat": 2,
  "vscode": {
   "interpreter": {
    "hash": "fd8d38f7fffbe48e6e8c262327b52ef8e91eb0cc795cec26bc569e80dcf3ffdc"
   }
  }
 },
 "nbformat": 4,
 "nbformat_minor": 2
}
