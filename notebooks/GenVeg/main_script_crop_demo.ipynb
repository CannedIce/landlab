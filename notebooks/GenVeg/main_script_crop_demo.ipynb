{
 "cells": [
  {
   "cell_type": "markdown",
   "metadata": {},
   "source": [
    "# GenVeg Main Script\n",
    "GenVeg is a generalized vegetation growth model that simulates growth due to\n",
    "photosynthesis as well as processes that control vegetation distribution such\n",
    "as mortality, senescence, dispersal, and colonization. The model utilizes a \n",
    "mixture of existing and new landlab components to setup the model, simulates\n",
    "relevant vegetation community dynamics with the local environment, and analyzes\n",
    "results of the simulation. "
   ]
  },
  {
   "cell_type": "markdown",
   "metadata": {},
   "source": [
    "## Main model control set up\n",
    "### Import components"
   ]
  },
  {
   "cell_type": "code",
   "execution_count": 32,
   "metadata": {},
   "outputs": [],
   "source": [
    "import numpy as np, pandas as pd\n",
    "import os, tempfile\n",
    "from pathlib import Path\n",
    "from datetime import date\n",
    "from matplotlib.pyplot import title, show, figure, plot, subplot, xlabel, ylabel\n",
    "from landlab import RasterModelGrid, imshow_grid, load_params\n",
    "from landlab.data_record import DataRecord\n",
    "from landlab.components.genveg import VegParams, GenVeg\n",
    "from landlab.io.netcdf import write_netcdf, read_netcdf\n",
    "from scipy.io import netcdf_file"
   ]
  },
  {
   "cell_type": "markdown",
   "metadata": {},
   "source": [
    "### Define time controls"
   ]
  },
  {
   "cell_type": "code",
   "execution_count": 33,
   "metadata": {},
   "outputs": [],
   "source": [
    "sim_start_date = np.datetime64('2010-01-01')\n",
    "tot_sim_len_y = 30\n",
    "veg_time_step_d = 1\n",
    "env_time_step_d = 1\n",
    "dt=np.timedelta64(min([veg_time_step_d,env_time_step_d]),'D')\n",
    "run_length_d=365"
   ]
  },
  {
   "cell_type": "markdown",
   "metadata": {},
   "source": [
    "### Define filenames for input files\n",
    "##### *Note should be located in same folder as this .ipynb"
   ]
  },
  {
   "cell_type": "code",
   "execution_count": 34,
   "metadata": {},
   "outputs": [],
   "source": [
    "VegInputFile = 'GenVeg_Example_Simulation.xlsx'"
   ]
  },
  {
   "cell_type": "markdown",
   "metadata": {},
   "source": [
    "### Read in parameter and data input files\n",
    "Identify model processes to be included so all required parameters are defined and calculated"
   ]
  },
  {
   "cell_type": "code",
   "execution_count": 35,
   "metadata": {},
   "outputs": [
    {
     "ename": "ValueError",
     "evalue": "File path is not valid",
     "output_type": "error",
     "traceback": [
      "\u001b[1;31m---------------------------------------------------------------------------\u001b[0m",
      "\u001b[1;31mValueError\u001b[0m                                Traceback (most recent call last)",
      "\u001b[1;32m~\\AppData\\Local\\Temp\\1/ipykernel_27260/186517566.py\u001b[0m in \u001b[0;36m<module>\u001b[1;34m\u001b[0m\n\u001b[0;32m      1\u001b[0m \u001b[0minp_file\u001b[0m\u001b[1;33m=\u001b[0m\u001b[0mPath\u001b[0m\u001b[1;33m(\u001b[0m\u001b[0mVegInputFile\u001b[0m\u001b[1;33m)\u001b[0m\u001b[1;33m.\u001b[0m\u001b[0mabsolute\u001b[0m\u001b[1;33m(\u001b[0m\u001b[1;33m)\u001b[0m\u001b[1;33m\u001b[0m\u001b[1;33m\u001b[0m\u001b[0m\n\u001b[1;32m----> 2\u001b[1;33m \u001b[0mVegParams\u001b[0m\u001b[1;33m(\u001b[0m\u001b[0mfpath\u001b[0m\u001b[1;33m=\u001b[0m\u001b[0minp_file\u001b[0m\u001b[1;33m,\u001b[0m\u001b[0mprocesses\u001b[0m\u001b[1;33m=\u001b[0m\u001b[1;33m[\u001b[0m\u001b[1;34m'plantsize'\u001b[0m\u001b[1;33m]\u001b[0m\u001b[1;33m)\u001b[0m\u001b[1;33m\u001b[0m\u001b[1;33m\u001b[0m\u001b[0m\n\u001b[0m\u001b[0;32m      3\u001b[0m \u001b[1;31m#VegParams(processes=['plantsize','dispersal','colonization','storage','mortality'])\u001b[0m\u001b[1;33m\u001b[0m\u001b[1;33m\u001b[0m\u001b[0m\n\u001b[0;32m      4\u001b[0m \u001b[0mvegparams\u001b[0m\u001b[1;33m=\u001b[0m\u001b[0mload_params\u001b[0m\u001b[1;33m(\u001b[0m\u001b[1;34m'veg_params.yml'\u001b[0m\u001b[1;33m)\u001b[0m\u001b[1;33m\u001b[0m\u001b[1;33m\u001b[0m\u001b[0m\n\u001b[0;32m      5\u001b[0m \u001b[0mprint\u001b[0m\u001b[1;33m(\u001b[0m\u001b[0mvegparams\u001b[0m\u001b[1;33m)\u001b[0m\u001b[1;33m\u001b[0m\u001b[1;33m\u001b[0m\u001b[0m\n",
      "\u001b[1;32md:\\python\\landlab\\landlab\\components\\genveg\\load_veg_params.py\u001b[0m in \u001b[0;36m__init__\u001b[1;34m(self, fpath, outfile, processes, vegparams)\u001b[0m\n\u001b[0;32m    103\u001b[0m             \u001b[0mispathvalid\u001b[0m\u001b[1;33m=\u001b[0m\u001b[0mfpath\u001b[0m\u001b[1;33m.\u001b[0m\u001b[0mis_file\u001b[0m\u001b[1;33m(\u001b[0m\u001b[1;33m)\u001b[0m\u001b[1;33m\u001b[0m\u001b[1;33m\u001b[0m\u001b[0m\n\u001b[0;32m    104\u001b[0m             \u001b[1;32mif\u001b[0m \u001b[0mispathvalid\u001b[0m\u001b[1;33m==\u001b[0m\u001b[1;32mFalse\u001b[0m\u001b[1;33m:\u001b[0m\u001b[1;33m\u001b[0m\u001b[1;33m\u001b[0m\u001b[0m\n\u001b[1;32m--> 105\u001b[1;33m                 \u001b[1;32mraise\u001b[0m \u001b[0mValueError\u001b[0m\u001b[1;33m(\u001b[0m\u001b[1;34m'File path is not valid'\u001b[0m\u001b[1;33m)\u001b[0m\u001b[1;33m\u001b[0m\u001b[1;33m\u001b[0m\u001b[0m\n\u001b[0m\u001b[0;32m    106\u001b[0m             \u001b[0mself\u001b[0m\u001b[1;33m.\u001b[0m\u001b[0mfpath\u001b[0m\u001b[1;33m=\u001b[0m\u001b[0mfpath\u001b[0m\u001b[1;33m\u001b[0m\u001b[1;33m\u001b[0m\u001b[0m\n\u001b[0;32m    107\u001b[0m         \u001b[1;31m#add check for file extension\u001b[0m\u001b[1;33m\u001b[0m\u001b[1;33m\u001b[0m\u001b[0m\n",
      "\u001b[1;31mValueError\u001b[0m: File path is not valid"
     ]
    }
   ],
   "source": [
    "inp_file=Path(VegInputFile).absolute()\n",
    "VegParams(fpath=inp_file,processes=['plantsize'])\n",
    "#VegParams(processes=['plantsize','dispersal','colonization','storage','mortality'])\n",
    "vegparams=load_params('veg_params.yml')\n",
    "print(vegparams)\n"
   ]
  },
  {
   "cell_type": "markdown",
   "metadata": {},
   "source": [
    "### Set up model grid using landlab RasterModelGrid functions\n",
    "\n",
    "- Create the model grid\n",
    "- Initialize live vegetation biomass and plant functional type\n",
    "- Initialize the air temperature driver across the grid\n",
    "\n",
    "##### **Note variable names should be consistent with landlab standards"
   ]
  },
  {
   "cell_type": "code",
   "execution_count": null,
   "metadata": {},
   "outputs": [],
   "source": [
    "#Create grid 10x10 node grid with 2 m node spacing and xy of origin in lat long roughly corresponding to Island Beach State Park\n",
    "pg = RasterModelGrid((5, 5), 2.0, xy_of_reference=(-74.08,39.79))\n",
    "pg.axis_units = ('m', 'm')\n",
    "\n",
    "meantemp=[0.444444445,0.305555556,0.222222223,0.138888889,0.027777777,-0.083333334,-0.138888889,-0.25,-0.305555556,-0.416666667,-0.472222223,-0.527777778,-0.583333334,-0.638888889,-0.694444445,-0.75,-0.777777778,-0.805555556,-0.861111111,-0.861111111,-0.861111111,-0.888888889,-0.916666667,-0.916666667,-0.888888889,-0.861111111,-0.861111111,-0.833333333,-0.805555556,-0.777777778,-0.722222222,-0.666666667,-0.638888889,-0.583333333,-0.527777778,-0.472222222,-0.388888889,-0.333333334,-0.25,-0.166666667,-0.083333334,-0.027777777,0.083333334,0.166666667,0.277777778,0.361111111,0.472222222,0.583333333,0.666666667,0.777777778,0.888888889,1,1.083333334,1.194444445,1.305555556,1.416666667,1.527777778,1.611111111,1.694444445,1.805555556,1.916666667,2.027777778,2.138888889,2.25,2.333333334,2.444444445,2.555555556,2.638888889,2.75,2.861111111,2.944444445,3.055555556,3.166666667,3.25,3.361111112,3.444444445,3.555555556,3.694444445,3.777777778,3.888888889,4,4.083333334,4.222222223,4.333333334,4.444444445,4.583333334,4.694444445,4.833333333,4.944444444,5.083333334,5.222222223,5.333333334,5.5,5.638888889,5.777777778,5.916666667,6.083333334,6.222222222,6.38888889,6.555555554,6.722222222,6.88888889,7.055555554,7.222222222,7.38888889,7.555555554,7.722222222,7.88888889,8.083333334,8.250000002,8.444444443,8.638888891,8.805555555,8.972222223,9.166666666,9.333333335,9.527777778,9.694444446,9.888888887,10.08333334,10.25,10.44444444,10.61111111,10.77777778,10.97222222,11.13888889,11.27777778,11.47222222,11.63888889,11.80555556,11.97222222,12.16666667,12.33333333,12.47222222,12.63888889,12.80555555,13,13.16666667,13.33333333,13.47222222,13.63888889,13.80555556,13.97222222,14.13888889,14.33333334,14.47222222,14.63888889,14.80555556,14.97222222,15.16666667,15.33333334,15.5,15.66666667,15.86111112,16.02777778,16.22222222,16.38888889,16.58333334,16.75,16.91666667,17.13888889,17.30555556,17.47222223,17.66666667,17.86111112,18.02777778,18.22222223,18.38888889,18.58333334,18.75,18.91666667,19.08333334,19.27777778,19.41666667,19.58333334,19.75,19.91666667,20.08333334,20.19444445,20.36111112,20.47222223,20.63888889,20.75,20.86111112,20.97222223,21.08333334,21.19444445,21.30555556,21.38888889,21.47222223,21.55555556,21.61111111,21.69444445,21.75,21.80555556,21.83333334,21.88888889,21.94444445,21.94444445,22,22,22,22.02777778,22.02777778,22.02777778,22.02777778,22,22,21.97222222,21.97222222,21.91666667,21.91666667,21.86111111,21.86111111,21.80555556,21.75,21.72222222,21.66666667,21.61111111,21.58333334,21.52777778,21.47222223,21.41666667,21.36111112,21.30555556,21.25,21.16666667,21.11111111,21.05555556,20.97222222,20.91666667,20.83333333,20.75,20.69444445,20.58333334,20.5,20.44444445,20.33333334,20.25,20.13888889,20.05555556,19.94444444,19.80555556,19.69444445,19.58333334,19.44444445,19.33333334,19.19444445,19.08333334,18.91666667,18.80555556,18.63888889,18.5,18.33333333,18.19444445,18.02777778,17.86111111,17.69444445,17.52777778,17.36111111,17.19444445,16.97222223,16.80555556,16.61111112,16.44444445,16.25,16.08333334,15.88888889,15.66666667,15.47222222,15.30555556,15.11111112,14.91666667,14.72222222,14.55555556,14.36111111,14.13888889,13.94444444,13.77777778,13.58333333,13.41666667,13.22222222,13.05555555,12.88888889,12.72222222,12.52777778,12.36111111,12.19444444,12.02777778,11.88888889,11.72222222,11.55555556,11.38888889,11.25,11.08333333,10.91666667,10.77777778,10.63888889,10.5,10.33333334,10.19444444,10.05555556,9.916666666,9.750000002,9.611111112,9.472222221,9.361111111,9.194444442,9.055555557,8.916666666,8.777777776,8.611111112,8.472222222,8.333333331,8.194444446,8.027777777,7.888888887,7.750000001,7.583333333,7.444444442,7.277777779,7.138888889,6.97222222,6.805555555,6.638888891,6.500000001,6.333333332,6.166666669,6.027777778,5.861111111,5.694444445,5.527777778,5.361111111,5.194444445,5.027777778,4.861111111,4.694444445,4.527777778,4.361111111,4.194444445,4.027777778,3.861111111,3.722222222,3.555555556,3.388888889,3.222222222,3.083333334,2.916666667,2.75,2.611111112,2.444444445,2.305555556,2.138888889,2,1.833333333,1.722222222,1.555555556,1.416666667,1.305555556,1.166666667,1.027777778,0.888888889,0.777777778,0.666666667,0.555555556\n",
    "]\n",
    "dailyTotGlobRad=[22.3, 26.8, 32.2, 37.1, 40.0, 40.9, 40.4, 38.2, 33.9, 28.5, 23.3, 21.0]\n",
    "                \n",
    "#Initialize with a random mean air temperture \n",
    "_ = pg.add_field('air__temperature_C', meantemp[0]*np.ones(pg.number_of_cells), at='cell', units='C' )\n",
    "_ = pg.add_field('radiation__net_flux', dailyTotGlobRad[0]*np.ones(pg.number_of_cells), at='cell', units='W/m^2')\n"
   ]
  },
  {
   "cell_type": "markdown",
   "metadata": {},
   "source": [
    "Now we initialize plants. We can do this in multiple ways. Here we are going to seed two species in a grid with 1/2 occupied by Corn, 1/2 by wheat, at single and double planting densities, respectively"
   ]
  },
  {
   "cell_type": "code",
   "execution_count": null,
   "metadata": {},
   "outputs": [],
   "source": [
    "#Initialize plant functional type as burial tolerant stabilizer or dune builder and randomly place on grid\n",
    "plant_species_init=['Corn','Wheat']\n",
    "plant_list_1=['Corn','null','null','null']\n",
    "plant_list_2=['null','null','Wheat','null']\n",
    "plant_list_3=['Corn','Corn','null','null']\n",
    "plant_list_4=['null','null','Wheat','Wheat']\n",
    "plant_lists=[plant_list_1,plant_list_2,plant_list_3, plant_list_4]\n",
    "plants_on_grid=[]\n",
    "length_field_part=pg.number_of_cells/4\n",
    "for plant_list in plant_lists:\n",
    "    for i in range(int(length_field_part)):\n",
    "        #if plants_on_grid.isempty\n",
    "        plants_on_grid.append(plant_list)\n",
    "\n",
    "_ = pg.add_field('vegetation__plant_species',plants_on_grid, at='cell', clobber=True)\n",
    "\n",
    "#occupied_ids=np.where(pg.at_cell['vegetation__plant_species']=='BTS')"
   ]
  },
  {
   "cell_type": "markdown",
   "metadata": {},
   "source": [
    "pidval=0\n",
    "plants=pd.DataFrame(columns=['pid','species','cell_index'])\n",
    "for cell in range(pg.number_of_cells):\n",
    "    cell_index=cell\n",
    "    cell_plants=pg['cell']['vegetation__plant_species'][cell]\n",
    "    for plant in cell_plants:\n",
    "        species=plant\n",
    "        newrow=[pidval,species,cell_index]\n",
    "        plants.loc[pidval]=newrow\n",
    "        pidval += 1\n",
    "\n",
    "pid=plants.pid.loc[plants['species']=='BTS'].to_numpy(int)\n",
    "total_biomass=np.random.rand(pid.shape[0])\n",
    "total_biomass2=np.random.rand(6)\n",
    "\n",
    "species_set=np.vstack((pid,total_biomass))\n",
    "species_set2=np.vstack((total_biomass2,total_biomass2))\n",
    "species_set=np.transpose(species_set)\n",
    "species_set2=np.transpose(species_set2)\n",
    "biomass=np.concatenate((species_set,species_set2), axis=0)\n",
    "print(biomass)\n",
    "biomass=np.transpose(biomass)\n",
    "print(biomass)"
   ]
  },
  {
   "cell_type": "markdown",
   "metadata": {},
   "source": [
    "### Plot grid with plant distribution and initial biomass\n",
    "\n",
    "Use RasterModelGrid plot functions to visualize initial model grid\n",
    "\n",
    "#### Vegetation type \n",
    "- 0=Bare\n",
    "- 1=Annual\n",
    "- 2=Herbaceous Perennial \n",
    "- 3=Woody Perennial"
   ]
  },
  {
   "cell_type": "markdown",
   "metadata": {},
   "source": [
    "### Define model time variables\n",
    "Determine basic model timestep and counter for model loop"
   ]
  },
  {
   "cell_type": "markdown",
   "metadata": {},
   "source": [
    "sim_end = date(sim_start_date.year+tot_sim_len_y,sim_start_date.month,sim_start_date.day)\n",
    "dt = min([veg_time_step_d,env_time_step_d])\n",
    "#data['dt']=dt\n",
    "day_freq = str(dt)+'D'\n",
    "date_counter = pd.date_range(start=sim_start_date,end=sim_end,freq=day_freq).strftime('%Y-%m-%d').tolist()\n",
    "step_counter=range(len(date_counter))\n",
    "model_counter=tuple(zip(step_counter,date_counter))"
   ]
  },
  {
   "cell_type": "markdown",
   "metadata": {},
   "source": [
    "Initialize crops PlantGrowth class with veg_params from Excel file"
   ]
  },
  {
   "cell_type": "code",
   "execution_count": null,
   "metadata": {},
   "outputs": [],
   "source": [
    "croprun=GenVeg(pg,dt,sim_start_date,vegparams)\n",
    "\n",
    "\n"
   ]
  },
  {
   "cell_type": "code",
   "execution_count": null,
   "metadata": {},
   "outputs": [
    {
     "name": "stderr",
     "output_type": "stream",
     "text": [
      "d:\\python\\landlab\\landlab\\plot\\imshow.py:288: MatplotlibDeprecationWarning: You are modifying the state of a globally registered colormap. This has been deprecated since 3.3 and in 3.6, you will not be able to modify a registered colormap in-place. To remove this warning, you can make a copy of the colormap first. cmap = mpl.cm.get_cmap(\"pink\").copy()\n",
      "  cmap.set_bad(alpha=0.0)\n",
      "d:\\python\\landlab\\landlab\\plot\\imshow.py:328: MatplotlibDeprecationWarning: The 'norm' parameter to Colorbar has no effect because it is overridden by the mappable; it is deprecated since 3.3 and will be removed two minor releases later.\n",
      "  cb = plt.colorbar(norm=norm, shrink=shrink)\n"
     ]
    },
    {
     "data": {
      "image/png": "[encoded data removed]",
      "text/plain": [
       "<Figure size 432x288 with 2 Axes>"
      ]
     },
     "metadata": {
      "needs_background": "light"
     },
     "output_type": "display_data"
    }
   ],
   "source": [
    "imshow_grid(pg, 'vegetation__total_biomass', at='cell', colorbar_label='Live biomass g')"
   ]
  },
  {
   "cell_type": "code",
   "execution_count": null,
   "metadata": {},
   "outputs": [
    {
     "data": {
      "image/png": "[encoded data removed]",
      "text/plain": [
       "<Figure size 432x288 with 2 Axes>"
      ]
     },
     "metadata": {
      "needs_background": "light"
     },
     "output_type": "display_data"
    }
   ],
   "source": [
    "imshow_grid(pg, 'vegetation__n_plants', at='cell', colorbar_label='number of plants')"
   ]
  },
  {
   "cell_type": "markdown",
   "metadata": {},
   "source": [
    "## Main model loop script\n",
    "This is the main model loop that controls the simulation that\n",
    "- Advances model time \n",
    "- Updates environmental variables\n",
    "- Simulates changes to vegetation communities\n",
    "- Stores outputs"
   ]
  },
  {
   "cell_type": "code",
   "execution_count": null,
   "metadata": {},
   "outputs": [],
   "source": [
    "#This runs through fine for day 1 of growing season. We need to decide how to track current day\n",
    "temp_dir = tempfile.mkdtemp()\n",
    "os.chdir(temp_dir)\n",
    "for i in range(run_length_d):\n",
    "    #update temp attribute on grid\n",
    "    pg.at_cell['air__temperature_C']=np.ones(pg.number_of_cells)*meantemp[i]\n",
    "    #update solar radiation on grid\n",
    "    croprun.run_one_step()\n",
    "    \n",
    "    if (i/7).is_integer():\n",
    "        croprun.save_output()\n",
    "        croprun.get_plant_output('Corn')\n",
    "        write_netcdf(\"crop.nc\",pg, format=\"NETCDF3_64BIT\",append=True, time=(croprun.current_day-croprun.start_date).astype(float)-1, names=['vegetation__total_biomass', 'vegetation__n_plants'])\n",
    "          #if this is a save timestep, save grid object to netcdf\n",
    "    #create record method in croprun that uses datarecord to save PlantGrowth object and grid at time\n",
    "    #if i in savetime:\n",
    "    #    croprun.record()"
   ]
  },
  {
   "cell_type": "code",
   "execution_count": null,
   "metadata": {},
   "outputs": [
    {
     "name": "stdout",
     "output_type": "stream",
     "text": [
      "{'Corn': {'duration_params': {'growing_season_end': 243, 'growing_season_start': 121, 'senescence_start': 228}, 'grow_params': {'glucose_requirement': [1.444, 1.513, 1.463], 'k_light_extinct': 0.51, 'light_half_sat': 100, 'p_max': 0.0372, 'plant_part_min': [0.01, 0.1, 0.5], 'respiration_coefficient': [0.015, 0.015, 0.03], 'root_to_leaf_coeffs': [0.031, 0.951, 0], 'root_to_stem_coeffs': [-0.107, 1.098, 0.0216], 'init_biomass': [0.61, 1.22]}, 'plant_factors': {'angio_gymno': 'angiosperm', 'duration': 'annual', 'growth_form': 'single_stem', 'growth_habit': 'graminoid', 'leaf_retention': 'deciduous', 'monocot_dicot': 'monocot', 'p_type': 'C4', 'shape': 'erect', 'species': 'Corn'}, 'size_params': {'max_height_stem': 1.0, 'max_n_stems': 3.0, 'max_plant_density': 34.0, 'total_cs_area_stems': 0.231}}, 'Wheat': {'duration_params': {'growing_season_end': 305, 'growing_season_start': 144, 'senescence_start': 273}, 'grow_params': {'glucose_requirement': [1.444, 1.513, 1.463], 'k_light_extinct': 0.48, 'light_half_sat': 100, 'p_max': 0.05, 'plant_part_min': [0.01, 0.1, 0.5], 'respiration_coefficient': [0.015, 0.015, 0.03], 'root_to_leaf_coeffs': [0.031, 0.951, 0], 'root_to_stem_coeffs': [-0.107, 1.098, 0.0216], 'init_biomass': [0.61, 1.22]}, 'plant_factors': {'angio_gymno': 'angiosperm', 'duration': 'annual', 'growth_form': 'bunch', 'growth_habit': 'graminoid', 'leaf_retention': 'deciduous', 'monocot_dicot': 'monocot', 'p_type': 'C4', 'shape': 'erect', 'species': 'Wheat'}, 'size_params': {'max_height_stem': 1.0, 'max_n_stems': 3.0, 'max_plant_density': 34.0, 'total_cs_area_stems': 0.231}}}\n"
     ]
    }
   ],
   "source": [
    "print(vegparams)"
   ]
  },
  {
   "cell_type": "code",
   "execution_count": null,
   "metadata": {},
   "outputs": [],
   "source": [
    "output=croprun.get_plant_output()"
   ]
  },
  {
   "cell_type": "code",
   "execution_count": null,
   "metadata": {},
   "outputs": [
    {
     "name": "stdout",
     "output_type": "stream",
     "text": [
      "{'filename': 'crop.nc', 'fp': <_io.BufferedReader name='crop.nc'>, 'use_mmap': True, 'mode': 'r', 'version_byte': 2, 'maskandscale': False, 'dimensions': {'nt': None, 'nj': 8, 'ni': 8, 'nv': 4}, 'variables': {'vegetation__total_biomass': <scipy.io.netcdf.netcdf_variable object at 0x00000210448BC280>, 'vegetation__n_plants': <scipy.io.netcdf.netcdf_variable object at 0x0000021043E7FC70>, 't': <scipy.io.netcdf.netcdf_variable object at 0x00000210448E0640>, 'x_bnds': <scipy.io.netcdf.netcdf_variable object at 0x00000210448E0BE0>, 'y_bnds': <scipy.io.netcdf.netcdf_variable object at 0x00000210448F6550>}, '_dims': ['nt', 'nj', 'ni', 'nv'], '_recs': 53, '_recsize': 1032, '_mm': <mmap.mmap closed=False, access=ACCESS_READ, length=59312, pos=0, offset=0>, '_mm_buf': array([67, 68, 70, ...,  0,  0,  0], dtype=int8), '_attributes': {}}\n"
     ]
    }
   ],
   "source": [
    "grid = netcdf_file('crop.nc', 'r')\n",
    "print(grid.__dict__)"
   ]
  },
  {
   "cell_type": "code",
   "execution_count": null,
   "metadata": {},
   "outputs": [
    {
     "data": {
      "text/plain": [
       "array([ 365.,  372.,  379.,  386.,  393.,  400.,  407.,  414.,  421.,\n",
       "        428.,  435.,  442.,  449.,  456.,  463.,  470.,  477.,  484.,\n",
       "        491.,  498.,  505.,  512.,  519.,  526.,  533.,  540.,  547.,\n",
       "        554.,  561.,  568.,  575.,  582.,  589.,  596.,  603.,  610.,\n",
       "        617.,  624.,  631.,  638.,  645.,  652.,  659.,  666.,  673.,\n",
       "        680.,  687.,  694.,  701.,  708.,  715.,  722.,  729.])"
      ]
     },
     "execution_count": 27,
     "metadata": {},
     "output_type": "execute_result"
    }
   ],
   "source": [
    "timegrid=grid.variables['t']\n",
    "timegrid[:]"
   ]
  },
  {
   "cell_type": "code",
   "execution_count": null,
   "metadata": {},
   "outputs": [
    {
     "data": {
      "text/plain": [
       "(53, 8, 8)"
      ]
     },
     "execution_count": 28,
     "metadata": {},
     "output_type": "execute_result"
    }
   ],
   "source": [
    "vegbio=grid.variables['vegetation__total_biomass']\n",
    "vegbio.shape"
   ]
  },
  {
   "cell_type": "code",
   "execution_count": null,
   "metadata": {},
   "outputs": [
    {
     "data": {
      "text/plain": [
       "array([[ 13.49867886,  13.4789837 ,  13.63998789,  13.29120894,\n",
       "         13.67561607,  13.69393255,  13.50063545,  13.62238947],\n",
       "       [ 13.37250282,  13.552327  ,  13.43526874,  13.60107176,\n",
       "         13.48086257,  13.46241354,  13.69841805,  13.42553087],\n",
       "       [ 14.18888117,  14.22224255,  14.25425794,  14.2326917 ,\n",
       "         14.25093748,  14.23351647,  14.21922125,  14.18937874],\n",
       "       [ 14.23078379,  14.25261361,  14.24323255,  14.20872459,\n",
       "         14.25199174,  14.20457504,  14.22958816,  14.23902085],\n",
       "       [ 27.29813966,  27.05731055,  27.31946153,  27.03026955,\n",
       "         26.77319263,  27.00414214,  26.80792561,  27.16225976],\n",
       "       [ 27.08132462,  27.08723601,  27.23056337,  27.16173201,\n",
       "         26.94883504,  26.99198607,  27.2392358 ,  27.13321176],\n",
       "       [ 28.46715778,  28.41132886,  28.49046806,  28.43924353,\n",
       "         28.44040986,  28.4440849 ,  28.43666154,  28.48941601],\n",
       "       [ 28.44290205,  28.46739239,  28.45040581,  28.44810313,\n",
       "         28.46273815,  28.47439374,  28.37847569,  28.43584855]])"
      ]
     },
     "execution_count": 29,
     "metadata": {},
     "output_type": "execute_result"
    }
   ],
   "source": [
    "vegbio[10,:,:]"
   ]
  },
  {
   "cell_type": "code",
   "execution_count": null,
   "metadata": {},
   "outputs": [
    {
     "data": {
      "text/plain": [
       "Int64Index([ 0,  1,  2,  3,  4,  5,  6,  7,  8,  9, 10, 11, 12, 13, 14, 15, 16,\n",
       "            17, 18, 19, 20, 21, 22, 23, 24, 25, 26, 27, 28, 29, 30, 31, 32, 33,\n",
       "            34, 35, 36, 37, 38, 39, 40, 41, 42, 43, 44, 45, 46, 47],\n",
       "           dtype='int64', name='item_id')"
      ]
     },
     "execution_count": 17,
     "metadata": {},
     "output_type": "execute_result"
    }
   ],
   "source": [
    "output.index.unique(level=2)"
   ]
  },
  {
   "cell_type": "code",
   "execution_count": null,
   "metadata": {},
   "outputs": [
    {
     "data": {
      "text/html": [
       "<div>\n",
       "<style scoped>\n",
       "    .dataframe tbody tr th:only-of-type {\n",
       "        vertical-align: middle;\n",
       "    }\n",
       "\n",
       "    .dataframe tbody tr th {\n",
       "        vertical-align: top;\n",
       "    }\n",
       "\n",
       "    .dataframe thead th {\n",
       "        text-align: right;\n",
       "    }\n",
       "</style>\n",
       "<table border=\"1\" class=\"dataframe\">\n",
       "  <thead>\n",
       "    <tr style=\"text-align: right;\">\n",
       "      <th></th>\n",
       "      <th></th>\n",
       "      <th></th>\n",
       "      <th>grid_element</th>\n",
       "      <th>element_id</th>\n",
       "      <th>vegetation__root_biomass</th>\n",
       "      <th>vegetation__leaf_biomass</th>\n",
       "      <th>vegetation__stem_biomass</th>\n",
       "    </tr>\n",
       "    <tr>\n",
       "      <th>time</th>\n",
       "      <th>vegetation__species</th>\n",
       "      <th>item_id</th>\n",
       "      <th></th>\n",
       "      <th></th>\n",
       "      <th></th>\n",
       "      <th></th>\n",
       "      <th></th>\n",
       "    </tr>\n",
       "  </thead>\n",
       "  <tbody>\n",
       "    <tr>\n",
       "      <th>0.0</th>\n",
       "      <th>Corn</th>\n",
       "      <th>6</th>\n",
       "      <td>cell</td>\n",
       "      <td>6.0</td>\n",
       "      <td>0.300420</td>\n",
       "      <td>0.342232</td>\n",
       "      <td>0.211562</td>\n",
       "    </tr>\n",
       "    <tr>\n",
       "      <th>1.0</th>\n",
       "      <th>Corn</th>\n",
       "      <th>6</th>\n",
       "      <td>cell</td>\n",
       "      <td>6.0</td>\n",
       "      <td>0.300420</td>\n",
       "      <td>0.342232</td>\n",
       "      <td>0.211562</td>\n",
       "    </tr>\n",
       "    <tr>\n",
       "      <th>29.0</th>\n",
       "      <th>Corn</th>\n",
       "      <th>6</th>\n",
       "      <td>cell</td>\n",
       "      <td>6.0</td>\n",
       "      <td>0.300420</td>\n",
       "      <td>0.342232</td>\n",
       "      <td>0.211562</td>\n",
       "    </tr>\n",
       "    <tr>\n",
       "      <th>57.0</th>\n",
       "      <th>Corn</th>\n",
       "      <th>6</th>\n",
       "      <td>cell</td>\n",
       "      <td>6.0</td>\n",
       "      <td>0.300420</td>\n",
       "      <td>0.342232</td>\n",
       "      <td>0.211562</td>\n",
       "    </tr>\n",
       "    <tr>\n",
       "      <th>85.0</th>\n",
       "      <th>Corn</th>\n",
       "      <th>6</th>\n",
       "      <td>cell</td>\n",
       "      <td>6.0</td>\n",
       "      <td>0.300420</td>\n",
       "      <td>0.342232</td>\n",
       "      <td>0.211562</td>\n",
       "    </tr>\n",
       "    <tr>\n",
       "      <th>...</th>\n",
       "      <th>...</th>\n",
       "      <th>...</th>\n",
       "      <td>...</td>\n",
       "      <td>...</td>\n",
       "      <td>...</td>\n",
       "      <td>...</td>\n",
       "      <td>...</td>\n",
       "    </tr>\n",
       "    <tr>\n",
       "      <th>702.0</th>\n",
       "      <th>Corn</th>\n",
       "      <th>6</th>\n",
       "      <td>cell</td>\n",
       "      <td>6.0</td>\n",
       "      <td>5.089477</td>\n",
       "      <td>4.929485</td>\n",
       "      <td>5.082936</td>\n",
       "    </tr>\n",
       "    <tr>\n",
       "      <th>709.0</th>\n",
       "      <th>Corn</th>\n",
       "      <th>6</th>\n",
       "      <td>cell</td>\n",
       "      <td>6.0</td>\n",
       "      <td>5.089477</td>\n",
       "      <td>4.929485</td>\n",
       "      <td>5.082936</td>\n",
       "    </tr>\n",
       "    <tr>\n",
       "      <th>716.0</th>\n",
       "      <th>Corn</th>\n",
       "      <th>6</th>\n",
       "      <td>cell</td>\n",
       "      <td>6.0</td>\n",
       "      <td>5.089477</td>\n",
       "      <td>4.929485</td>\n",
       "      <td>5.082936</td>\n",
       "    </tr>\n",
       "    <tr>\n",
       "      <th>723.0</th>\n",
       "      <th>Corn</th>\n",
       "      <th>6</th>\n",
       "      <td>cell</td>\n",
       "      <td>6.0</td>\n",
       "      <td>5.089477</td>\n",
       "      <td>4.929485</td>\n",
       "      <td>5.082936</td>\n",
       "    </tr>\n",
       "    <tr>\n",
       "      <th>730.0</th>\n",
       "      <th>Corn</th>\n",
       "      <th>6</th>\n",
       "      <td>cell</td>\n",
       "      <td>6.0</td>\n",
       "      <td>5.089477</td>\n",
       "      <td>4.929485</td>\n",
       "      <td>5.082936</td>\n",
       "    </tr>\n",
       "  </tbody>\n",
       "</table>\n",
       "<p>68 rows × 5 columns</p>\n",
       "</div>"
      ],
      "text/plain": [
       "                                  grid_element  element_id  \\\n",
       "time  vegetation__species item_id                            \n",
       "0.0   Corn                6               cell         6.0   \n",
       "1.0   Corn                6               cell         6.0   \n",
       "29.0  Corn                6               cell         6.0   \n",
       "57.0  Corn                6               cell         6.0   \n",
       "85.0  Corn                6               cell         6.0   \n",
       "...                                        ...         ...   \n",
       "702.0 Corn                6               cell         6.0   \n",
       "709.0 Corn                6               cell         6.0   \n",
       "716.0 Corn                6               cell         6.0   \n",
       "723.0 Corn                6               cell         6.0   \n",
       "730.0 Corn                6               cell         6.0   \n",
       "\n",
       "                                   vegetation__root_biomass  \\\n",
       "time  vegetation__species item_id                             \n",
       "0.0   Corn                6                        0.300420   \n",
       "1.0   Corn                6                        0.300420   \n",
       "29.0  Corn                6                        0.300420   \n",
       "57.0  Corn                6                        0.300420   \n",
       "85.0  Corn                6                        0.300420   \n",
       "...                                                     ...   \n",
       "702.0 Corn                6                        5.089477   \n",
       "709.0 Corn                6                        5.089477   \n",
       "716.0 Corn                6                        5.089477   \n",
       "723.0 Corn                6                        5.089477   \n",
       "730.0 Corn                6                        5.089477   \n",
       "\n",
       "                                   vegetation__leaf_biomass  \\\n",
       "time  vegetation__species item_id                             \n",
       "0.0   Corn                6                        0.342232   \n",
       "1.0   Corn                6                        0.342232   \n",
       "29.0  Corn                6                        0.342232   \n",
       "57.0  Corn                6                        0.342232   \n",
       "85.0  Corn                6                        0.342232   \n",
       "...                                                     ...   \n",
       "702.0 Corn                6                        4.929485   \n",
       "709.0 Corn                6                        4.929485   \n",
       "716.0 Corn                6                        4.929485   \n",
       "723.0 Corn                6                        4.929485   \n",
       "730.0 Corn                6                        4.929485   \n",
       "\n",
       "                                   vegetation__stem_biomass  \n",
       "time  vegetation__species item_id                            \n",
       "0.0   Corn                6                        0.211562  \n",
       "1.0   Corn                6                        0.211562  \n",
       "29.0  Corn                6                        0.211562  \n",
       "57.0  Corn                6                        0.211562  \n",
       "85.0  Corn                6                        0.211562  \n",
       "...                                                     ...  \n",
       "702.0 Corn                6                        5.082936  \n",
       "709.0 Corn                6                        5.082936  \n",
       "716.0 Corn                6                        5.082936  \n",
       "723.0 Corn                6                        5.082936  \n",
       "730.0 Corn                6                        5.082936  \n",
       "\n",
       "[68 rows x 5 columns]"
      ]
     },
     "execution_count": 30,
     "metadata": {},
     "output_type": "execute_result"
    }
   ],
   "source": [
    "output.loc[:, 'Corn',6] #timestep,species,plant number in []"
   ]
  },
  {
   "cell_type": "code",
   "execution_count": null,
   "metadata": {},
   "outputs": [
    {
     "data": {
      "text/html": [
       "<div>\n",
       "<style scoped>\n",
       "    .dataframe tbody tr th:only-of-type {\n",
       "        vertical-align: middle;\n",
       "    }\n",
       "\n",
       "    .dataframe tbody tr th {\n",
       "        vertical-align: top;\n",
       "    }\n",
       "\n",
       "    .dataframe thead th {\n",
       "        text-align: right;\n",
       "    }\n",
       "</style>\n",
       "<table border=\"1\" class=\"dataframe\">\n",
       "  <thead>\n",
       "    <tr style=\"text-align: right;\">\n",
       "      <th></th>\n",
       "      <th></th>\n",
       "      <th>grid_element</th>\n",
       "      <th>element_id</th>\n",
       "      <th>vegetation__root_biomass</th>\n",
       "      <th>vegetation__leaf_biomass</th>\n",
       "      <th>vegetation__stem_biomass</th>\n",
       "    </tr>\n",
       "    <tr>\n",
       "      <th>vegetation__species</th>\n",
       "      <th>item_id</th>\n",
       "      <th></th>\n",
       "      <th></th>\n",
       "      <th></th>\n",
       "      <th></th>\n",
       "      <th></th>\n",
       "    </tr>\n",
       "  </thead>\n",
       "  <tbody>\n",
       "    <tr>\n",
       "      <th rowspan=\"5\" valign=\"top\">Corn</th>\n",
       "      <th>0</th>\n",
       "      <td>cell</td>\n",
       "      <td>0.0</td>\n",
       "      <td>0.918202</td>\n",
       "      <td>0.991162</td>\n",
       "      <td>0.710298</td>\n",
       "    </tr>\n",
       "    <tr>\n",
       "      <th>1</th>\n",
       "      <td>cell</td>\n",
       "      <td>1.0</td>\n",
       "      <td>0.893683</td>\n",
       "      <td>0.965981</td>\n",
       "      <td>0.689532</td>\n",
       "    </tr>\n",
       "    <tr>\n",
       "      <th>2</th>\n",
       "      <td>cell</td>\n",
       "      <td>2.0</td>\n",
       "      <td>1.122803</td>\n",
       "      <td>1.200071</td>\n",
       "      <td>0.885949</td>\n",
       "    </tr>\n",
       "    <tr>\n",
       "      <th>3</th>\n",
       "      <td>cell</td>\n",
       "      <td>3.0</td>\n",
       "      <td>0.698354</td>\n",
       "      <td>0.764069</td>\n",
       "      <td>0.526523</td>\n",
       "    </tr>\n",
       "    <tr>\n",
       "      <th>4</th>\n",
       "      <td>cell</td>\n",
       "      <td>4.0</td>\n",
       "      <td>1.183533</td>\n",
       "      <td>1.261701</td>\n",
       "      <td>0.938846</td>\n",
       "    </tr>\n",
       "    <tr>\n",
       "      <th>...</th>\n",
       "      <th>...</th>\n",
       "      <td>...</td>\n",
       "      <td>...</td>\n",
       "      <td>...</td>\n",
       "      <td>...</td>\n",
       "      <td>...</td>\n",
       "    </tr>\n",
       "    <tr>\n",
       "      <th rowspan=\"5\" valign=\"top\">Wheat</th>\n",
       "      <th>43</th>\n",
       "      <td>cell</td>\n",
       "      <td>61.0</td>\n",
       "      <td>0.313779</td>\n",
       "      <td>0.356688</td>\n",
       "      <td>0.221700</td>\n",
       "    </tr>\n",
       "    <tr>\n",
       "      <th>44</th>\n",
       "      <td>cell</td>\n",
       "      <td>62.0</td>\n",
       "      <td>0.225117</td>\n",
       "      <td>0.260100</td>\n",
       "      <td>0.155240</td>\n",
       "    </tr>\n",
       "    <tr>\n",
       "      <th>45</th>\n",
       "      <td>cell</td>\n",
       "      <td>62.0</td>\n",
       "      <td>0.224206</td>\n",
       "      <td>0.259098</td>\n",
       "      <td>0.154567</td>\n",
       "    </tr>\n",
       "    <tr>\n",
       "      <th>46</th>\n",
       "      <td>cell</td>\n",
       "      <td>63.0</td>\n",
       "      <td>0.378719</td>\n",
       "      <td>0.426559</td>\n",
       "      <td>0.271539</td>\n",
       "    </tr>\n",
       "    <tr>\n",
       "      <th>47</th>\n",
       "      <td>cell</td>\n",
       "      <td>63.0</td>\n",
       "      <td>0.232830</td>\n",
       "      <td>0.268567</td>\n",
       "      <td>0.160939</td>\n",
       "    </tr>\n",
       "  </tbody>\n",
       "</table>\n",
       "<p>96 rows × 5 columns</p>\n",
       "</div>"
      ],
      "text/plain": [
       "                            grid_element  element_id  \\\n",
       "vegetation__species item_id                            \n",
       "Corn                0               cell         0.0   \n",
       "                    1               cell         1.0   \n",
       "                    2               cell         2.0   \n",
       "                    3               cell         3.0   \n",
       "                    4               cell         4.0   \n",
       "...                                  ...         ...   \n",
       "Wheat               43              cell        61.0   \n",
       "                    44              cell        62.0   \n",
       "                    45              cell        62.0   \n",
       "                    46              cell        63.0   \n",
       "                    47              cell        63.0   \n",
       "\n",
       "                             vegetation__root_biomass  \\\n",
       "vegetation__species item_id                             \n",
       "Corn                0                        0.918202   \n",
       "                    1                        0.893683   \n",
       "                    2                        1.122803   \n",
       "                    3                        0.698354   \n",
       "                    4                        1.183533   \n",
       "...                                               ...   \n",
       "Wheat               43                       0.313779   \n",
       "                    44                       0.225117   \n",
       "                    45                       0.224206   \n",
       "                    46                       0.378719   \n",
       "                    47                       0.232830   \n",
       "\n",
       "                             vegetation__leaf_biomass  \\\n",
       "vegetation__species item_id                             \n",
       "Corn                0                        0.991162   \n",
       "                    1                        0.965981   \n",
       "                    2                        1.200071   \n",
       "                    3                        0.764069   \n",
       "                    4                        1.261701   \n",
       "...                                               ...   \n",
       "Wheat               43                       0.356688   \n",
       "                    44                       0.260100   \n",
       "                    45                       0.259098   \n",
       "                    46                       0.426559   \n",
       "                    47                       0.268567   \n",
       "\n",
       "                             vegetation__stem_biomass  \n",
       "vegetation__species item_id                            \n",
       "Corn                0                        0.710298  \n",
       "                    1                        0.689532  \n",
       "                    2                        0.885949  \n",
       "                    3                        0.526523  \n",
       "                    4                        0.938846  \n",
       "...                                               ...  \n",
       "Wheat               43                       0.221700  \n",
       "                    44                       0.155240  \n",
       "                    45                       0.154567  \n",
       "                    46                       0.271539  \n",
       "                    47                       0.160939  \n",
       "\n",
       "[96 rows x 5 columns]"
      ]
     },
     "execution_count": 31,
     "metadata": {},
     "output_type": "execute_result"
    }
   ],
   "source": [
    "output.loc[141.0]"
   ]
  },
  {
   "cell_type": "code",
   "execution_count": null,
   "metadata": {},
   "outputs": [
    {
     "data": {
      "text/plain": [
       "array([ 0.29946009,  0.29002385,  0.38110638, ...,  4.77874983,\n",
       "        4.79607886,  4.78008899])"
      ]
     },
     "metadata": {},
     "output_type": "display_data"
    }
   ],
   "source": [
    "biomass = output[\"vegetation__root_biomass\"].values\n",
    "display(biomass)\n"
   ]
  },
  {
   "cell_type": "code",
   "execution_count": null,
   "metadata": {},
   "outputs": [
    {
     "name": "stderr",
     "output_type": "stream",
     "text": [
      "c:\\Users\\RDEL1CDP\\Anaconda3\\lib\\site-packages\\scipy\\io\\netcdf.py:306: RuntimeWarning: Cannot close a netcdf_file opened with mmap=True, when netcdf_variables or arrays referring to its data still exist. All data arrays obtained from such files refer directly to data on disk, and must be copied before the file can be cleanly closed. (See netcdf_file docstring for more information on mmap.)\n",
      "  warnings.warn((\n"
     ]
    }
   ],
   "source": [
    "grid.close()"
   ]
  },
  {
   "cell_type": "code",
   "execution_count": null,
   "metadata": {},
   "outputs": [
    {
     "name": "stdout",
     "output_type": "stream",
     "text": [
      "True\n"
     ]
    }
   ],
   "source": [
    "print((0/28).is_integer())"
   ]
  },
  {
   "cell_type": "code",
   "execution_count": null,
   "metadata": {},
   "outputs": [],
   "source": []
  }
 ],
 "metadata": {
  "kernelspec": {
   "display_name": "Python 3.9.7 ('base')",
   "language": "python",
   "name": "python3"
  },
  "language_info": {
   "codemirror_mode": {
    "name": "ipython",
    "version": 3
   },
   "file_extension": ".py",
   "mimetype": "text/x-python",
   "name": "python",
   "nbconvert_exporter": "python",
   "pygments_lexer": "ipython3",
   "version": "3.9.7"
  },
  "orig_nbformat": 2,
  "vscode": {
   "interpreter": {
    "hash": "fd8d38f7fffbe48e6e8c262327b52ef8e91eb0cc795cec26bc569e80dcf3ffdc"
   }
  }
 },
 "nbformat": 4,
 "nbformat_minor": 2
}
